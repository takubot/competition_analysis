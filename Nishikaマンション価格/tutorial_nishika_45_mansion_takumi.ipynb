{
 "cells": [
  {
   "cell_type": "markdown",
   "metadata": {
    "id": "Jvzp1lvQpRgU"
   },
   "source": [
    "不動産価格予測"
   ]
  },
  {
   "cell_type": "code",
   "execution_count": 1,
   "metadata": {
    "id": "q-B-dw23y1OE"
   },
   "outputs": [],
   "source": [
    "import os"
   ]
  },
  {
   "cell_type": "code",
   "execution_count": 2,
   "metadata": {
    "id": "v1RMD76PpRgZ"
   },
   "outputs": [],
   "source": [
    "import re\n",
    "\n",
    "import japanize_matplotlib\n",
    "import lightgbm as lgb\n",
    "import matplotlib.pyplot as plt\n",
    "import numpy as np\n",
    "import optuna\n",
    "import pandas as pd\n",
    "import seaborn as sns\n",
    "sns.set(font=\"IPAexGothic\")\n",
    "\n",
    "from glob import glob\n",
    "from functools import partial\n",
    "from sklearn.metrics import mean_absolute_error\n",
    "from sklearn.model_selection import KFold\n",
    "from xfeat import SelectCategorical, LabelEncoder, LambdaEncoder, Pipeline, ConcatCombination, SelectNumerical, \\\n",
    "    ArithmeticCombinations, TargetEncoder, aggregation, GBDTFeatureSelector, GBDTFeatureExplorer"
   ]
  },
  {
   "cell_type": "markdown",
   "metadata": {
    "id": "R_iHYSIypRgb"
   },
   "source": [
    "コンペデータ作成（利用カラム、目的変数など決める）"
   ]
  },
  {
   "cell_type": "markdown",
   "metadata": {
    "id": "8EwCrA9KDrOS"
   },
   "source": [
    "dataディレクトリ配下に以下のようにデータを格納しているとする\n",
    "\n",
    "├─ input<br>\n",
    "│   ├─ data_explanation.xlsx<br>\n",
    "│   ├─ sample_submission.csv<br>\n",
    "│   ├─ test.csv<br>\n",
    "│   └─ train<br>\n",
    "│       &nbsp;&nbsp;&nbsp;&nbsp;&nbsp;&nbsp;&nbsp;&nbsp;├─ 01.csv<br>\n",
    "│       &nbsp;&nbsp;&nbsp;&nbsp;&nbsp;&nbsp;&nbsp;&nbsp;├─ 02.csv<br>\n",
    "│       &nbsp;&nbsp;&nbsp;&nbsp;&nbsp;&nbsp;&nbsp;&nbsp;├─ 03.csv<br>\n",
    "│       &nbsp;&nbsp;&nbsp;&nbsp;&nbsp;&nbsp;&nbsp;&nbsp;├─ ...<br>\n",
    "│       &nbsp;&nbsp;&nbsp;&nbsp;&nbsp;&nbsp;&nbsp;&nbsp;└─ 47.csv<br>\n",
    "└─ output\n"
   ]
  },
  {
   "cell_type": "code",
   "execution_count": 3,
   "metadata": {
    "colab": {
     "base_uri": "https://localhost:8080/"
    },
    "id": "dlvuK497pRgc",
    "outputId": "3745db92-9288-4bcb-8683-19b075278b0f"
   },
   "outputs": [
    {
     "name": "stderr",
     "output_type": "stream",
     "text": [
      "C:\\Users\\zekus\\AppData\\Local\\Temp\\ipykernel_5296\\492369810.py:4: DtypeWarning: Columns (10) have mixed types. Specify dtype option on import or set low_memory=False.\n",
      "  train_df = pd.read_csv(path)\n",
      "C:\\Users\\zekus\\AppData\\Local\\Temp\\ipykernel_5296\\492369810.py:4: DtypeWarning: Columns (10) have mixed types. Specify dtype option on import or set low_memory=False.\n",
      "  train_df = pd.read_csv(path)\n",
      "C:\\Users\\zekus\\AppData\\Local\\Temp\\ipykernel_5296\\492369810.py:4: DtypeWarning: Columns (10) have mixed types. Specify dtype option on import or set low_memory=False.\n",
      "  train_df = pd.read_csv(path)\n",
      "C:\\Users\\zekus\\AppData\\Local\\Temp\\ipykernel_5296\\492369810.py:4: DtypeWarning: Columns (10) have mixed types. Specify dtype option on import or set low_memory=False.\n",
      "  train_df = pd.read_csv(path)\n"
     ]
    }
   ],
   "source": [
    "paths = glob('train/*')\n",
    "train_dfs = []\n",
    "for path in paths:\n",
    "    train_df = pd.read_csv(path)\n",
    "    train_dfs.append(train_df)\n",
    "train_df = pd.concat(train_dfs)\n",
    "train_df.reset_index(drop=True, inplace=True)"
   ]
  },
  {
   "cell_type": "code",
   "execution_count": 4,
   "metadata": {
    "id": "PiK9xxQs0mzp"
   },
   "outputs": [],
   "source": [
    "test_df = pd.read_csv('test.csv')"
   ]
  },
  {
   "cell_type": "code",
   "execution_count": 5,
   "metadata": {
    "id": "SehETeyUpRgd"
   },
   "outputs": [],
   "source": [
    "sub_df = pd.read_csv('sample_submission.csv')"
   ]
  },
  {
   "cell_type": "code",
   "execution_count": 6,
   "metadata": {
    "id": "udqHdH9MpRgd"
   },
   "outputs": [],
   "source": [
    "ID = 'ID'\n",
    "TARGET = '取引価格（総額）_log'\n",
    "rm_cols = []"
   ]
  },
  {
   "cell_type": "code",
   "execution_count": 7,
   "metadata": {
    "colab": {
     "base_uri": "https://localhost:8080/"
    },
    "id": "8FoGfIwxpRge",
    "outputId": "6f124104-ea67-4269-df4e-2370ff70930c"
   },
   "outputs": [
    {
     "data": {
      "text/plain": [
       "['市区町村コード',\n",
       " '種類',\n",
       " '地域',\n",
       " '土地の形状',\n",
       " '間口',\n",
       " '延床面積（㎡）',\n",
       " '前面道路：方位',\n",
       " '前面道路：種類',\n",
       " '前面道路：幅員（ｍ）']"
      ]
     },
     "execution_count": 7,
     "metadata": {},
     "output_type": "execute_result"
    }
   ],
   "source": [
    "df = pd.concat([train_df, test_df])\n",
    "\n",
    "rm_cols += ['市区町村コード']\n",
    "for i,v in df.nunique().items():\n",
    "    if v <= 1:\n",
    "        rm_cols.append(i)\n",
    "\n",
    "rm_cols"
   ]
  },
  {
   "cell_type": "code",
   "execution_count": 8,
   "metadata": {
    "colab": {
     "base_uri": "https://localhost:8080/"
    },
    "id": "j1LZb8qMpRge",
    "outputId": "6de27b22-03cc-4627-b295-0a1f676e54ea"
   },
   "outputs": [
    {
     "data": {
      "text/plain": [
       "(784713, 19)"
      ]
     },
     "execution_count": 8,
     "metadata": {},
     "output_type": "execute_result"
    }
   ],
   "source": [
    "test_df[TARGET] = np.nan\n",
    "train_df.drop(rm_cols, axis=1, inplace=True)\n",
    "test_df.drop(rm_cols, axis=1, inplace=True)\n",
    "df = pd.concat([train_df, test_df])\n",
    "df.sort_values('取引時点', inplace=True)\n",
    "df.reset_index(drop=True, inplace=True)\n",
    "df.shape"
   ]
  },
  {
   "cell_type": "code",
   "execution_count": 9,
   "metadata": {
    "colab": {
     "base_uri": "https://localhost:8080/"
    },
    "id": "6oqA6qIynMO2",
    "outputId": "5d162f7c-4efb-4f55-8805-6e9340e3374e"
   },
   "outputs": [
    {
     "data": {
      "text/plain": [
       "array(['2005年第3四半期', '2005年第4四半期', '2006年第1四半期', '2006年第2四半期',\n",
       "       '2006年第3四半期', '2006年第4四半期', '2007年第1四半期', '2007年第2四半期',\n",
       "       '2007年第3四半期', '2007年第4四半期', '2008年第1四半期', '2008年第2四半期',\n",
       "       '2008年第3四半期', '2008年第4四半期', '2009年第1四半期', '2009年第2四半期',\n",
       "       '2009年第3四半期', '2009年第4四半期', '2010年第1四半期', '2010年第2四半期',\n",
       "       '2010年第3四半期', '2010年第4四半期', '2011年第1四半期', '2011年第2四半期',\n",
       "       '2011年第3四半期', '2011年第4四半期', '2012年第1四半期', '2012年第2四半期',\n",
       "       '2012年第3四半期', '2012年第4四半期', '2013年第1四半期', '2013年第2四半期',\n",
       "       '2013年第3四半期', '2013年第4四半期', '2014年第1四半期', '2014年第2四半期',\n",
       "       '2014年第3四半期', '2014年第4四半期', '2015年第1四半期', '2015年第2四半期',\n",
       "       '2015年第3四半期', '2015年第4四半期', '2016年第1四半期', '2016年第2四半期',\n",
       "       '2016年第3四半期', '2016年第4四半期', '2017年第1四半期', '2017年第2四半期',\n",
       "       '2017年第3四半期', '2017年第4四半期', '2018年第1四半期', '2018年第2四半期',\n",
       "       '2018年第3四半期', '2018年第4四半期', '2019年第1四半期', '2019年第2四半期',\n",
       "       '2019年第3四半期', '2019年第4四半期', '2020年第1四半期', '2020年第2四半期',\n",
       "       '2020年第3四半期', '2020年第4四半期', '2021年第1四半期', '2021年第2四半期',\n",
       "       '2021年第3四半期', '2021年第4四半期', '2022年第1四半期', '2022年第2四半期',\n",
       "       '2022年第3四半期'], dtype=object)"
      ]
     },
     "execution_count": 9,
     "metadata": {},
     "output_type": "execute_result"
    }
   ],
   "source": [
    "df['取引時点'].unique()"
   ]
  },
  {
   "cell_type": "code",
   "execution_count": 10,
   "metadata": {
    "colab": {
     "base_uri": "https://localhost:8080/"
    },
    "id": "yJl_gacnvmCY",
    "outputId": "94307e9d-f1ba-4317-ad81-eaafc6f7c077"
   },
   "outputs": [
    {
     "data": {
      "text/plain": [
       "(737092, 765412)"
      ]
     },
     "execution_count": 10,
     "metadata": {},
     "output_type": "execute_result"
    }
   ],
   "source": [
    "val_min_idx = min(df[df['取引時点'].str.contains('2021年第4四半期|2022年第1四半期', regex=True)].index)\n",
    "test_min_idx = min(df[df['取引時点'].str.contains('2022年第2四半期|2022年第3四半期', regex=True)].index)\n",
    "val_min_idx, test_min_idx"
   ]
  },
  {
   "cell_type": "code",
   "execution_count": 11,
   "metadata": {
    "colab": {
     "base_uri": "https://localhost:8080/"
    },
    "id": "za_6BA5X-A_X",
    "outputId": "8f2b07f9-0bb5-49a2-9000-26e92867874c"
   },
   "outputs": [
    {
     "data": {
      "text/plain": [
       "{'2021年第4四半期', '2022年第1四半期'}"
      ]
     },
     "execution_count": 11,
     "metadata": {},
     "output_type": "execute_result"
    }
   ],
   "source": [
    "set(df.iloc[val_min_idx:test_min_idx, :]['取引時点'].values)"
   ]
  },
  {
   "cell_type": "markdown",
   "metadata": {
    "id": "74WQqMxKpRge"
   },
   "source": [
    "特徴量生成"
   ]
  },
  {
   "cell_type": "code",
   "execution_count": 12,
   "metadata": {
    "colab": {
     "base_uri": "https://localhost:8080/"
    },
    "id": "0QnO7SjaoEqw",
    "outputId": "db82b042-e63c-4969-a522-0963d8083dbd"
   },
   "outputs": [
    {
     "data": {
      "text/plain": [
       "取引時点\n",
       "2020年第4四半期    15522\n",
       "2021年第2四半期    15072\n",
       "2020年第1四半期    14857\n",
       "2021年第1四半期    14782\n",
       "2021年第4四半期    14743\n",
       "              ...  \n",
       "2006年第3四半期     5395\n",
       "2006年第2四半期     5221\n",
       "2006年第1四半期     4322\n",
       "2005年第4四半期     3650\n",
       "2005年第3四半期     3535\n",
       "Name: count, Length: 69, dtype: int64"
      ]
     },
     "execution_count": 12,
     "metadata": {},
     "output_type": "execute_result"
    }
   ],
   "source": [
    "df[\"取引時点\"].value_counts()"
   ]
  },
  {
   "cell_type": "code",
   "execution_count": 13,
   "metadata": {
    "id": "U1-jbdrKpRgf"
   },
   "outputs": [],
   "source": [
    "enc_dic = {}\n",
    "for i, e in enumerate(sorted(list(set(df['取引時点'].values)))):\n",
    "    enc_dic[e] = i\n",
    "df['取引時点_enc'] = df['取引時点'].map(enc_dic)"
   ]
  },
  {
   "cell_type": "code",
   "execution_count": 14,
   "metadata": {
    "colab": {
     "base_uri": "https://localhost:8080/"
    },
    "id": "Pp70asTFpRgf",
    "outputId": "8dcf2f45-185e-40ef-ec9f-d400c8f4679f"
   },
   "outputs": [
    {
     "data": {
      "text/plain": [
       "{'三重県': 7.099989772836439,\n",
       " '京都府': 7.155935848555253,\n",
       " '佐賀県': 7.009937258263509,\n",
       " '兵庫県': 7.157742870483196,\n",
       " '北海道': 6.965967793677859,\n",
       " '千葉県': 7.155825324964995,\n",
       " '和歌山県': 7.022690210815773,\n",
       " '埼玉県': 7.1697442713966355,\n",
       " '大分県': 6.911537826573079,\n",
       " '大阪府': 7.158352973821201,\n",
       " '奈良県': 7.056884610234688,\n",
       " '宮城県': 7.0395442538048805,\n",
       " '宮崎県': 6.958678653711235,\n",
       " '富山県': 7.0469200713870155,\n",
       " '山口県': 7.045342730349803,\n",
       " '山形県': 7.087990602814902,\n",
       " '山梨県': 6.848839888686708,\n",
       " '岐阜県': 7.078095913486453,\n",
       " '岡山県': 7.03809073492747,\n",
       " '岩手県': 6.925002679060599,\n",
       " '島根県': 7.165376214700312,\n",
       " '広島県': 7.093449021655064,\n",
       " '徳島県': 6.912051981629745,\n",
       " '愛媛県': 6.966433011596662,\n",
       " '愛知県': 7.107301969238601,\n",
       " '新潟県': 6.913835156235044,\n",
       " '東京都': 7.377929204641064,\n",
       " '栃木県': 6.950636958071011,\n",
       " '沖縄県': 7.160046604428336,\n",
       " '滋賀県': 7.16602695816839,\n",
       " '熊本県': 6.970182251843263,\n",
       " '石川県': 6.929363348877185,\n",
       " '神奈川県': 7.2581182672098175,\n",
       " '福井県': 6.979575815840195,\n",
       " '福岡県': 6.992264905042226,\n",
       " '福島県': 6.9743805791401785,\n",
       " '秋田県': 6.94131374711264,\n",
       " '群馬県': 6.928069391036607,\n",
       " '茨城県': 7.075528163782812,\n",
       " '長崎県': 7.150784996001117,\n",
       " '長野県': 7.063121700154463,\n",
       " '青森県': 6.9556107539806185,\n",
       " '静岡県': 7.0170037911973155,\n",
       " '香川県': 6.903679020975967,\n",
       " '高知県': 6.98595825905006,\n",
       " '鳥取県': 6.940192902720598,\n",
       " '鹿児島県': 7.095567581694406}"
      ]
     },
     "execution_count": 14,
     "metadata": {},
     "output_type": "execute_result"
    }
   ],
   "source": [
    "te_dic = {}\n",
    "time_col = '取引時点_enc'\n",
    "group_col = '都道府県名'\n",
    "\n",
    "for i in set(df[time_col].values):\n",
    "    tmp_df = df[df[time_col] < i]\n",
    "    te_dic[i] = tmp_df.groupby(group_col)[TARGET].agg('mean').to_dict()\n",
    "\n",
    "te_dic[50]"
   ]
  },
  {
   "cell_type": "code",
   "execution_count": 15,
   "metadata": {
    "colab": {
     "base_uri": "https://localhost:8080/"
    },
    "id": "tX3bYed3GcjY",
    "outputId": "ca80a7d2-0503-4a66-8cfe-6757e472190d"
   },
   "outputs": [
    {
     "data": {
      "text/plain": [
       "ID                   0\n",
       "都道府県名                0\n",
       "市区町村名                0\n",
       "地区名                672\n",
       "最寄駅：名称            2796\n",
       "最寄駅：距離（分）        23222\n",
       "間取り              29096\n",
       "面積（㎡）                0\n",
       "建築年              22749\n",
       "建物の構造            22207\n",
       "用途               85301\n",
       "今後の利用目的         368167\n",
       "都市計画             20626\n",
       "建ぺい率（％）          25258\n",
       "容積率（％）           25258\n",
       "取引時点                 0\n",
       "改装               76197\n",
       "取引の事情等          758791\n",
       "取引価格（総額）_log     12745\n",
       "取引時点_enc             0\n",
       "dtype: int64"
      ]
     },
     "execution_count": 15,
     "metadata": {},
     "output_type": "execute_result"
    }
   ],
   "source": [
    "tmp_df.isnull().sum()"
   ]
  },
  {
   "cell_type": "code",
   "execution_count": 16,
   "metadata": {
    "id": "rArMjGd7pRgf"
   },
   "outputs": [],
   "source": [
    "def calc_te(row):\n",
    "    if row[time_col] in te_dic and row[group_col] in te_dic[row[time_col]]:\n",
    "        return te_dic[row[time_col]][row[group_col]]\n",
    "    else:\n",
    "        return 0\n",
    "\n",
    "df[group_col+'_te'] = df.apply(calc_te, axis=1)"
   ]
  },
  {
   "cell_type": "code",
   "execution_count": 17,
   "metadata": {
    "id": "HOI6X5MjpRgb"
   },
   "outputs": [],
   "source": [
    "def normalize_area(area):\n",
    "    if area == area:\n",
    "        area = int(re.sub('m\\^2未満|㎡以上', '', str(area)))\n",
    "    return area"
   ]
  },
  {
   "cell_type": "code",
   "execution_count": 18,
   "metadata": {
    "id": "444i0jHmpRgb"
   },
   "outputs": [],
   "source": [
    "def normalize_moyori(moyori):\n",
    "    if moyori == moyori:\n",
    "        if moyori == '30分?60分':\n",
    "            moyori = 45\n",
    "        elif moyori == '1H?1H30':\n",
    "            moyori = 75\n",
    "        elif moyori == '1H30?2H':\n",
    "            moyori = 105\n",
    "        elif moyori == '2H?':\n",
    "            moyori = 120\n",
    "        moyori = int(float(moyori))\n",
    "    return moyori"
   ]
  },
  {
   "cell_type": "code",
   "execution_count": 19,
   "metadata": {
    "id": "B6UWeBQqpRgb"
   },
   "outputs": [],
   "source": [
    "def convert_wareki_to_seireki(wareki):\n",
    "    if wareki == wareki:\n",
    "        if wareki == '戦前':\n",
    "            wareki = '昭和20年'\n",
    "        value = wareki[2:-1]\n",
    "        if value == '元':\n",
    "            value = 1\n",
    "        else:\n",
    "            value = int(value)\n",
    "        if '昭和' in wareki:\n",
    "            seireki = 1925+value\n",
    "        elif '平成' in wareki:\n",
    "            seireki = 1988+value\n",
    "        elif '令和' in wareki:\n",
    "            seireki = 2018+value\n",
    "    else:\n",
    "        seireki = wareki\n",
    "    return seireki"
   ]
  },
  {
   "cell_type": "code",
   "execution_count": 20,
   "metadata": {
    "id": "BTrJ3EC_pRgf"
   },
   "outputs": [],
   "source": [
    "df['取引時点_何年前'] = df['取引時点'].apply(lambda x: 2021-int(x[:4]))\n",
    "df.drop(['取引時点'], axis=1, inplace=True)\n",
    "df['建築年'] = df['建築年'].apply(lambda x: convert_wareki_to_seireki(x))\n",
    "df['面積（㎡）'] = df['面積（㎡）'].apply(lambda x: normalize_area(x))\n",
    "df['最寄駅：距離（分）'] = df['最寄駅：距離（分）'].apply(lambda x: normalize_moyori(x))"
   ]
  },
  {
   "cell_type": "markdown",
   "metadata": {
    "id": "9etidt99OaJE"
   },
   "source": [
    "#緯度経度取得"
   ]
  },
  {
   "cell_type": "code",
   "execution_count": 21,
   "metadata": {
    "id": "2EUk1wB35vE4"
   },
   "outputs": [],
   "source": [
    "import geocoder"
   ]
  },
  {
   "cell_type": "code",
   "execution_count": null,
   "metadata": {},
   "outputs": [],
   "source": []
  },
  {
   "cell_type": "code",
   "execution_count": 22,
   "metadata": {
    "colab": {
     "base_uri": "https://localhost:8080/",
     "height": 1000
    },
    "id": "w4NVsLy1Y2uN",
    "outputId": "cb04a55f-d3fe-4df2-cd93-38d290ab29c1"
   },
   "outputs": [],
   "source": [
    "# for i,j in df[\"都道府県名\"].value_counts().items():\n",
    "#   for k,l in df[df[\"都道府県名\"]==i][\"市区町村名\"].value_counts().items():\n",
    "#       for m,n in df[(df[\"市区町村名\"]==k) & (df[\"x\"].isnull())][\"地区名\"].value_counts().items():\n",
    "#         place=f\"{i} {k} {m}\"\n",
    "#         ret = geocoder.osm(place, timeout=5.0) # OpenStreetMapでジオコーディング\n",
    "#         ido=ret.latlng\n",
    "#         print(place,ido)\n",
    "#         df.loc[(df[\"都道府県名\"]==i)&(df[\"市区町村名\"]==k)&(df[\"地区名\"]==k),[\"x\",\"y\"]]=ido\n",
    "        \n",
    "\n"
   ]
  },
  {
   "cell_type": "code",
   "execution_count": 23,
   "metadata": {},
   "outputs": [
    {
     "name": "stderr",
     "output_type": "stream",
     "text": [
      "C:\\Users\\zekus\\AppData\\Local\\Temp\\ipykernel_5296\\1137521712.py:2: DtypeWarning: Columns (11) have mixed types. Specify dtype option on import or set low_memory=False.\n",
      "  df=pd.read_csv(\"latlng.csv\",encoding=\"utf-8\")\n"
     ]
    }
   ],
   "source": [
    "import pandas as pd\n",
    "df=pd.read_csv(\"latlng.csv\",encoding=\"utf-8\")"
   ]
  },
  {
   "cell_type": "code",
   "execution_count": null,
   "metadata": {},
   "outputs": [],
   "source": []
  },
  {
   "cell_type": "code",
   "execution_count": 12,
   "metadata": {
    "scrolled": true
   },
   "outputs": [
    {
     "name": "stdout",
     "output_type": "stream",
     "text": [
      "京都府 京都市中京区  [35.009998, 135.751389] 0\n",
      "京都府 京都市下京区  [34.987606, 135.755478] 0\n",
      "京都府 京都市伏見区  [34.936111, 135.761383] 0\n",
      "京都府 京都市上京区  [35.029552, 135.756714] 0\n",
      "京都府 京都市上京区  [35.029552, 135.756714] 0\n",
      "京都府 京都市上京区  [35.029552, 135.756714] 0\n"
     ]
    }
   ],
   "source": [
    "stop=0\n",
    "for i,j in df[\"都道府県名\"].value_counts().items():\n",
    "  for k,l in df[df[\"都道府県名\"]==i][\"市区町村名\"].value_counts().items():\n",
    "      for m,n in df[(df[\"市区町村名\"]==k) & (df[\"x\"].isnull())][\"最寄駅：名称\"].value_counts().items():\n",
    "        place=f\"{i} {k} \"\n",
    "        s_quote = urllib.parse.quote(place)\n",
    "        makeUrl = \"https://msearch.gsi.go.jp/address-search/AddressSearch?q=\"\n",
    "        response = requests.get(makeUrl + s_quote)\n",
    "        try:\n",
    "            ido=response.json()[0][\"geometry\"][\"coordinates\"][::-1]\n",
    "            print(place,ido,stop)\n",
    "            \n",
    "            df.loc[(df[\"都道府県名\"]==i)&(df[\"市区町村名\"]==k)&(df[\"最寄駅：名称\"]==m),[\"x\",\"y\"]]=ido\n",
    "            time.sleep(0.3)\n",
    "        except IndexError:\n",
    "            print(place)\n",
    "        \n",
    "\n",
    "\n",
    "\n",
    "      \n",
    "        "
   ]
  },
  {
   "cell_type": "code",
   "execution_count": 9,
   "metadata": {},
   "outputs": [
    {
     "data": {
      "text/html": [
       "<div>\n",
       "<style scoped>\n",
       "    .dataframe tbody tr th:only-of-type {\n",
       "        vertical-align: middle;\n",
       "    }\n",
       "\n",
       "    .dataframe tbody tr th {\n",
       "        vertical-align: top;\n",
       "    }\n",
       "\n",
       "    .dataframe thead th {\n",
       "        text-align: right;\n",
       "    }\n",
       "</style>\n",
       "<table border=\"1\" class=\"dataframe\">\n",
       "  <thead>\n",
       "    <tr style=\"text-align: right;\">\n",
       "      <th></th>\n",
       "      <th>ID</th>\n",
       "      <th>都道府県名</th>\n",
       "      <th>市区町村名</th>\n",
       "      <th>地区名</th>\n",
       "      <th>最寄駅：名称</th>\n",
       "      <th>最寄駅：距離（分）</th>\n",
       "      <th>間取り</th>\n",
       "      <th>面積（㎡）</th>\n",
       "      <th>建築年</th>\n",
       "      <th>建物の構造</th>\n",
       "      <th>...</th>\n",
       "      <th>建ぺい率（％）</th>\n",
       "      <th>容積率（％）</th>\n",
       "      <th>改装</th>\n",
       "      <th>取引の事情等</th>\n",
       "      <th>取引価格（総額）_log</th>\n",
       "      <th>取引時点_enc</th>\n",
       "      <th>都道府県名_te</th>\n",
       "      <th>取引時点_何年前</th>\n",
       "      <th>x</th>\n",
       "      <th>y</th>\n",
       "    </tr>\n",
       "  </thead>\n",
       "  <tbody>\n",
       "    <tr>\n",
       "      <th>33</th>\n",
       "      <td>26088354</td>\n",
       "      <td>京都府</td>\n",
       "      <td>京都市右京区</td>\n",
       "      <td>太秦北路町</td>\n",
       "      <td>常盤(京都)</td>\n",
       "      <td>4.0</td>\n",
       "      <td>３ＬＤＫ</td>\n",
       "      <td>75</td>\n",
       "      <td>1992.0</td>\n",
       "      <td>ＲＣ</td>\n",
       "      <td>...</td>\n",
       "      <td>60.0</td>\n",
       "      <td>200.0</td>\n",
       "      <td>未改装</td>\n",
       "      <td>NaN</td>\n",
       "      <td>7.255273</td>\n",
       "      <td>0</td>\n",
       "      <td>0.00000</td>\n",
       "      <td>16</td>\n",
       "      <td>NaN</td>\n",
       "      <td>NaN</td>\n",
       "    </tr>\n",
       "    <tr>\n",
       "      <th>50</th>\n",
       "      <td>26083765</td>\n",
       "      <td>京都府</td>\n",
       "      <td>京都市上京区</td>\n",
       "      <td>滋野学区</td>\n",
       "      <td>丸太町(京都市営)</td>\n",
       "      <td>NaN</td>\n",
       "      <td>１Ｋ</td>\n",
       "      <td>20</td>\n",
       "      <td>1989.0</td>\n",
       "      <td>ＳＲＣ</td>\n",
       "      <td>...</td>\n",
       "      <td>80.0</td>\n",
       "      <td>600.0</td>\n",
       "      <td>未改装</td>\n",
       "      <td>NaN</td>\n",
       "      <td>6.707570</td>\n",
       "      <td>0</td>\n",
       "      <td>0.00000</td>\n",
       "      <td>16</td>\n",
       "      <td>NaN</td>\n",
       "      <td>NaN</td>\n",
       "    </tr>\n",
       "    <tr>\n",
       "      <th>52</th>\n",
       "      <td>26087763</td>\n",
       "      <td>京都府</td>\n",
       "      <td>京都市南区</td>\n",
       "      <td>吉祥院西ノ内町</td>\n",
       "      <td>西大路</td>\n",
       "      <td>15.0</td>\n",
       "      <td>３ＬＤＫ</td>\n",
       "      <td>90</td>\n",
       "      <td>2001.0</td>\n",
       "      <td>ＲＣ</td>\n",
       "      <td>...</td>\n",
       "      <td>60.0</td>\n",
       "      <td>200.0</td>\n",
       "      <td>改装済</td>\n",
       "      <td>NaN</td>\n",
       "      <td>7.447158</td>\n",
       "      <td>0</td>\n",
       "      <td>0.00000</td>\n",
       "      <td>16</td>\n",
       "      <td>NaN</td>\n",
       "      <td>NaN</td>\n",
       "    </tr>\n",
       "    <tr>\n",
       "      <th>95</th>\n",
       "      <td>26088182</td>\n",
       "      <td>京都府</td>\n",
       "      <td>京都市南区</td>\n",
       "      <td>東九条宇賀辺町</td>\n",
       "      <td>九条(京都)</td>\n",
       "      <td>5.0</td>\n",
       "      <td>２ＬＤＫ</td>\n",
       "      <td>45</td>\n",
       "      <td>1993.0</td>\n",
       "      <td>ＳＲＣ</td>\n",
       "      <td>...</td>\n",
       "      <td>80.0</td>\n",
       "      <td>600.0</td>\n",
       "      <td>改装済</td>\n",
       "      <td>NaN</td>\n",
       "      <td>6.875061</td>\n",
       "      <td>0</td>\n",
       "      <td>0.00000</td>\n",
       "      <td>16</td>\n",
       "      <td>NaN</td>\n",
       "      <td>NaN</td>\n",
       "    </tr>\n",
       "    <tr>\n",
       "      <th>115</th>\n",
       "      <td>26083956</td>\n",
       "      <td>京都府</td>\n",
       "      <td>京都市上京区</td>\n",
       "      <td>中立学区</td>\n",
       "      <td>今出川</td>\n",
       "      <td>NaN</td>\n",
       "      <td>２ＬＤＫ</td>\n",
       "      <td>85</td>\n",
       "      <td>1989.0</td>\n",
       "      <td>ＲＣ</td>\n",
       "      <td>...</td>\n",
       "      <td>60.0</td>\n",
       "      <td>200.0</td>\n",
       "      <td>未改装</td>\n",
       "      <td>NaN</td>\n",
       "      <td>7.518514</td>\n",
       "      <td>0</td>\n",
       "      <td>0.00000</td>\n",
       "      <td>16</td>\n",
       "      <td>NaN</td>\n",
       "      <td>NaN</td>\n",
       "    </tr>\n",
       "    <tr>\n",
       "      <th>...</th>\n",
       "      <td>...</td>\n",
       "      <td>...</td>\n",
       "      <td>...</td>\n",
       "      <td>...</td>\n",
       "      <td>...</td>\n",
       "      <td>...</td>\n",
       "      <td>...</td>\n",
       "      <td>...</td>\n",
       "      <td>...</td>\n",
       "      <td>...</td>\n",
       "      <td>...</td>\n",
       "      <td>...</td>\n",
       "      <td>...</td>\n",
       "      <td>...</td>\n",
       "      <td>...</td>\n",
       "      <td>...</td>\n",
       "      <td>...</td>\n",
       "      <td>...</td>\n",
       "      <td>...</td>\n",
       "      <td>...</td>\n",
       "      <td>...</td>\n",
       "    </tr>\n",
       "    <tr>\n",
       "      <th>784247</th>\n",
       "      <td>26017834</td>\n",
       "      <td>京都府</td>\n",
       "      <td>京都市山科区</td>\n",
       "      <td>東野門口町</td>\n",
       "      <td>東野(京都)</td>\n",
       "      <td>2.0</td>\n",
       "      <td>２ＬＤＫ</td>\n",
       "      <td>50</td>\n",
       "      <td>1975.0</td>\n",
       "      <td>ＲＣ</td>\n",
       "      <td>...</td>\n",
       "      <td>80.0</td>\n",
       "      <td>600.0</td>\n",
       "      <td>改装済</td>\n",
       "      <td>NaN</td>\n",
       "      <td>NaN</td>\n",
       "      <td>68</td>\n",
       "      <td>7.18641</td>\n",
       "      <td>-1</td>\n",
       "      <td>NaN</td>\n",
       "      <td>NaN</td>\n",
       "    </tr>\n",
       "    <tr>\n",
       "      <th>784248</th>\n",
       "      <td>26017833</td>\n",
       "      <td>京都府</td>\n",
       "      <td>京都市山科区</td>\n",
       "      <td>東野門口町</td>\n",
       "      <td>東野(京都)</td>\n",
       "      <td>3.0</td>\n",
       "      <td>２ＬＤＫ</td>\n",
       "      <td>45</td>\n",
       "      <td>1975.0</td>\n",
       "      <td>ＲＣ</td>\n",
       "      <td>...</td>\n",
       "      <td>60.0</td>\n",
       "      <td>200.0</td>\n",
       "      <td>未改装</td>\n",
       "      <td>NaN</td>\n",
       "      <td>NaN</td>\n",
       "      <td>68</td>\n",
       "      <td>7.18641</td>\n",
       "      <td>-1</td>\n",
       "      <td>NaN</td>\n",
       "      <td>NaN</td>\n",
       "    </tr>\n",
       "    <tr>\n",
       "      <th>784251</th>\n",
       "      <td>26017517</td>\n",
       "      <td>京都府</td>\n",
       "      <td>京都市山科区</td>\n",
       "      <td>西野左義長町</td>\n",
       "      <td>東野(京都)</td>\n",
       "      <td>11.0</td>\n",
       "      <td>３ＬＤＫ</td>\n",
       "      <td>70</td>\n",
       "      <td>2016.0</td>\n",
       "      <td>ＲＣ</td>\n",
       "      <td>...</td>\n",
       "      <td>60.0</td>\n",
       "      <td>200.0</td>\n",
       "      <td>NaN</td>\n",
       "      <td>NaN</td>\n",
       "      <td>NaN</td>\n",
       "      <td>68</td>\n",
       "      <td>7.18641</td>\n",
       "      <td>-1</td>\n",
       "      <td>NaN</td>\n",
       "      <td>NaN</td>\n",
       "    </tr>\n",
       "    <tr>\n",
       "      <th>784257</th>\n",
       "      <td>26017331</td>\n",
       "      <td>京都府</td>\n",
       "      <td>京都市山科区</td>\n",
       "      <td>椥辻草海道町</td>\n",
       "      <td>椥辻</td>\n",
       "      <td>1.0</td>\n",
       "      <td>３ＬＤＫ</td>\n",
       "      <td>80</td>\n",
       "      <td>1998.0</td>\n",
       "      <td>ＳＲＣ</td>\n",
       "      <td>...</td>\n",
       "      <td>80.0</td>\n",
       "      <td>600.0</td>\n",
       "      <td>未改装</td>\n",
       "      <td>NaN</td>\n",
       "      <td>NaN</td>\n",
       "      <td>68</td>\n",
       "      <td>7.18641</td>\n",
       "      <td>-1</td>\n",
       "      <td>NaN</td>\n",
       "      <td>NaN</td>\n",
       "    </tr>\n",
       "    <tr>\n",
       "      <th>784712</th>\n",
       "      <td>26010341</td>\n",
       "      <td>京都府</td>\n",
       "      <td>京都市南区</td>\n",
       "      <td>西九条蔵王町</td>\n",
       "      <td>東寺</td>\n",
       "      <td>3.0</td>\n",
       "      <td>１Ｋ</td>\n",
       "      <td>20</td>\n",
       "      <td>2013.0</td>\n",
       "      <td>ＲＣ</td>\n",
       "      <td>...</td>\n",
       "      <td>60.0</td>\n",
       "      <td>200.0</td>\n",
       "      <td>未改装</td>\n",
       "      <td>NaN</td>\n",
       "      <td>NaN</td>\n",
       "      <td>68</td>\n",
       "      <td>7.18641</td>\n",
       "      <td>-1</td>\n",
       "      <td>NaN</td>\n",
       "      <td>NaN</td>\n",
       "    </tr>\n",
       "  </tbody>\n",
       "</table>\n",
       "<p>17678 rows × 23 columns</p>\n",
       "</div>"
      ],
      "text/plain": [
       "              ID 都道府県名   市区町村名      地区名     最寄駅：名称  最寄駅：距離（分）   間取り  面積（㎡）  \\\n",
       "33      26088354   京都府  京都市右京区    太秦北路町     常盤(京都)        4.0  ３ＬＤＫ     75   \n",
       "50      26083765   京都府  京都市上京区     滋野学区  丸太町(京都市営)        NaN    １Ｋ     20   \n",
       "52      26087763   京都府   京都市南区  吉祥院西ノ内町        西大路       15.0  ３ＬＤＫ     90   \n",
       "95      26088182   京都府   京都市南区  東九条宇賀辺町     九条(京都)        5.0  ２ＬＤＫ     45   \n",
       "115     26083956   京都府  京都市上京区     中立学区        今出川        NaN  ２ＬＤＫ     85   \n",
       "...          ...   ...     ...      ...        ...        ...   ...    ...   \n",
       "784247  26017834   京都府  京都市山科区    東野門口町     東野(京都)        2.0  ２ＬＤＫ     50   \n",
       "784248  26017833   京都府  京都市山科区    東野門口町     東野(京都)        3.0  ２ＬＤＫ     45   \n",
       "784251  26017517   京都府  京都市山科区   西野左義長町     東野(京都)       11.0  ３ＬＤＫ     70   \n",
       "784257  26017331   京都府  京都市山科区   椥辻草海道町         椥辻        1.0  ３ＬＤＫ     80   \n",
       "784712  26010341   京都府   京都市南区   西九条蔵王町         東寺        3.0    １Ｋ     20   \n",
       "\n",
       "           建築年 建物の構造  ... 建ぺい率（％） 容積率（％）   改装  取引の事情等  取引価格（総額）_log 取引時点_enc  \\\n",
       "33      1992.0    ＲＣ  ...    60.0  200.0  未改装     NaN      7.255273        0   \n",
       "50      1989.0   ＳＲＣ  ...    80.0  600.0  未改装     NaN      6.707570        0   \n",
       "52      2001.0    ＲＣ  ...    60.0  200.0  改装済     NaN      7.447158        0   \n",
       "95      1993.0   ＳＲＣ  ...    80.0  600.0  改装済     NaN      6.875061        0   \n",
       "115     1989.0    ＲＣ  ...    60.0  200.0  未改装     NaN      7.518514        0   \n",
       "...        ...   ...  ...     ...    ...  ...     ...           ...      ...   \n",
       "784247  1975.0    ＲＣ  ...    80.0  600.0  改装済     NaN           NaN       68   \n",
       "784248  1975.0    ＲＣ  ...    60.0  200.0  未改装     NaN           NaN       68   \n",
       "784251  2016.0    ＲＣ  ...    60.0  200.0  NaN     NaN           NaN       68   \n",
       "784257  1998.0   ＳＲＣ  ...    80.0  600.0  未改装     NaN           NaN       68   \n",
       "784712  2013.0    ＲＣ  ...    60.0  200.0  未改装     NaN           NaN       68   \n",
       "\n",
       "       都道府県名_te  取引時点_何年前   x   y  \n",
       "33      0.00000        16 NaN NaN  \n",
       "50      0.00000        16 NaN NaN  \n",
       "52      0.00000        16 NaN NaN  \n",
       "95      0.00000        16 NaN NaN  \n",
       "115     0.00000        16 NaN NaN  \n",
       "...         ...       ...  ..  ..  \n",
       "784247  7.18641        -1 NaN NaN  \n",
       "784248  7.18641        -1 NaN NaN  \n",
       "784251  7.18641        -1 NaN NaN  \n",
       "784257  7.18641        -1 NaN NaN  \n",
       "784712  7.18641        -1 NaN NaN  \n",
       "\n",
       "[17678 rows x 23 columns]"
      ]
     },
     "execution_count": 9,
     "metadata": {},
     "output_type": "execute_result"
    }
   ],
   "source": [
    "df1=df[df[\"都道府県名\"]==\"京都府\"]\n",
    "df1[df1[\"x\"].isnull()]"
   ]
  },
  {
   "cell_type": "code",
   "execution_count": 7,
   "metadata": {},
   "outputs": [],
   "source": [
    "pre=\"岐阜県\"\n",
    "for k,l in df[df[\"都道府県名\"]==pre][\"市区町村名\"].value_counts().items():\n",
    "  for m,n in df[(df[\"市区町村名\"]==k) & (df[\"x\"].isnull())][\"地区名\"].value_counts().items():\n",
    "    makeUrl = \"https://msearch.gsi.go.jp/address-search/AddressSearch?q=\"\n",
    "    place=f\"{pre} {k} {m}\"\n",
    "    s_quote = urllib.parse.quote(place)\n",
    "    makeUrl = \"https://msearch.gsi.go.jp/address-search/AddressSearch?q=\"\n",
    "    response = requests.get(makeUrl + s_quote)\n",
    "    ido=response.json()[0][\"geometry\"][\"coordinates\"][::-1]\n",
    "    print(place,ido)\n",
    "    df.loc[(df[\"都道府県名\"]==pre)&(df[\"市区町村名\"]==k)&(df[\"地区名\"]==m),[\"x\",\"y\"]]=ido\n",
    "    time.sleep(0.5)\n",
    "   \n",
    "\n"
   ]
  },
  {
   "cell_type": "code",
   "execution_count": 16,
   "metadata": {},
   "outputs": [],
   "source": [
    "df.to_csv('latlng.csv', index=False)"
   ]
  },
  {
   "cell_type": "markdown",
   "metadata": {
    "id": "vRVIxvI5M9Ca"
   },
   "source": [
    "#欠損値データの前処理"
   ]
  },
  {
   "cell_type": "code",
   "execution_count": 24,
   "metadata": {
    "id": "QYR7Sd8QpRgg"
   },
   "outputs": [
    {
     "data": {
      "text/html": [
       "<div>\n",
       "<style scoped>\n",
       "    .dataframe tbody tr th:only-of-type {\n",
       "        vertical-align: middle;\n",
       "    }\n",
       "\n",
       "    .dataframe tbody tr th {\n",
       "        vertical-align: top;\n",
       "    }\n",
       "\n",
       "    .dataframe thead th {\n",
       "        text-align: right;\n",
       "    }\n",
       "</style>\n",
       "<table border=\"1\" class=\"dataframe\">\n",
       "  <thead>\n",
       "    <tr style=\"text-align: right;\">\n",
       "      <th></th>\n",
       "      <th>ID</th>\n",
       "      <th>最寄駅：距離（分）</th>\n",
       "      <th>面積（㎡）</th>\n",
       "      <th>建築年</th>\n",
       "      <th>建ぺい率（％）</th>\n",
       "      <th>容積率（％）</th>\n",
       "      <th>取引価格（総額）_log</th>\n",
       "      <th>取引時点_enc</th>\n",
       "      <th>都道府県名_te</th>\n",
       "      <th>取引時点_何年前</th>\n",
       "      <th>x</th>\n",
       "      <th>y</th>\n",
       "    </tr>\n",
       "  </thead>\n",
       "  <tbody>\n",
       "    <tr>\n",
       "      <th>0</th>\n",
       "      <td>23223862</td>\n",
       "      <td>13.0</td>\n",
       "      <td>75</td>\n",
       "      <td>1992.0</td>\n",
       "      <td>60.0</td>\n",
       "      <td>200.0</td>\n",
       "      <td>7.30103</td>\n",
       "      <td>0</td>\n",
       "      <td>0.0</td>\n",
       "      <td>16</td>\n",
       "      <td>35.157536</td>\n",
       "      <td>136.949966</td>\n",
       "    </tr>\n",
       "    <tr>\n",
       "      <th>1</th>\n",
       "      <td>13324027</td>\n",
       "      <td>5.0</td>\n",
       "      <td>20</td>\n",
       "      <td>2005.0</td>\n",
       "      <td>80.0</td>\n",
       "      <td>300.0</td>\n",
       "      <td>7.39794</td>\n",
       "      <td>0</td>\n",
       "      <td>0.0</td>\n",
       "      <td>16</td>\n",
       "      <td>35.703514</td>\n",
       "      <td>139.657944</td>\n",
       "    </tr>\n",
       "  </tbody>\n",
       "</table>\n",
       "</div>"
      ],
      "text/plain": [
       "         ID  最寄駅：距離（分）  面積（㎡）     建築年  建ぺい率（％）  容積率（％）  取引価格（総額）_log  \\\n",
       "0  23223862       13.0     75  1992.0     60.0   200.0       7.30103   \n",
       "1  13324027        5.0     20  2005.0     80.0   300.0       7.39794   \n",
       "\n",
       "   取引時点_enc  都道府県名_te  取引時点_何年前          x           y  \n",
       "0         0       0.0        16  35.157536  136.949966  \n",
       "1         0       0.0        16  35.703514  139.657944  "
      ]
     },
     "execution_count": 24,
     "metadata": {},
     "output_type": "execute_result"
    }
   ],
   "source": [
    "num_df = SelectNumerical().fit_transform(df)\n",
    "num_df.head(2)"
   ]
  },
  {
   "cell_type": "code",
   "execution_count": 25,
   "metadata": {
    "id": "Bp_KYSA0pRgg"
   },
   "outputs": [
    {
     "data": {
      "text/html": [
       "<div>\n",
       "<style scoped>\n",
       "    .dataframe tbody tr th:only-of-type {\n",
       "        vertical-align: middle;\n",
       "    }\n",
       "\n",
       "    .dataframe tbody tr th {\n",
       "        vertical-align: top;\n",
       "    }\n",
       "\n",
       "    .dataframe thead th {\n",
       "        text-align: right;\n",
       "    }\n",
       "</style>\n",
       "<table border=\"1\" class=\"dataframe\">\n",
       "  <thead>\n",
       "    <tr style=\"text-align: right;\">\n",
       "      <th></th>\n",
       "      <th>都道府県名</th>\n",
       "      <th>市区町村名</th>\n",
       "      <th>地区名</th>\n",
       "      <th>最寄駅：名称</th>\n",
       "      <th>間取り</th>\n",
       "      <th>建物の構造</th>\n",
       "      <th>用途</th>\n",
       "      <th>今後の利用目的</th>\n",
       "      <th>都市計画</th>\n",
       "      <th>改装</th>\n",
       "      <th>取引の事情等</th>\n",
       "    </tr>\n",
       "  </thead>\n",
       "  <tbody>\n",
       "    <tr>\n",
       "      <th>0</th>\n",
       "      <td>0</td>\n",
       "      <td>0</td>\n",
       "      <td>0</td>\n",
       "      <td>0</td>\n",
       "      <td>0</td>\n",
       "      <td>0</td>\n",
       "      <td>0</td>\n",
       "      <td>-1</td>\n",
       "      <td>0</td>\n",
       "      <td>0</td>\n",
       "      <td>-1</td>\n",
       "    </tr>\n",
       "    <tr>\n",
       "      <th>1</th>\n",
       "      <td>1</td>\n",
       "      <td>1</td>\n",
       "      <td>1</td>\n",
       "      <td>1</td>\n",
       "      <td>1</td>\n",
       "      <td>0</td>\n",
       "      <td>0</td>\n",
       "      <td>-1</td>\n",
       "      <td>1</td>\n",
       "      <td>0</td>\n",
       "      <td>-1</td>\n",
       "    </tr>\n",
       "    <tr>\n",
       "      <th>2</th>\n",
       "      <td>1</td>\n",
       "      <td>2</td>\n",
       "      <td>2</td>\n",
       "      <td>2</td>\n",
       "      <td>1</td>\n",
       "      <td>1</td>\n",
       "      <td>0</td>\n",
       "      <td>-1</td>\n",
       "      <td>2</td>\n",
       "      <td>0</td>\n",
       "      <td>-1</td>\n",
       "    </tr>\n",
       "    <tr>\n",
       "      <th>3</th>\n",
       "      <td>2</td>\n",
       "      <td>3</td>\n",
       "      <td>3</td>\n",
       "      <td>-1</td>\n",
       "      <td>2</td>\n",
       "      <td>0</td>\n",
       "      <td>0</td>\n",
       "      <td>-1</td>\n",
       "      <td>-1</td>\n",
       "      <td>0</td>\n",
       "      <td>-1</td>\n",
       "    </tr>\n",
       "    <tr>\n",
       "      <th>4</th>\n",
       "      <td>1</td>\n",
       "      <td>1</td>\n",
       "      <td>4</td>\n",
       "      <td>3</td>\n",
       "      <td>1</td>\n",
       "      <td>0</td>\n",
       "      <td>0</td>\n",
       "      <td>-1</td>\n",
       "      <td>1</td>\n",
       "      <td>0</td>\n",
       "      <td>-1</td>\n",
       "    </tr>\n",
       "    <tr>\n",
       "      <th>5</th>\n",
       "      <td>1</td>\n",
       "      <td>4</td>\n",
       "      <td>5</td>\n",
       "      <td>4</td>\n",
       "      <td>3</td>\n",
       "      <td>1</td>\n",
       "      <td>0</td>\n",
       "      <td>-1</td>\n",
       "      <td>3</td>\n",
       "      <td>1</td>\n",
       "      <td>-1</td>\n",
       "    </tr>\n",
       "    <tr>\n",
       "      <th>6</th>\n",
       "      <td>0</td>\n",
       "      <td>5</td>\n",
       "      <td>6</td>\n",
       "      <td>5</td>\n",
       "      <td>2</td>\n",
       "      <td>-1</td>\n",
       "      <td>0</td>\n",
       "      <td>-1</td>\n",
       "      <td>-1</td>\n",
       "      <td>0</td>\n",
       "      <td>-1</td>\n",
       "    </tr>\n",
       "    <tr>\n",
       "      <th>7</th>\n",
       "      <td>1</td>\n",
       "      <td>2</td>\n",
       "      <td>7</td>\n",
       "      <td>6</td>\n",
       "      <td>4</td>\n",
       "      <td>0</td>\n",
       "      <td>0</td>\n",
       "      <td>-1</td>\n",
       "      <td>4</td>\n",
       "      <td>0</td>\n",
       "      <td>-1</td>\n",
       "    </tr>\n",
       "    <tr>\n",
       "      <th>8</th>\n",
       "      <td>1</td>\n",
       "      <td>6</td>\n",
       "      <td>8</td>\n",
       "      <td>7</td>\n",
       "      <td>2</td>\n",
       "      <td>0</td>\n",
       "      <td>0</td>\n",
       "      <td>-1</td>\n",
       "      <td>2</td>\n",
       "      <td>0</td>\n",
       "      <td>-1</td>\n",
       "    </tr>\n",
       "    <tr>\n",
       "      <th>9</th>\n",
       "      <td>3</td>\n",
       "      <td>7</td>\n",
       "      <td>9</td>\n",
       "      <td>8</td>\n",
       "      <td>2</td>\n",
       "      <td>0</td>\n",
       "      <td>0</td>\n",
       "      <td>-1</td>\n",
       "      <td>0</td>\n",
       "      <td>0</td>\n",
       "      <td>-1</td>\n",
       "    </tr>\n",
       "    <tr>\n",
       "      <th>10</th>\n",
       "      <td>1</td>\n",
       "      <td>8</td>\n",
       "      <td>10</td>\n",
       "      <td>9</td>\n",
       "      <td>1</td>\n",
       "      <td>0</td>\n",
       "      <td>0</td>\n",
       "      <td>-1</td>\n",
       "      <td>1</td>\n",
       "      <td>0</td>\n",
       "      <td>-1</td>\n",
       "    </tr>\n",
       "    <tr>\n",
       "      <th>11</th>\n",
       "      <td>1</td>\n",
       "      <td>9</td>\n",
       "      <td>11</td>\n",
       "      <td>10</td>\n",
       "      <td>5</td>\n",
       "      <td>1</td>\n",
       "      <td>0</td>\n",
       "      <td>-1</td>\n",
       "      <td>3</td>\n",
       "      <td>0</td>\n",
       "      <td>-1</td>\n",
       "    </tr>\n",
       "    <tr>\n",
       "      <th>12</th>\n",
       "      <td>1</td>\n",
       "      <td>6</td>\n",
       "      <td>12</td>\n",
       "      <td>11</td>\n",
       "      <td>2</td>\n",
       "      <td>0</td>\n",
       "      <td>0</td>\n",
       "      <td>-1</td>\n",
       "      <td>1</td>\n",
       "      <td>0</td>\n",
       "      <td>-1</td>\n",
       "    </tr>\n",
       "    <tr>\n",
       "      <th>13</th>\n",
       "      <td>2</td>\n",
       "      <td>10</td>\n",
       "      <td>13</td>\n",
       "      <td>12</td>\n",
       "      <td>2</td>\n",
       "      <td>0</td>\n",
       "      <td>0</td>\n",
       "      <td>-1</td>\n",
       "      <td>-1</td>\n",
       "      <td>0</td>\n",
       "      <td>-1</td>\n",
       "    </tr>\n",
       "    <tr>\n",
       "      <th>14</th>\n",
       "      <td>3</td>\n",
       "      <td>11</td>\n",
       "      <td>14</td>\n",
       "      <td>13</td>\n",
       "      <td>6</td>\n",
       "      <td>0</td>\n",
       "      <td>0</td>\n",
       "      <td>-1</td>\n",
       "      <td>4</td>\n",
       "      <td>0</td>\n",
       "      <td>-1</td>\n",
       "    </tr>\n",
       "    <tr>\n",
       "      <th>15</th>\n",
       "      <td>4</td>\n",
       "      <td>12</td>\n",
       "      <td>15</td>\n",
       "      <td>14</td>\n",
       "      <td>2</td>\n",
       "      <td>0</td>\n",
       "      <td>0</td>\n",
       "      <td>-1</td>\n",
       "      <td>5</td>\n",
       "      <td>1</td>\n",
       "      <td>-1</td>\n",
       "    </tr>\n",
       "    <tr>\n",
       "      <th>16</th>\n",
       "      <td>2</td>\n",
       "      <td>13</td>\n",
       "      <td>16</td>\n",
       "      <td>15</td>\n",
       "      <td>7</td>\n",
       "      <td>2</td>\n",
       "      <td>0</td>\n",
       "      <td>-1</td>\n",
       "      <td>-1</td>\n",
       "      <td>1</td>\n",
       "      <td>-1</td>\n",
       "    </tr>\n",
       "    <tr>\n",
       "      <th>17</th>\n",
       "      <td>1</td>\n",
       "      <td>9</td>\n",
       "      <td>17</td>\n",
       "      <td>16</td>\n",
       "      <td>4</td>\n",
       "      <td>0</td>\n",
       "      <td>0</td>\n",
       "      <td>-1</td>\n",
       "      <td>4</td>\n",
       "      <td>0</td>\n",
       "      <td>-1</td>\n",
       "    </tr>\n",
       "    <tr>\n",
       "      <th>18</th>\n",
       "      <td>2</td>\n",
       "      <td>13</td>\n",
       "      <td>18</td>\n",
       "      <td>17</td>\n",
       "      <td>2</td>\n",
       "      <td>0</td>\n",
       "      <td>0</td>\n",
       "      <td>-1</td>\n",
       "      <td>-1</td>\n",
       "      <td>0</td>\n",
       "      <td>-1</td>\n",
       "    </tr>\n",
       "    <tr>\n",
       "      <th>19</th>\n",
       "      <td>3</td>\n",
       "      <td>14</td>\n",
       "      <td>19</td>\n",
       "      <td>18</td>\n",
       "      <td>1</td>\n",
       "      <td>0</td>\n",
       "      <td>0</td>\n",
       "      <td>-1</td>\n",
       "      <td>3</td>\n",
       "      <td>0</td>\n",
       "      <td>-1</td>\n",
       "    </tr>\n",
       "    <tr>\n",
       "      <th>20</th>\n",
       "      <td>1</td>\n",
       "      <td>15</td>\n",
       "      <td>20</td>\n",
       "      <td>19</td>\n",
       "      <td>-1</td>\n",
       "      <td>1</td>\n",
       "      <td>0</td>\n",
       "      <td>-1</td>\n",
       "      <td>3</td>\n",
       "      <td>0</td>\n",
       "      <td>-1</td>\n",
       "    </tr>\n",
       "    <tr>\n",
       "      <th>21</th>\n",
       "      <td>1</td>\n",
       "      <td>16</td>\n",
       "      <td>21</td>\n",
       "      <td>20</td>\n",
       "      <td>1</td>\n",
       "      <td>-1</td>\n",
       "      <td>0</td>\n",
       "      <td>-1</td>\n",
       "      <td>0</td>\n",
       "      <td>1</td>\n",
       "      <td>-1</td>\n",
       "    </tr>\n",
       "    <tr>\n",
       "      <th>22</th>\n",
       "      <td>1</td>\n",
       "      <td>6</td>\n",
       "      <td>22</td>\n",
       "      <td>21</td>\n",
       "      <td>2</td>\n",
       "      <td>1</td>\n",
       "      <td>0</td>\n",
       "      <td>-1</td>\n",
       "      <td>4</td>\n",
       "      <td>1</td>\n",
       "      <td>-1</td>\n",
       "    </tr>\n",
       "    <tr>\n",
       "      <th>23</th>\n",
       "      <td>1</td>\n",
       "      <td>17</td>\n",
       "      <td>23</td>\n",
       "      <td>22</td>\n",
       "      <td>2</td>\n",
       "      <td>0</td>\n",
       "      <td>0</td>\n",
       "      <td>-1</td>\n",
       "      <td>2</td>\n",
       "      <td>0</td>\n",
       "      <td>-1</td>\n",
       "    </tr>\n",
       "    <tr>\n",
       "      <th>24</th>\n",
       "      <td>1</td>\n",
       "      <td>9</td>\n",
       "      <td>24</td>\n",
       "      <td>23</td>\n",
       "      <td>1</td>\n",
       "      <td>1</td>\n",
       "      <td>0</td>\n",
       "      <td>-1</td>\n",
       "      <td>4</td>\n",
       "      <td>-1</td>\n",
       "      <td>-1</td>\n",
       "    </tr>\n",
       "    <tr>\n",
       "      <th>25</th>\n",
       "      <td>0</td>\n",
       "      <td>18</td>\n",
       "      <td>25</td>\n",
       "      <td>24</td>\n",
       "      <td>3</td>\n",
       "      <td>1</td>\n",
       "      <td>0</td>\n",
       "      <td>-1</td>\n",
       "      <td>3</td>\n",
       "      <td>1</td>\n",
       "      <td>-1</td>\n",
       "    </tr>\n",
       "    <tr>\n",
       "      <th>26</th>\n",
       "      <td>2</td>\n",
       "      <td>13</td>\n",
       "      <td>26</td>\n",
       "      <td>25</td>\n",
       "      <td>2</td>\n",
       "      <td>0</td>\n",
       "      <td>0</td>\n",
       "      <td>-1</td>\n",
       "      <td>-1</td>\n",
       "      <td>0</td>\n",
       "      <td>-1</td>\n",
       "    </tr>\n",
       "    <tr>\n",
       "      <th>27</th>\n",
       "      <td>1</td>\n",
       "      <td>19</td>\n",
       "      <td>27</td>\n",
       "      <td>26</td>\n",
       "      <td>2</td>\n",
       "      <td>1</td>\n",
       "      <td>0</td>\n",
       "      <td>-1</td>\n",
       "      <td>3</td>\n",
       "      <td>1</td>\n",
       "      <td>-1</td>\n",
       "    </tr>\n",
       "    <tr>\n",
       "      <th>28</th>\n",
       "      <td>2</td>\n",
       "      <td>20</td>\n",
       "      <td>28</td>\n",
       "      <td>27</td>\n",
       "      <td>4</td>\n",
       "      <td>0</td>\n",
       "      <td>0</td>\n",
       "      <td>-1</td>\n",
       "      <td>5</td>\n",
       "      <td>0</td>\n",
       "      <td>-1</td>\n",
       "    </tr>\n",
       "    <tr>\n",
       "      <th>29</th>\n",
       "      <td>2</td>\n",
       "      <td>21</td>\n",
       "      <td>29</td>\n",
       "      <td>28</td>\n",
       "      <td>8</td>\n",
       "      <td>0</td>\n",
       "      <td>0</td>\n",
       "      <td>-1</td>\n",
       "      <td>-1</td>\n",
       "      <td>-1</td>\n",
       "      <td>-1</td>\n",
       "    </tr>\n",
       "  </tbody>\n",
       "</table>\n",
       "</div>"
      ],
      "text/plain": [
       "    都道府県名  市区町村名  地区名  最寄駅：名称  間取り  建物の構造  用途  今後の利用目的  都市計画  改装  取引の事情等\n",
       "0       0      0    0       0    0      0   0       -1     0   0      -1\n",
       "1       1      1    1       1    1      0   0       -1     1   0      -1\n",
       "2       1      2    2       2    1      1   0       -1     2   0      -1\n",
       "3       2      3    3      -1    2      0   0       -1    -1   0      -1\n",
       "4       1      1    4       3    1      0   0       -1     1   0      -1\n",
       "5       1      4    5       4    3      1   0       -1     3   1      -1\n",
       "6       0      5    6       5    2     -1   0       -1    -1   0      -1\n",
       "7       1      2    7       6    4      0   0       -1     4   0      -1\n",
       "8       1      6    8       7    2      0   0       -1     2   0      -1\n",
       "9       3      7    9       8    2      0   0       -1     0   0      -1\n",
       "10      1      8   10       9    1      0   0       -1     1   0      -1\n",
       "11      1      9   11      10    5      1   0       -1     3   0      -1\n",
       "12      1      6   12      11    2      0   0       -1     1   0      -1\n",
       "13      2     10   13      12    2      0   0       -1    -1   0      -1\n",
       "14      3     11   14      13    6      0   0       -1     4   0      -1\n",
       "15      4     12   15      14    2      0   0       -1     5   1      -1\n",
       "16      2     13   16      15    7      2   0       -1    -1   1      -1\n",
       "17      1      9   17      16    4      0   0       -1     4   0      -1\n",
       "18      2     13   18      17    2      0   0       -1    -1   0      -1\n",
       "19      3     14   19      18    1      0   0       -1     3   0      -1\n",
       "20      1     15   20      19   -1      1   0       -1     3   0      -1\n",
       "21      1     16   21      20    1     -1   0       -1     0   1      -1\n",
       "22      1      6   22      21    2      1   0       -1     4   1      -1\n",
       "23      1     17   23      22    2      0   0       -1     2   0      -1\n",
       "24      1      9   24      23    1      1   0       -1     4  -1      -1\n",
       "25      0     18   25      24    3      1   0       -1     3   1      -1\n",
       "26      2     13   26      25    2      0   0       -1    -1   0      -1\n",
       "27      1     19   27      26    2      1   0       -1     3   1      -1\n",
       "28      2     20   28      27    4      0   0       -1     5   0      -1\n",
       "29      2     21   29      28    8      0   0       -1    -1  -1      -1"
      ]
     },
     "execution_count": 25,
     "metadata": {},
     "output_type": "execute_result"
    }
   ],
   "source": [
    "encoder = Pipeline([\n",
    "    SelectCategorical(),\n",
    "    LabelEncoder(output_suffix=\"\"),\n",
    "])\n",
    "\n",
    "le_df = encoder.fit_transform(df)\n",
    "le_df.head(30)"
   ]
  },
  {
   "cell_type": "code",
   "execution_count": 26,
   "metadata": {
    "id": "L5GKKJT-pRgg"
   },
   "outputs": [
    {
     "data": {
      "text/html": [
       "<div>\n",
       "<style scoped>\n",
       "    .dataframe tbody tr th:only-of-type {\n",
       "        vertical-align: middle;\n",
       "    }\n",
       "\n",
       "    .dataframe tbody tr th {\n",
       "        vertical-align: top;\n",
       "    }\n",
       "\n",
       "    .dataframe thead th {\n",
       "        text-align: right;\n",
       "    }\n",
       "</style>\n",
       "<table border=\"1\" class=\"dataframe\">\n",
       "  <thead>\n",
       "    <tr style=\"text-align: right;\">\n",
       "      <th></th>\n",
       "      <th>agg_mean_最寄駅：距離（分）_grpby_都道府県名</th>\n",
       "      <th>agg_mean_面積（㎡）_grpby_都道府県名</th>\n",
       "      <th>agg_mean_建ぺい率（％）_grpby_都道府県名</th>\n",
       "      <th>agg_mean_容積率（％）_grpby_都道府県名</th>\n",
       "    </tr>\n",
       "  </thead>\n",
       "  <tbody>\n",
       "    <tr>\n",
       "      <th>0</th>\n",
       "      <td>12.752583</td>\n",
       "      <td>68.076974</td>\n",
       "      <td>66.140242</td>\n",
       "      <td>275.814381</td>\n",
       "    </tr>\n",
       "    <tr>\n",
       "      <th>1</th>\n",
       "      <td>7.784418</td>\n",
       "      <td>47.868600</td>\n",
       "      <td>68.932924</td>\n",
       "      <td>353.752354</td>\n",
       "    </tr>\n",
       "    <tr>\n",
       "      <th>2</th>\n",
       "      <td>7.784418</td>\n",
       "      <td>47.868600</td>\n",
       "      <td>68.932924</td>\n",
       "      <td>353.752354</td>\n",
       "    </tr>\n",
       "    <tr>\n",
       "      <th>3</th>\n",
       "      <td>13.499991</td>\n",
       "      <td>58.506560</td>\n",
       "      <td>65.420474</td>\n",
       "      <td>257.171312</td>\n",
       "    </tr>\n",
       "    <tr>\n",
       "      <th>4</th>\n",
       "      <td>7.784418</td>\n",
       "      <td>47.868600</td>\n",
       "      <td>68.932924</td>\n",
       "      <td>353.752354</td>\n",
       "    </tr>\n",
       "    <tr>\n",
       "      <th>...</th>\n",
       "      <td>...</td>\n",
       "      <td>...</td>\n",
       "      <td>...</td>\n",
       "      <td>...</td>\n",
       "    </tr>\n",
       "    <tr>\n",
       "      <th>784708</th>\n",
       "      <td>7.784418</td>\n",
       "      <td>47.868600</td>\n",
       "      <td>68.932924</td>\n",
       "      <td>353.752354</td>\n",
       "    </tr>\n",
       "    <tr>\n",
       "      <th>784709</th>\n",
       "      <td>9.114751</td>\n",
       "      <td>60.217565</td>\n",
       "      <td>70.410319</td>\n",
       "      <td>335.128422</td>\n",
       "    </tr>\n",
       "    <tr>\n",
       "      <th>784710</th>\n",
       "      <td>9.114751</td>\n",
       "      <td>60.217565</td>\n",
       "      <td>70.410319</td>\n",
       "      <td>335.128422</td>\n",
       "    </tr>\n",
       "    <tr>\n",
       "      <th>784711</th>\n",
       "      <td>9.114751</td>\n",
       "      <td>60.217565</td>\n",
       "      <td>70.410319</td>\n",
       "      <td>335.128422</td>\n",
       "    </tr>\n",
       "    <tr>\n",
       "      <th>784712</th>\n",
       "      <td>9.987606</td>\n",
       "      <td>55.917109</td>\n",
       "      <td>68.260275</td>\n",
       "      <td>330.429048</td>\n",
       "    </tr>\n",
       "  </tbody>\n",
       "</table>\n",
       "<p>784713 rows × 4 columns</p>\n",
       "</div>"
      ],
      "text/plain": [
       "        agg_mean_最寄駅：距離（分）_grpby_都道府県名  agg_mean_面積（㎡）_grpby_都道府県名  \\\n",
       "0                            12.752583                   68.076974   \n",
       "1                             7.784418                   47.868600   \n",
       "2                             7.784418                   47.868600   \n",
       "3                            13.499991                   58.506560   \n",
       "4                             7.784418                   47.868600   \n",
       "...                                ...                         ...   \n",
       "784708                        7.784418                   47.868600   \n",
       "784709                        9.114751                   60.217565   \n",
       "784710                        9.114751                   60.217565   \n",
       "784711                        9.114751                   60.217565   \n",
       "784712                        9.987606                   55.917109   \n",
       "\n",
       "        agg_mean_建ぺい率（％）_grpby_都道府県名  agg_mean_容積率（％）_grpby_都道府県名  \n",
       "0                          66.140242                   275.814381  \n",
       "1                          68.932924                   353.752354  \n",
       "2                          68.932924                   353.752354  \n",
       "3                          65.420474                   257.171312  \n",
       "4                          68.932924                   353.752354  \n",
       "...                              ...                          ...  \n",
       "784708                     68.932924                   353.752354  \n",
       "784709                     70.410319                   335.128422  \n",
       "784710                     70.410319                   335.128422  \n",
       "784711                     70.410319                   335.128422  \n",
       "784712                     68.260275                   330.429048  \n",
       "\n",
       "[784713 rows x 4 columns]"
      ]
     },
     "execution_count": 26,
     "metadata": {},
     "output_type": "execute_result"
    }
   ],
   "source": [
    "agg_dfs = []\n",
    "\n",
    "def get_agg_df(df, group_col):\n",
    "\n",
    "    agg_df, agg_cols = aggregation(df,\n",
    "                        group_key=group_col,\n",
    "                        group_values=['最寄駅：距離（分）', '面積（㎡）', '建ぺい率（％）', '容積率（％）'],\n",
    "                        agg_methods=['mean'],\n",
    "                        )\n",
    "\n",
    "    return agg_df[agg_cols]\n",
    "\n",
    "group_col_1 = '市区町村名'\n",
    "group_col_2=\"都道府県名\"\n",
    "agg_dfs.append(get_agg_df(df, group_col_1))\n",
    "agg_dfs.append(get_agg_df(df, group_col_2))\n",
    "\n",
    "agg_dfs[1]"
   ]
  },
  {
   "cell_type": "code",
   "execution_count": 27,
   "metadata": {
    "id": "SyT-F_j9pRgh"
   },
   "outputs": [
    {
     "name": "stdout",
     "output_type": "stream",
     "text": [
      "(784713, 31)\n"
     ]
    }
   ],
   "source": [
    "feat_df = pd.concat([num_df,le_df,agg_dfs[0],agg_dfs[1]], axis=1)\n",
    "print(feat_df.shape)"
   ]
  },
  {
   "cell_type": "code",
   "execution_count": null,
   "metadata": {
    "id": "nsoceN5ghDJk"
   },
   "outputs": [],
   "source": []
  },
  {
   "cell_type": "code",
   "execution_count": 28,
   "metadata": {
    "id": "sXrABkIcWpO5"
   },
   "outputs": [
    {
     "data": {
      "text/plain": [
       "ID                   0\n",
       "都道府県名                0\n",
       "市区町村名                0\n",
       "地区名                672\n",
       "最寄駅：名称            2800\n",
       "最寄駅：距離（分）        23226\n",
       "間取り              29520\n",
       "面積（㎡）                0\n",
       "建築年              22956\n",
       "建物の構造            22552\n",
       "用途               86921\n",
       "今後の利用目的         368468\n",
       "都市計画             20698\n",
       "建ぺい率（％）          25357\n",
       "容積率（％）           25357\n",
       "改装               77297\n",
       "取引の事情等          765272\n",
       "取引価格（総額）_log     19301\n",
       "取引時点_enc             0\n",
       "都道府県名_te             0\n",
       "取引時点_何年前             0\n",
       "x                   14\n",
       "y                   14\n",
       "dtype: int64"
      ]
     },
     "execution_count": 28,
     "metadata": {},
     "output_type": "execute_result"
    }
   ],
   "source": [
    "df.isnull().sum()"
   ]
  },
  {
   "cell_type": "code",
   "execution_count": 29,
   "metadata": {
    "id": "h1bC2gvgXfMf"
   },
   "outputs": [
    {
     "data": {
      "text/plain": [
       "ID                                    0\n",
       "最寄駅：距離（分）                         23226\n",
       "面積（㎡）                                 0\n",
       "建築年                               22956\n",
       "建ぺい率（％）                           25357\n",
       "容積率（％）                            25357\n",
       "取引価格（総額）_log                      19301\n",
       "取引時点_enc                              0\n",
       "都道府県名_te                              0\n",
       "取引時点_何年前                              0\n",
       "x                                    14\n",
       "y                                    14\n",
       "都道府県名                                 0\n",
       "市区町村名                                 0\n",
       "地区名                                   0\n",
       "最寄駅：名称                                0\n",
       "間取り                                   0\n",
       "建物の構造                                 0\n",
       "用途                                    0\n",
       "今後の利用目的                               0\n",
       "都市計画                                  0\n",
       "改装                                    0\n",
       "取引の事情等                                0\n",
       "agg_mean_最寄駅：距離（分）_grpby_市区町村名      256\n",
       "agg_mean_面積（㎡）_grpby_市区町村名            0\n",
       "agg_mean_建ぺい率（％）_grpby_市区町村名          8\n",
       "agg_mean_容積率（％）_grpby_市区町村名           8\n",
       "agg_mean_最寄駅：距離（分）_grpby_都道府県名        0\n",
       "agg_mean_面積（㎡）_grpby_都道府県名            0\n",
       "agg_mean_建ぺい率（％）_grpby_都道府県名          0\n",
       "agg_mean_容積率（％）_grpby_都道府県名           0\n",
       "dtype: int64"
      ]
     },
     "execution_count": 29,
     "metadata": {},
     "output_type": "execute_result"
    }
   ],
   "source": [
    "feat_df.isnull().sum()"
   ]
  },
  {
   "cell_type": "code",
   "execution_count": 30,
   "metadata": {
    "id": "dEp5wyAJRy-z"
   },
   "outputs": [],
   "source": [
    "feat_df[\"最寄駅：距離（分）\"]=df[\"最寄駅：距離（分）\"].fillna(feat_df[\"agg_mean_最寄駅：距離（分）_grpby_市区町村名\"])\n",
    "feat_df[\"最寄駅：距離（分）\"]=df[\"最寄駅：距離（分）\"].fillna(feat_df[\"agg_mean_最寄駅：距離（分）_grpby_都道府県名\"])\n",
    "feat_df[\"建ぺい率（％）\"]=df[\"建ぺい率（％）\"].fillna(feat_df[\"agg_mean_建ぺい率（％）_grpby_市区町村名\"])\n",
    "feat_df[\"建ぺい率（％）\"]=df[\"建ぺい率（％）\"].fillna(feat_df[\"agg_mean_建ぺい率（％）_grpby_都道府県名\"])\n",
    "feat_df[\"容積率（％）\"]=df[\"容積率（％）\"].fillna(feat_df[\"agg_mean_容積率（％）_grpby_市区町村名\"])\n",
    "feat_df[\"容積率（％）\"]=df[\"容積率（％）\"].fillna(feat_df[\"agg_mean_容積率（％）_grpby_都道府県名\"])"
   ]
  },
  {
   "cell_type": "code",
   "execution_count": 31,
   "metadata": {
    "id": "76ptsFnaW_bE"
   },
   "outputs": [
    {
     "data": {
      "text/html": [
       "<div>\n",
       "<style scoped>\n",
       "    .dataframe tbody tr th:only-of-type {\n",
       "        vertical-align: middle;\n",
       "    }\n",
       "\n",
       "    .dataframe tbody tr th {\n",
       "        vertical-align: top;\n",
       "    }\n",
       "\n",
       "    .dataframe thead th {\n",
       "        text-align: right;\n",
       "    }\n",
       "</style>\n",
       "<table border=\"1\" class=\"dataframe\">\n",
       "  <thead>\n",
       "    <tr style=\"text-align: right;\">\n",
       "      <th></th>\n",
       "      <th>面積（㎡）容積率（％）_combi</th>\n",
       "    </tr>\n",
       "  </thead>\n",
       "  <tbody>\n",
       "    <tr>\n",
       "      <th>0</th>\n",
       "      <td>150.000000</td>\n",
       "    </tr>\n",
       "    <tr>\n",
       "      <th>1</th>\n",
       "      <td>60.000000</td>\n",
       "    </tr>\n",
       "    <tr>\n",
       "      <th>2</th>\n",
       "      <td>30.000000</td>\n",
       "    </tr>\n",
       "    <tr>\n",
       "      <th>3</th>\n",
       "      <td>154.302787</td>\n",
       "    </tr>\n",
       "    <tr>\n",
       "      <th>4</th>\n",
       "      <td>45.000000</td>\n",
       "    </tr>\n",
       "    <tr>\n",
       "      <th>...</th>\n",
       "      <td>...</td>\n",
       "    </tr>\n",
       "    <tr>\n",
       "      <th>784708</th>\n",
       "      <td>180.000000</td>\n",
       "    </tr>\n",
       "    <tr>\n",
       "      <th>784709</th>\n",
       "      <td>120.000000</td>\n",
       "    </tr>\n",
       "    <tr>\n",
       "      <th>784710</th>\n",
       "      <td>120.000000</td>\n",
       "    </tr>\n",
       "    <tr>\n",
       "      <th>784711</th>\n",
       "      <td>260.000000</td>\n",
       "    </tr>\n",
       "    <tr>\n",
       "      <th>784712</th>\n",
       "      <td>40.000000</td>\n",
       "    </tr>\n",
       "  </tbody>\n",
       "</table>\n",
       "<p>784713 rows × 1 columns</p>\n",
       "</div>"
      ],
      "text/plain": [
       "        面積（㎡）容積率（％）_combi\n",
       "0              150.000000\n",
       "1               60.000000\n",
       "2               30.000000\n",
       "3              154.302787\n",
       "4               45.000000\n",
       "...                   ...\n",
       "784708         180.000000\n",
       "784709         120.000000\n",
       "784710         120.000000\n",
       "784711         260.000000\n",
       "784712          40.000000\n",
       "\n",
       "[784713 rows x 1 columns]"
      ]
     },
     "execution_count": 31,
     "metadata": {},
     "output_type": "execute_result"
    }
   ],
   "source": [
    "encoder = Pipeline(\n",
    "    [\n",
    "        SelectNumerical(),\n",
    "        ArithmeticCombinations(\n",
    "            input_cols=[\"面積（㎡）\", \"容積率（％）\"],\n",
    "            drop_origin=True,\n",
    "            operator=\"*\",\n",
    "            r=2,\n",
    "        ),\n",
    "    ]\n",
    ")\n",
    "\n",
    "num_comb_df = encoder.fit_transform(feat_df)/100\n",
    "num_comb_df"
   ]
  },
  {
   "cell_type": "code",
   "execution_count": 32,
   "metadata": {
    "id": "L0B4Q-zPX3t0"
   },
   "outputs": [],
   "source": [
    "feat_df=pd.concat([feat_df,num_comb_df],axis=1)"
   ]
  },
  {
   "cell_type": "code",
   "execution_count": 33,
   "metadata": {
    "id": "f2l0HzUxYKRe"
   },
   "outputs": [],
   "source": [
    "feat_df=feat_df.drop(agg_dfs[1].columns,axis=1)\n"
   ]
  },
  {
   "cell_type": "code",
   "execution_count": 34,
   "metadata": {
    "colab": {
     "base_uri": "https://localhost:8080/"
    },
    "id": "ba94DQwmXPvs",
    "outputId": "3b6d95bd-cd8c-4b78-f2a1-2fd26f1271b0"
   },
   "outputs": [
    {
     "data": {
      "text/plain": [
       "ID                                    0\n",
       "最寄駅：距離（分）                             0\n",
       "面積（㎡）                                 0\n",
       "建築年                               22956\n",
       "建ぺい率（％）                               0\n",
       "容積率（％）                                0\n",
       "取引価格（総額）_log                      19301\n",
       "取引時点_enc                              0\n",
       "都道府県名_te                              0\n",
       "取引時点_何年前                              0\n",
       "x                                    14\n",
       "y                                    14\n",
       "都道府県名                                 0\n",
       "市区町村名                                 0\n",
       "地区名                                   0\n",
       "最寄駅：名称                                0\n",
       "間取り                                   0\n",
       "建物の構造                                 0\n",
       "用途                                    0\n",
       "今後の利用目的                               0\n",
       "都市計画                                  0\n",
       "改装                                    0\n",
       "取引の事情等                                0\n",
       "agg_mean_最寄駅：距離（分）_grpby_市区町村名      256\n",
       "agg_mean_面積（㎡）_grpby_市区町村名            0\n",
       "agg_mean_建ぺい率（％）_grpby_市区町村名          8\n",
       "agg_mean_容積率（％）_grpby_市区町村名           8\n",
       "面積（㎡）容積率（％）_combi                     0\n",
       "dtype: int64"
      ]
     },
     "execution_count": 34,
     "metadata": {},
     "output_type": "execute_result"
    }
   ],
   "source": [
    "feat_df.isnull().sum()"
   ]
  },
  {
   "cell_type": "markdown",
   "metadata": {
    "id": "gxbamqpbpRgh"
   },
   "source": [
    "モデル構築"
   ]
  },
  {
   "cell_type": "code",
   "execution_count": 35,
   "metadata": {
    "id": "5c1zZOWH9SFg"
   },
   "outputs": [],
   "source": [
    "train_df = feat_df.iloc[:val_min_idx, :]\n",
    "val_df = feat_df.iloc[val_min_idx:test_min_idx, :]\n",
    "test_df = feat_df.iloc[test_min_idx:, :]"
   ]
  },
  {
   "cell_type": "code",
   "execution_count": 36,
   "metadata": {
    "id": "QAQjmbAypRgi"
   },
   "outputs": [],
   "source": [
    "feat_cols = [col for col in train_df.columns if col not in rm_cols+[ID, TARGET]]"
   ]
  },
  {
   "cell_type": "code",
   "execution_count": 37,
   "metadata": {
    "colab": {
     "base_uri": "https://localhost:8080/"
    },
    "id": "7j7QCTotpRgi",
    "outputId": "38f77656-1ef5-4802-ff01-e14a062db5c3"
   },
   "outputs": [],
   "source": [
    "cat_cols = list(le_df.columns) + ['取引時点_enc']"
   ]
  },
  {
   "cell_type": "code",
   "execution_count": 38,
   "metadata": {
    "colab": {
     "base_uri": "https://localhost:8080/"
    },
    "id": "gJPVu3wypFUI",
    "outputId": "43d22106-d680-4215-a185-5e4c87a4b389"
   },
   "outputs": [
    {
     "data": {
      "text/plain": [
       "Index(['ID', '最寄駅：距離（分）', '面積（㎡）', '建築年', '建ぺい率（％）', '容積率（％）', '取引価格（総額）_log',\n",
       "       '取引時点_enc', '都道府県名_te', '取引時点_何年前', 'x', 'y', '都道府県名', '市区町村名', '地区名',\n",
       "       '最寄駅：名称', '間取り', '建物の構造', '用途', '今後の利用目的', '都市計画', '改装', '取引の事情等',\n",
       "       'agg_mean_最寄駅：距離（分）_grpby_市区町村名', 'agg_mean_面積（㎡）_grpby_市区町村名',\n",
       "       'agg_mean_建ぺい率（％）_grpby_市区町村名', 'agg_mean_容積率（％）_grpby_市区町村名',\n",
       "       '面積（㎡）容積率（％）_combi'],\n",
       "      dtype='object')"
      ]
     },
     "execution_count": 38,
     "metadata": {},
     "output_type": "execute_result"
    }
   ],
   "source": [
    "val_df.columns"
   ]
  },
  {
   "cell_type": "code",
   "execution_count": null,
   "metadata": {
    "id": "IRMpya2wpRgi"
   },
   "outputs": [],
   "source": []
  },
  {
   "cell_type": "code",
   "execution_count": null,
   "metadata": {
    "id": "ALzQNRA7zr7p"
   },
   "outputs": [],
   "source": []
  },
  {
   "cell_type": "markdown",
   "metadata": {
    "id": "H0i1knNl5vmy"
   },
   "source": [
    "#建築年の予測"
   ]
  },
  {
   "cell_type": "code",
   "execution_count": 39,
   "metadata": {
    "id": "AiB06bF3bTGV"
   },
   "outputs": [],
   "source": [
    "feat_cols.append(TARGET)\n",
    "train_x = train_df[feat_cols].dropna(subset=[\"建築年\"]).drop(\"建築年\",axis=1).drop([\"都道府県名_te\",\"市区町村名\",\"地区名\",\"都道府県名\"],axis=1)\n",
    "train_y = train_df[\"建築年\"].dropna()\n",
    "val_x = val_df[feat_cols].dropna(subset=[\"建築年\"]).drop(\"建築年\",axis=1).drop([\"都道府県名_te\",\"市区町村名\",\"地区名\",\"都道府県名\"],axis=1)\n",
    "val_y = val_df[\"建築年\"].dropna()\n",
    "test_y=feat_df[feat_df[\"建築年\"].isnull()][\"建築年\"]\n",
    "test_x = feat_df[feat_df[\"建築年\"].isnull()][feat_cols].drop(\"建築年\",axis=1).drop([\"都道府県名_te\",\"市区町村名\",\"地区名\",\"都道府県名\"],axis=1)\n"
   ]
  },
  {
   "cell_type": "code",
   "execution_count": 40,
   "metadata": {},
   "outputs": [
    {
     "data": {
      "text/plain": [
       "Index(['最寄駅：距離（分）', '面積（㎡）', '建ぺい率（％）', '容積率（％）', '取引時点_enc', '取引時点_何年前', 'x',\n",
       "       'y', '最寄駅：名称', '間取り', '建物の構造', '用途', '今後の利用目的', '都市計画', '改装', '取引の事情等',\n",
       "       'agg_mean_最寄駅：距離（分）_grpby_市区町村名', 'agg_mean_面積（㎡）_grpby_市区町村名',\n",
       "       'agg_mean_建ぺい率（％）_grpby_市区町村名', 'agg_mean_容積率（％）_grpby_市区町村名',\n",
       "       '面積（㎡）容積率（％）_combi', '取引価格（総額）_log'],\n",
       "      dtype='object')"
      ]
     },
     "execution_count": 40,
     "metadata": {},
     "output_type": "execute_result"
    }
   ],
   "source": [
    "train_x.columns"
   ]
  },
  {
   "cell_type": "code",
   "execution_count": 41,
   "metadata": {
    "colab": {
     "base_uri": "https://localhost:8080/"
    },
    "id": "nTvCngMawCmn",
    "outputId": "7cc5b155-6e4c-4d77-a765-8b5b5362ff9d"
   },
   "outputs": [
    {
     "data": {
      "text/plain": [
       "((22956,), (22956, 22))"
      ]
     },
     "execution_count": 41,
     "metadata": {},
     "output_type": "execute_result"
    }
   ],
   "source": [
    "test_y.shape, test_x.shape"
   ]
  },
  {
   "cell_type": "code",
   "execution_count": 42,
   "metadata": {
    "colab": {
     "base_uri": "https://localhost:8080/"
    },
    "id": "sdWpVrjhy0Y8",
    "outputId": "ee163256-add4-4390-d07c-321c3aa1fabd"
   },
   "outputs": [
    {
     "data": {
      "text/plain": [
       "['最寄駅：名称', '間取り', '建物の構造', '用途', '今後の利用目的', '都市計画', '改装', '取引の事情等', '取引時点_enc']"
      ]
     },
     "execution_count": 42,
     "metadata": {},
     "output_type": "execute_result"
    }
   ],
   "source": [
    "cat_cols[3:]"
   ]
  },
  {
   "cell_type": "code",
   "execution_count": 43,
   "metadata": {
    "id": "1MCDyjliFFcy"
   },
   "outputs": [],
   "source": [
    "import lightgbm as lgb\n"
   ]
  },
  {
   "cell_type": "code",
   "execution_count": 44,
   "metadata": {
    "colab": {
     "base_uri": "https://localhost:8080/"
    },
    "id": "Zyc_BFZ6cr5p",
    "outputId": "56beb413-83b5-48be-b292-8106f2d8cb99"
   },
   "outputs": [
    {
     "name": "stderr",
     "output_type": "stream",
     "text": [
      "C:\\Users\\zekus\\AppData\\Roaming\\jupyterlab-desktop\\jlab_server\\lib\\site-packages\\lightgbm\\engine.py:177: UserWarning: Found `num_boost_round` in params. Will use it instead of argument\n",
      "  _log_warning(f\"Found `{alias}` in params. Will use it instead of argument\")\n",
      "C:\\Users\\zekus\\AppData\\Roaming\\jupyterlab-desktop\\jlab_server\\lib\\site-packages\\lightgbm\\basic.py:2068: UserWarning: categorical_feature in Dataset is overridden.\n",
      "New categorical_feature is ['今後の利用目的', '取引の事情等', '取引時点_enc', '建物の構造', '改装', '最寄駅：名称', '用途', '都市計画', '間取り']\n",
      "  _log_warning('categorical_feature in Dataset is overridden.\\n'\n",
      "C:\\Users\\zekus\\AppData\\Roaming\\jupyterlab-desktop\\jlab_server\\lib\\site-packages\\lightgbm\\engine.py:239: UserWarning: 'verbose_eval' argument is deprecated and will be removed in a future release of LightGBM. Pass 'log_evaluation()' callback via 'callbacks' argument instead.\n",
      "  _log_warning(\"'verbose_eval' argument is deprecated and will be removed in a future release of LightGBM. \"\n",
      "C:\\Users\\zekus\\AppData\\Roaming\\jupyterlab-desktop\\jlab_server\\lib\\site-packages\\lightgbm\\basic.py:1780: UserWarning: Overriding the parameters from Reference Dataset.\n",
      "  _log_warning('Overriding the parameters from Reference Dataset.')\n",
      "C:\\Users\\zekus\\AppData\\Roaming\\jupyterlab-desktop\\jlab_server\\lib\\site-packages\\lightgbm\\basic.py:1513: UserWarning: categorical_column in param dict is overridden.\n",
      "  _log_warning(f'{cat_alias} in param dict is overridden.')\n"
     ]
    },
    {
     "name": "stdout",
     "output_type": "stream",
     "text": [
      "[100]\ttrain's l1: 4.24067\tvalid's l1: 5.18724\n",
      "[200]\ttrain's l1: 3.87665\tvalid's l1: 4.92578\n",
      "[300]\ttrain's l1: 3.69151\tvalid's l1: 4.83284\n",
      "[400]\ttrain's l1: 3.5743\tvalid's l1: 4.78485\n",
      "[500]\ttrain's l1: 3.49212\tvalid's l1: 4.75932\n",
      "[600]\ttrain's l1: 3.43054\tvalid's l1: 4.75343\n",
      "[700]\ttrain's l1: 3.37722\tvalid's l1: 4.75263\n",
      "[800]\ttrain's l1: 3.33813\tvalid's l1: 4.75406\n",
      "[900]\ttrain's l1: 3.30313\tvalid's l1: 4.74974\n",
      "[1000]\ttrain's l1: 3.2735\tvalid's l1: 4.74743\n",
      "score: 4.7474\n"
     ]
    }
   ],
   "source": [
    "SEED = 0\n",
    "\n",
    "params = {\n",
    "    'objective': 'regression',\n",
    "    'metric': 'mae',\n",
    "    'num_leaves': 42,\n",
    "    'max_depth': 7,\n",
    "    \"feature_fraction\": 0.8,\n",
    "    'subsample_freq': 1,\n",
    "    \"bagging_fraction\": 0.95,\n",
    "    'min_data_in_leaf': 2,\n",
    "    'learning_rate': 0.1,\n",
    "    \"boosting\": \"gbdt\",\n",
    "    \"lambda_l1\": 0.1,\n",
    "    \"lambda_l2\": 10,\n",
    "    \"verbosity\": -1,\n",
    "    \"random_state\": 42,\n",
    "    \"num_boost_round\": 1000,\n",
    "}\n",
    "\n",
    "train_data = lgb.Dataset(train_x, label=train_y)\n",
    "val_data = lgb.Dataset(val_x, label=val_y)\n",
    "\n",
    "model = lgb.train(\n",
    "    params,\n",
    "    train_data,\n",
    "    categorical_feature = cat_cols[3:],\n",
    "    valid_names = ['train', 'valid'],\n",
    "    valid_sets =[train_data, val_data],\n",
    "    verbose_eval=100\n",
    "\n",
    "\n",
    ")\n",
    "\n",
    "val_pred = model.predict(val_x, num_iteration=model.best_iteration)\n",
    "score = mean_absolute_error(val_y, val_pred)\n",
    "\n",
    "pred_df = pd.DataFrame(sorted(zip(val_x.index, val_pred, val_y)), columns=['index', 'predict', 'actual'])\n",
    "\n",
    "feature_imp = pd.DataFrame(sorted(zip(model.feature_importance(), train_x.columns)), columns=['importance', 'feature'])\n",
    "\n",
    "print(f'score: {score:.4f}')"
   ]
  },
  {
   "cell_type": "code",
   "execution_count": 45,
   "metadata": {
    "colab": {
     "base_uri": "https://localhost:8080/",
     "height": 801
    },
    "id": "PDKQ9w176yu-",
    "outputId": "7d282557-e047-4f34-b02c-b3acabfdce80"
   },
   "outputs": [
    {
     "data": {
      "text/html": [
       "<div>\n",
       "<style scoped>\n",
       "    .dataframe tbody tr th:only-of-type {\n",
       "        vertical-align: middle;\n",
       "    }\n",
       "\n",
       "    .dataframe tbody tr th {\n",
       "        vertical-align: top;\n",
       "    }\n",
       "\n",
       "    .dataframe thead th {\n",
       "        text-align: right;\n",
       "    }\n",
       "</style>\n",
       "<table border=\"1\" class=\"dataframe\">\n",
       "  <thead>\n",
       "    <tr style=\"text-align: right;\">\n",
       "      <th></th>\n",
       "      <th>importance</th>\n",
       "    </tr>\n",
       "  </thead>\n",
       "  <tbody>\n",
       "    <tr>\n",
       "      <th>取引の事情等</th>\n",
       "      <td>79</td>\n",
       "    </tr>\n",
       "    <tr>\n",
       "      <th>用途</th>\n",
       "      <td>95</td>\n",
       "    </tr>\n",
       "    <tr>\n",
       "      <th>今後の利用目的</th>\n",
       "      <td>118</td>\n",
       "    </tr>\n",
       "    <tr>\n",
       "      <th>建ぺい率（％）</th>\n",
       "      <td>203</td>\n",
       "    </tr>\n",
       "    <tr>\n",
       "      <th>取引時点_何年前</th>\n",
       "      <td>412</td>\n",
       "    </tr>\n",
       "    <tr>\n",
       "      <th>改装</th>\n",
       "      <td>431</td>\n",
       "    </tr>\n",
       "    <tr>\n",
       "      <th>agg_mean_容積率（％）_grpby_市区町村名</th>\n",
       "      <td>458</td>\n",
       "    </tr>\n",
       "    <tr>\n",
       "      <th>建物の構造</th>\n",
       "      <td>498</td>\n",
       "    </tr>\n",
       "    <tr>\n",
       "      <th>agg_mean_建ぺい率（％）_grpby_市区町村名</th>\n",
       "      <td>541</td>\n",
       "    </tr>\n",
       "    <tr>\n",
       "      <th>agg_mean_最寄駅：距離（分）_grpby_市区町村名</th>\n",
       "      <td>629</td>\n",
       "    </tr>\n",
       "    <tr>\n",
       "      <th>容積率（％）</th>\n",
       "      <td>681</td>\n",
       "    </tr>\n",
       "    <tr>\n",
       "      <th>agg_mean_面積（㎡）_grpby_市区町村名</th>\n",
       "      <td>857</td>\n",
       "    </tr>\n",
       "    <tr>\n",
       "      <th>x</th>\n",
       "      <td>1299</td>\n",
       "    </tr>\n",
       "    <tr>\n",
       "      <th>y</th>\n",
       "      <td>1339</td>\n",
       "    </tr>\n",
       "    <tr>\n",
       "      <th>間取り</th>\n",
       "      <td>1490</td>\n",
       "    </tr>\n",
       "    <tr>\n",
       "      <th>面積（㎡）容積率（％）_combi</th>\n",
       "      <td>1836</td>\n",
       "    </tr>\n",
       "    <tr>\n",
       "      <th>最寄駅：距離（分）</th>\n",
       "      <td>2160</td>\n",
       "    </tr>\n",
       "    <tr>\n",
       "      <th>面積（㎡）</th>\n",
       "      <td>2571</td>\n",
       "    </tr>\n",
       "    <tr>\n",
       "      <th>都市計画</th>\n",
       "      <td>2595</td>\n",
       "    </tr>\n",
       "    <tr>\n",
       "      <th>取引価格（総額）_log</th>\n",
       "      <td>4060</td>\n",
       "    </tr>\n",
       "    <tr>\n",
       "      <th>取引時点_enc</th>\n",
       "      <td>8129</td>\n",
       "    </tr>\n",
       "    <tr>\n",
       "      <th>最寄駅：名称</th>\n",
       "      <td>10519</td>\n",
       "    </tr>\n",
       "  </tbody>\n",
       "</table>\n",
       "</div>"
      ],
      "text/plain": [
       "                                importance\n",
       "取引の事情等                                  79\n",
       "用途                                      95\n",
       "今後の利用目的                                118\n",
       "建ぺい率（％）                                203\n",
       "取引時点_何年前                               412\n",
       "改装                                     431\n",
       "agg_mean_容積率（％）_grpby_市区町村名            458\n",
       "建物の構造                                  498\n",
       "agg_mean_建ぺい率（％）_grpby_市区町村名           541\n",
       "agg_mean_最寄駅：距離（分）_grpby_市区町村名         629\n",
       "容積率（％）                                 681\n",
       "agg_mean_面積（㎡）_grpby_市区町村名             857\n",
       "x                                     1299\n",
       "y                                     1339\n",
       "間取り                                   1490\n",
       "面積（㎡）容積率（％）_combi                     1836\n",
       "最寄駅：距離（分）                             2160\n",
       "面積（㎡）                                 2571\n",
       "都市計画                                  2595\n",
       "取引価格（総額）_log                          4060\n",
       "取引時点_enc                              8129\n",
       "最寄駅：名称                               10519"
      ]
     },
     "metadata": {},
     "output_type": "display_data"
    }
   ],
   "source": [
    "# feature importanceを表示\n",
    "importance = pd.DataFrame(model.feature_importance(), index=train_x.columns, columns=['importance'])\n",
    "display(importance.sort_values(by=\"importance\"))"
   ]
  },
  {
   "cell_type": "code",
   "execution_count": 46,
   "metadata": {
    "id": "fGbXh6MLpRgj"
   },
   "outputs": [],
   "source": [
    "test_pred = model.predict(test_x, num_iteration=model.best_iteration)"
   ]
  },
  {
   "cell_type": "code",
   "execution_count": 47,
   "metadata": {
    "id": "xVblA7a1zU2f"
   },
   "outputs": [],
   "source": [
    "test_y=pd.Series(test_pred,index=test_y.index)"
   ]
  },
  {
   "cell_type": "code",
   "execution_count": 48,
   "metadata": {
    "colab": {
     "base_uri": "https://localhost:8080/"
    },
    "id": "XiqT3buT3CzH",
    "outputId": "8fe426f6-2cc6-40f6-b509-4fc7fe3dc201"
   },
   "outputs": [
    {
     "data": {
      "text/plain": [
       "66        1985.397292\n",
       "129       2005.039774\n",
       "135       1992.249249\n",
       "198       1984.370044\n",
       "206       1996.264971\n",
       "             ...     \n",
       "784521    1994.617414\n",
       "784566    1978.489226\n",
       "784592    1995.708052\n",
       "784680    1989.060705\n",
       "784704    1996.294106\n",
       "Length: 22956, dtype: float64"
      ]
     },
     "execution_count": 48,
     "metadata": {},
     "output_type": "execute_result"
    }
   ],
   "source": [
    "test_y"
   ]
  },
  {
   "cell_type": "code",
   "execution_count": 49,
   "metadata": {
    "id": "Y7hbVbk4vdpD"
   },
   "outputs": [],
   "source": [
    "a=feat_df.copy()"
   ]
  },
  {
   "cell_type": "code",
   "execution_count": 50,
   "metadata": {
    "id": "qHWpr-FAvX1z"
   },
   "outputs": [],
   "source": [
    "a[\"建築年\"]=a[\"建築年\"].fillna(test_y)"
   ]
  },
  {
   "cell_type": "markdown",
   "metadata": {
    "id": "uO5IGC3P528Q"
   },
   "source": [
    "#予測した建築年を用いた価格の推測"
   ]
  },
  {
   "cell_type": "code",
   "execution_count": 57,
   "metadata": {
    "id": "sO1wQ4X352p3"
   },
   "outputs": [],
   "source": [
    "feat_cols = [col for col in train_df.columns if col not in rm_cols+[ID, TARGET]]\n",
    "train_df = a.iloc[:val_min_idx, :]\n",
    "val_df = a.iloc[val_min_idx:test_min_idx, :]\n",
    "test_df = a.iloc[test_min_idx:, :]\n",
    "train_x = train_df[feat_cols].drop([\"都道府県名\",\"市区町村名\",\"地区名\",\"最寄駅：名称\",\"都道府県名_te\"],axis=1)\n",
    "train_y = train_df[TARGET]\n",
    "val_x = val_df[feat_cols].drop([\"都道府県名\",\"市区町村名\",\"地区名\",\"最寄駅：名称\",\"都道府県名_te\"],axis=1)\n",
    "val_y = val_df[TARGET]\n",
    "test_x = test_df[feat_cols].drop([\"都道府県名\",\"市区町村名\",\"地区名\",\"最寄駅：名称\",\"都道府県名_te\"],axis=1)\n",
    "test_y = test_df[TARGET]"
   ]
  },
  {
   "cell_type": "code",
   "execution_count": 61,
   "metadata": {},
   "outputs": [
    {
     "data": {
      "text/plain": [
       "['都道府県名',\n",
       " '市区町村名',\n",
       " '地区名',\n",
       " '最寄駅：名称',\n",
       " '間取り',\n",
       " '建物の構造',\n",
       " '用途',\n",
       " '今後の利用目的',\n",
       " '都市計画',\n",
       " '改装',\n",
       " '取引の事情等',\n",
       " '取引時点_enc']"
      ]
     },
     "execution_count": 61,
     "metadata": {},
     "output_type": "execute_result"
    }
   ],
   "source": [
    "cat_cols"
   ]
  },
  {
   "cell_type": "code",
   "execution_count": null,
   "metadata": {
    "colab": {
     "base_uri": "https://localhost:8080/"
    },
    "id": "30lPHHYx6KTp",
    "outputId": "b6cd6588-896b-498b-d537-079d7cd2fce3"
   },
   "outputs": [
    {
     "name": "stderr",
     "output_type": "stream",
     "text": [
      "C:\\Users\\zekus\\AppData\\Roaming\\jupyterlab-desktop\\jlab_server\\lib\\site-packages\\lightgbm\\engine.py:177: UserWarning: Found `num_boost_round` in params. Will use it instead of argument\n",
      "  _log_warning(f\"Found `{alias}` in params. Will use it instead of argument\")\n",
      "C:\\Users\\zekus\\AppData\\Roaming\\jupyterlab-desktop\\jlab_server\\lib\\site-packages\\lightgbm\\basic.py:2068: UserWarning: categorical_feature in Dataset is overridden.\n",
      "New categorical_feature is ['今後の利用目的', '取引の事情等', '取引時点_enc', '建物の構造', '改装', '用途', '都市計画', '間取り']\n",
      "  _log_warning('categorical_feature in Dataset is overridden.\\n'\n",
      "C:\\Users\\zekus\\AppData\\Roaming\\jupyterlab-desktop\\jlab_server\\lib\\site-packages\\lightgbm\\engine.py:239: UserWarning: 'verbose_eval' argument is deprecated and will be removed in a future release of LightGBM. Pass 'log_evaluation()' callback via 'callbacks' argument instead.\n",
      "  _log_warning(\"'verbose_eval' argument is deprecated and will be removed in a future release of LightGBM. \"\n"
     ]
    },
    {
     "name": "stdout",
     "output_type": "stream",
     "text": [
      "[LightGBM] [Warning] feature_fraction is set=0.8, colsample_bytree=1.0 will be ignored. Current value: feature_fraction=0.8\n",
      "[LightGBM] [Warning] bagging_fraction is set=0.95, subsample=0.8 will be ignored. Current value: bagging_fraction=0.95\n",
      "[LightGBM] [Warning] min_data_in_leaf is set=2, min_child_samples=9 will be ignored. Current value: min_data_in_leaf=2\n"
     ]
    },
    {
     "name": "stderr",
     "output_type": "stream",
     "text": [
      "C:\\Users\\zekus\\AppData\\Roaming\\jupyterlab-desktop\\jlab_server\\lib\\site-packages\\lightgbm\\basic.py:1780: UserWarning: Overriding the parameters from Reference Dataset.\n",
      "  _log_warning('Overriding the parameters from Reference Dataset.')\n",
      "C:\\Users\\zekus\\AppData\\Roaming\\jupyterlab-desktop\\jlab_server\\lib\\site-packages\\lightgbm\\basic.py:1513: UserWarning: categorical_column in param dict is overridden.\n",
      "  _log_warning(f'{cat_alias} in param dict is overridden.')\n"
     ]
    },
    {
     "name": "stdout",
     "output_type": "stream",
     "text": [
      "[100]\ttrain's l1: 0.115379\tvalid's l1: 0.135156\n",
      "[200]\ttrain's l1: 0.107168\tvalid's l1: 0.127633\n",
      "[300]\ttrain's l1: 0.102758\tvalid's l1: 0.123661\n",
      "[400]\ttrain's l1: 0.0998378\tvalid's l1: 0.121819\n",
      "[500]\ttrain's l1: 0.0977023\tvalid's l1: 0.119878\n",
      "[600]\ttrain's l1: 0.0959085\tvalid's l1: 0.117973\n"
     ]
    }
   ],
   "source": [
    "SEED = 0\n",
    "\n",
    "params = {\n",
    "    'objective': 'regression',\n",
    "    'metric': 'mae',\n",
    "    'num_leaves': 6,\n",
    "    'max_depth': 7,\n",
    "    \"feature_fraction\": 0.8,\n",
    "    'subsample_freq': 1,\n",
    "    \"bagging_fraction\": 0.95,\n",
    "    'min_data_in_leaf': 2,\n",
    "    'learning_rate': 0.1,\n",
    "    \"boosting\": \"gbdt\",\n",
    "    \"lambda_l1\": 0.003,\n",
    "    \"lambda_l2\": 0.0001,\n",
    "    \"verbosity\": -1,\n",
    "    \"random_state\": 42,\n",
    "    \"num_boost_round\": 1000,\n",
    "    'subsample_freq': 7,\n",
    "    'subsample': 0.8,\n",
    "    'min_child_samples': 9,\n",
    "    'colsample_bytree': 1.0\n",
    "}\n",
    "\n",
    "train_data = lgb.Dataset(train_x, label=train_y)\n",
    "val_data = lgb.Dataset(val_x, label=val_y)\n",
    "\n",
    "model = lgb.train(\n",
    "    params,\n",
    "    train_data,\n",
    "    categorical_feature = cat_cols[4:],\n",
    "    valid_names = ['train', 'valid'],\n",
    "    valid_sets =[train_data, val_data],\n",
    "    verbose_eval=100\n",
    "\n",
    "\n",
    ")\n",
    "\n",
    "val_pred = model.predict(val_x, num_iteration=model.best_iteration)\n",
    "score = mean_absolute_error(val_y, val_pred)\n",
    "\n",
    "pred_df = pd.DataFrame(sorted(zip(val_x.index, val_pred, val_y)), columns=['index', 'predict', 'actual'])\n",
    "\n",
    "feature_imp = pd.DataFrame(sorted(zip(model.feature_importance(), train_x.columns)), columns=['importance', 'feature'])\n",
    "\n",
    "print(f'score: {score:.4f}')"
   ]
  },
  {
   "cell_type": "code",
   "execution_count": null,
   "metadata": {
    "colab": {
     "base_uri": "https://localhost:8080/",
     "height": 707
    },
    "id": "wLwnfVIb_v5i",
    "outputId": "02119a13-b507-4b14-d491-3dfa2ae885b6"
   },
   "outputs": [
    {
     "data": {
      "text/html": [
       "\n",
       "  <div id=\"df-a3b68773-cbb5-42c3-9255-58e215e02fcf\">\n",
       "    <div class=\"colab-df-container\">\n",
       "      <div>\n",
       "<style scoped>\n",
       "    .dataframe tbody tr th:only-of-type {\n",
       "        vertical-align: middle;\n",
       "    }\n",
       "\n",
       "    .dataframe tbody tr th {\n",
       "        vertical-align: top;\n",
       "    }\n",
       "\n",
       "    .dataframe thead th {\n",
       "        text-align: right;\n",
       "    }\n",
       "</style>\n",
       "<table border=\"1\" class=\"dataframe\">\n",
       "  <thead>\n",
       "    <tr style=\"text-align: right;\">\n",
       "      <th></th>\n",
       "      <th>importance</th>\n",
       "    </tr>\n",
       "  </thead>\n",
       "  <tbody>\n",
       "    <tr>\n",
       "      <th>建ぺい率（％）</th>\n",
       "      <td>11</td>\n",
       "    </tr>\n",
       "    <tr>\n",
       "      <th>今後の利用目的</th>\n",
       "      <td>23</td>\n",
       "    </tr>\n",
       "    <tr>\n",
       "      <th>都市計画</th>\n",
       "      <td>28</td>\n",
       "    </tr>\n",
       "    <tr>\n",
       "      <th>取引の事情等</th>\n",
       "      <td>31</td>\n",
       "    </tr>\n",
       "    <tr>\n",
       "      <th>取引時点_何年前</th>\n",
       "      <td>31</td>\n",
       "    </tr>\n",
       "    <tr>\n",
       "      <th>用途</th>\n",
       "      <td>34</td>\n",
       "    </tr>\n",
       "    <tr>\n",
       "      <th>建物の構造</th>\n",
       "      <td>35</td>\n",
       "    </tr>\n",
       "    <tr>\n",
       "      <th>容積率（％）</th>\n",
       "      <td>40</td>\n",
       "    </tr>\n",
       "    <tr>\n",
       "      <th>agg_mean_面積（㎡）_grpby_市区町村名</th>\n",
       "      <td>45</td>\n",
       "    </tr>\n",
       "    <tr>\n",
       "      <th>都道府県名</th>\n",
       "      <td>54</td>\n",
       "    </tr>\n",
       "    <tr>\n",
       "      <th>改装</th>\n",
       "      <td>61</td>\n",
       "    </tr>\n",
       "    <tr>\n",
       "      <th>都道府県名_te</th>\n",
       "      <td>75</td>\n",
       "    </tr>\n",
       "    <tr>\n",
       "      <th>間取り</th>\n",
       "      <td>85</td>\n",
       "    </tr>\n",
       "    <tr>\n",
       "      <th>最寄駅：距離（分）</th>\n",
       "      <td>126</td>\n",
       "    </tr>\n",
       "    <tr>\n",
       "      <th>面積（㎡）容積率（％）_combi</th>\n",
       "      <td>129</td>\n",
       "    </tr>\n",
       "    <tr>\n",
       "      <th>面積（㎡）</th>\n",
       "      <td>255</td>\n",
       "    </tr>\n",
       "    <tr>\n",
       "      <th>取引時点_enc</th>\n",
       "      <td>284</td>\n",
       "    </tr>\n",
       "    <tr>\n",
       "      <th>建築年</th>\n",
       "      <td>349</td>\n",
       "    </tr>\n",
       "    <tr>\n",
       "      <th>市区町村名</th>\n",
       "      <td>437</td>\n",
       "    </tr>\n",
       "    <tr>\n",
       "      <th>最寄駅：名称</th>\n",
       "      <td>1008</td>\n",
       "    </tr>\n",
       "    <tr>\n",
       "      <th>地区名</th>\n",
       "      <td>1859</td>\n",
       "    </tr>\n",
       "  </tbody>\n",
       "</table>\n",
       "</div>\n",
       "      <button class=\"colab-df-convert\" onclick=\"convertToInteractive('df-a3b68773-cbb5-42c3-9255-58e215e02fcf')\"\n",
       "              title=\"Convert this dataframe to an interactive table.\"\n",
       "              style=\"display:none;\">\n",
       "        \n",
       "  <svg xmlns=\"http://www.w3.org/2000/svg\" height=\"24px\"viewBox=\"0 0 24 24\"\n",
       "       width=\"24px\">\n",
       "    <path d=\"M0 0h24v24H0V0z\" fill=\"none\"/>\n",
       "    <path d=\"M18.56 5.44l.94 2.06.94-2.06 2.06-.94-2.06-.94-.94-2.06-.94 2.06-2.06.94zm-11 1L8.5 8.5l.94-2.06 2.06-.94-2.06-.94L8.5 2.5l-.94 2.06-2.06.94zm10 10l.94 2.06.94-2.06 2.06-.94-2.06-.94-.94-2.06-.94 2.06-2.06.94z\"/><path d=\"M17.41 7.96l-1.37-1.37c-.4-.4-.92-.59-1.43-.59-.52 0-1.04.2-1.43.59L10.3 9.45l-7.72 7.72c-.78.78-.78 2.05 0 2.83L4 21.41c.39.39.9.59 1.41.59.51 0 1.02-.2 1.41-.59l7.78-7.78 2.81-2.81c.8-.78.8-2.07 0-2.86zM5.41 20L4 18.59l7.72-7.72 1.47 1.35L5.41 20z\"/>\n",
       "  </svg>\n",
       "      </button>\n",
       "      \n",
       "  <style>\n",
       "    .colab-df-container {\n",
       "      display:flex;\n",
       "      flex-wrap:wrap;\n",
       "      gap: 12px;\n",
       "    }\n",
       "\n",
       "    .colab-df-convert {\n",
       "      background-color: #E8F0FE;\n",
       "      border: none;\n",
       "      border-radius: 50%;\n",
       "      cursor: pointer;\n",
       "      display: none;\n",
       "      fill: #1967D2;\n",
       "      height: 32px;\n",
       "      padding: 0 0 0 0;\n",
       "      width: 32px;\n",
       "    }\n",
       "\n",
       "    .colab-df-convert:hover {\n",
       "      background-color: #E2EBFA;\n",
       "      box-shadow: 0px 1px 2px rgba(60, 64, 67, 0.3), 0px 1px 3px 1px rgba(60, 64, 67, 0.15);\n",
       "      fill: #174EA6;\n",
       "    }\n",
       "\n",
       "    [theme=dark] .colab-df-convert {\n",
       "      background-color: #3B4455;\n",
       "      fill: #D2E3FC;\n",
       "    }\n",
       "\n",
       "    [theme=dark] .colab-df-convert:hover {\n",
       "      background-color: #434B5C;\n",
       "      box-shadow: 0px 1px 3px 1px rgba(0, 0, 0, 0.15);\n",
       "      filter: drop-shadow(0px 1px 2px rgba(0, 0, 0, 0.3));\n",
       "      fill: #FFFFFF;\n",
       "    }\n",
       "  </style>\n",
       "\n",
       "      <script>\n",
       "        const buttonEl =\n",
       "          document.querySelector('#df-a3b68773-cbb5-42c3-9255-58e215e02fcf button.colab-df-convert');\n",
       "        buttonEl.style.display =\n",
       "          google.colab.kernel.accessAllowed ? 'block' : 'none';\n",
       "\n",
       "        async function convertToInteractive(key) {\n",
       "          const element = document.querySelector('#df-a3b68773-cbb5-42c3-9255-58e215e02fcf');\n",
       "          const dataTable =\n",
       "            await google.colab.kernel.invokeFunction('convertToInteractive',\n",
       "                                                     [key], {});\n",
       "          if (!dataTable) return;\n",
       "\n",
       "          const docLinkHtml = 'Like what you see? Visit the ' +\n",
       "            '<a target=\"_blank\" href=https://colab.research.google.com/notebooks/data_table.ipynb>data table notebook</a>'\n",
       "            + ' to learn more about interactive tables.';\n",
       "          element.innerHTML = '';\n",
       "          dataTable['output_type'] = 'display_data';\n",
       "          await google.colab.output.renderOutput(dataTable, element);\n",
       "          const docLink = document.createElement('div');\n",
       "          docLink.innerHTML = docLinkHtml;\n",
       "          element.appendChild(docLink);\n",
       "        }\n",
       "      </script>\n",
       "    </div>\n",
       "  </div>\n",
       "  "
      ],
      "text/plain": [
       "                            importance\n",
       "建ぺい率（％）                             11\n",
       "今後の利用目的                             23\n",
       "都市計画                                28\n",
       "取引の事情等                              31\n",
       "取引時点_何年前                            31\n",
       "用途                                  34\n",
       "建物の構造                               35\n",
       "容積率（％）                              40\n",
       "agg_mean_面積（㎡）_grpby_市区町村名          45\n",
       "都道府県名                               54\n",
       "改装                                  61\n",
       "都道府県名_te                            75\n",
       "間取り                                 85\n",
       "最寄駅：距離（分）                          126\n",
       "面積（㎡）容積率（％）_combi                  129\n",
       "面積（㎡）                              255\n",
       "取引時点_enc                           284\n",
       "建築年                                349\n",
       "市区町村名                              437\n",
       "最寄駅：名称                            1008\n",
       "地区名                               1859"
      ]
     },
     "metadata": {},
     "output_type": "display_data"
    }
   ],
   "source": [
    "# feature importanceを表示\n",
    "importance = pd.DataFrame(model.feature_importance(), index=train_x.columns, columns=['importance'])\n",
    "display(importance.sort_values(by=\"importance\"))"
   ]
  },
  {
   "cell_type": "code",
   "execution_count": null,
   "metadata": {
    "id": "9By6m93r6yGi"
   },
   "outputs": [],
   "source": [
    "# test_pred = model.predict(test_x, num_iteration=model.best_iteration)"
   ]
  },
  {
   "cell_type": "code",
   "execution_count": null,
   "metadata": {
    "id": "feJCSkA7AOM1"
   },
   "outputs": [],
   "source": [
    "# test_pred"
   ]
  },
  {
   "cell_type": "code",
   "execution_count": null,
   "metadata": {
    "id": "ttfi2jVG8iY7"
   },
   "outputs": [],
   "source": [
    "# test_df[TARGET]=test_pred"
   ]
  },
  {
   "cell_type": "code",
   "execution_count": null,
   "metadata": {
    "id": "0F_jGGTm8gLA"
   },
   "outputs": [],
   "source": [
    "# test_df[TARGET]"
   ]
  },
  {
   "cell_type": "markdown",
   "metadata": {
    "id": "_HQ3TBB3BzjB"
   },
   "source": [
    "#欠損値をゼロにする"
   ]
  },
  {
   "cell_type": "code",
   "execution_count": null,
   "metadata": {
    "id": "AGly3HJy7uAO"
   },
   "outputs": [],
   "source": [
    "drop_col=[\"agg_mean_最寄駅：距離（分）_grpby_市区町村名\",\"agg_mean_建ぺい率（％）_grpby_市区町村名\",\"agg_mean_容積率（％）_grpby_市区町村名\"]\n",
    "a=a.drop(drop_col,axis=1)"
   ]
  },
  {
   "cell_type": "code",
   "execution_count": null,
   "metadata": {
    "id": "PgdBFr387t-A"
   },
   "outputs": [],
   "source": [
    "feat_cols = [col for col in train_df.columns if col not in rm_cols+[ID, TARGET]]\n",
    "feat_cols=[col for col in feat_cols if col not in drop_col]\n",
    "train_df = a.iloc[:val_min_idx, :]\n",
    "val_df = a.iloc[val_min_idx:test_min_idx, :]\n",
    "test_df = a.iloc[test_min_idx:, :]\n",
    "train_x = train_df[feat_cols]\n",
    "train_y = train_df[TARGET]\n",
    "val_x = val_df[feat_cols]\n",
    "val_y = val_df[TARGET]\n",
    "test_x = test_df[feat_cols]\n",
    "test_y = test_df[TARGET]"
   ]
  },
  {
   "cell_type": "markdown",
   "metadata": {
    "id": "XqTkdV6fEffh"
   },
   "source": [
    "#いろんなモデル構築"
   ]
  },
  {
   "cell_type": "code",
   "execution_count": null,
   "metadata": {
    "id": "r-UKbIuXEml1"
   },
   "outputs": [],
   "source": [
    "# ここで使用するライブラリ\n",
    "from statsmodels.stats.outliers_influence import variance_inflation_factor\n",
    "from statsmodels.tools.tools import add_constant\n",
    "from sklearn.linear_model import Lasso\n",
    "from sklearn.metrics import mean_absolute_error as mae\n",
    "import numpy as np\n",
    "from sklearn.preprocessing import StandardScaler\n",
    "from sklearn.linear_model import LinearRegression\n",
    "from sklearn.linear_model import Ridge\n",
    "from sklearn.svm import SVR\n",
    "from sklearn.tree import DecisionTreeRegressor\n",
    "from joblib import dump, load"
   ]
  },
  {
   "cell_type": "code",
   "execution_count": null,
   "metadata": {
    "colab": {
     "base_uri": "https://localhost:8080/"
    },
    "id": "bwPqG54BCv23",
    "outputId": "5e4acf53-7454-4de0-8262-30c20b5c31a9"
   },
   "outputs": [
    {
     "name": "stdout",
     "output_type": "stream",
     "text": [
      "Mean Squared Error: 0.16524949367901048\n",
      "R^2: 0.5600018699394329\n"
     ]
    }
   ],
   "source": [
    "five_mse = {}\n",
    "five_r2 = {}\n",
    "\n",
    "# 線形回帰モデルの生成\n",
    "model = LinearRegression()\n",
    "\n",
    "# モデルの学習\n",
    "model.fit(train_x, train_y)\n",
    "\n",
    "# テストデータの予測\n",
    "y_pred = model.predict(val_x)\n",
    "\n",
    "# 平均二乗誤差の計算\n",
    "mae_pred = mae(val_y, y_pred)\n",
    "\n",
    "# 平均二乗誤差の表示\n",
    "print(\"Mean Squared Error:\", mae_pred)\n",
    "five_mse['lr'] = mae_pred\n",
    "\n",
    "# モデルの当てはまり（決定係数）を確認\n",
    "r2 = model.score(val_x,val_y)\n",
    "print(\"R^2:\", r2)\n",
    "five_r2['lr'] = r2\n",
    "\n"
   ]
  },
  {
   "cell_type": "code",
   "execution_count": null,
   "metadata": {
    "colab": {
     "base_uri": "https://localhost:8080/"
    },
    "id": "5li34iGqEVHV",
    "outputId": "085e6c85-7427-40c6-9156-8d55ff1be17c"
   },
   "outputs": [
    {
     "name": "stdout",
     "output_type": "stream",
     "text": [
      "Mean absolute Error:  0.16929310554017868\n",
      "R^2: 0.5363563143112645\n"
     ]
    }
   ],
   "source": [
    "# ラッソ回帰モデルの構築\n",
    "lasso = Lasso(alpha=0.1)\n",
    "\n",
    "# モデルの学習\n",
    "lasso.fit(train_x, train_y)\n",
    "\n",
    "# テストデータを用いた予測\n",
    "y_pred = lasso.predict(val_x)\n",
    "\n",
    "# 平均二乗誤差の算出\n",
    "mae_pred = mae(val_y, y_pred)\n",
    "print('Mean absolute Error: ', mae_pred)\n",
    "five_mse['lasso'] = mae_pred\n",
    "\n",
    "# モデルの当てはまりを確認\n",
    "r2 = lasso.score(val_x, val_y)\n",
    "print(\"R^2:\", r2)\n",
    "five_r2['lasso'] = r2"
   ]
  },
  {
   "cell_type": "code",
   "execution_count": null,
   "metadata": {
    "colab": {
     "base_uri": "https://localhost:8080/"
    },
    "id": "65qF-zehEU9M",
    "outputId": "bbbd33b7-7710-45b2-b435-c5695d9b0ea3"
   },
   "outputs": [
    {
     "name": "stdout",
     "output_type": "stream",
     "text": [
      "Mean Squared Error:  0.16524949233392872\n",
      "R^2: 0.5600018790979677\n"
     ]
    }
   ],
   "source": [
    "# リッジ回帰モデルの構築\n",
    "ridge = Ridge(alpha=0.1)\n",
    "\n",
    "# モデルの学習\n",
    "ridge.fit(train_x,train_y)\n",
    "\n",
    "# テストデータを用いた予測\n",
    "y_pred = ridge.predict(val_x)\n",
    "\n",
    "# 平均二乗誤差の算出\n",
    "mae_pred = mae(val_y, y_pred)\n",
    "print('Mean Squared Error: ', mae_pred)\n",
    "five_mse['ridge'] = mae_pred\n",
    "\n",
    "# モデルの当てはまりを確認\n",
    "r2 = ridge.score(val_x, val_y)\n",
    "print(\"R^2:\", r2)\n",
    "five_r2['ridge'] = r2"
   ]
  },
  {
   "cell_type": "code",
   "execution_count": null,
   "metadata": {
    "id": "UzNfxKoVEaO7"
   },
   "outputs": [],
   "source": [
    "# サポートベクターリグレッションモデルの構築\n",
    "# svr = SVR(kernel='linear', C=1, epsilon=0.1)\n",
    "\n",
    "# # モデルの学習\n",
    "# svr.fit(train_x, train_y)\n",
    "\n",
    "# # テストデータを用いた予測\n",
    "# y_pred = svr.predict(val_x)\n",
    "\n",
    "# # 平均二乗誤差の算出\n",
    "# mae_pred = mae(val_y, y_pred)\n",
    "# print('Mean Squared Error: ', mae_pred)\n",
    "# five_mse['svr'] = mae_pred\n",
    "\n",
    "# # モデルの当てはまりを確認\n",
    "# r2 = svr.score(val_x, val_y)\n",
    "# print(\"R^2:\", r2)\n",
    "# five_r2['svr'] = r2"
   ]
  },
  {
   "cell_type": "code",
   "execution_count": null,
   "metadata": {
    "colab": {
     "base_uri": "https://localhost:8080/"
    },
    "id": "nAclIIkZEcUh",
    "outputId": "6875d58e-c766-49ba-a355-6314de43aa32"
   },
   "outputs": [
    {
     "name": "stdout",
     "output_type": "stream",
     "text": [
      "Mean Squared Error:  0.1448545775021549\n",
      "R^2: 0.692885036005922\n"
     ]
    }
   ],
   "source": [
    "# 決定木回帰モデルの構築\n",
    "tree = DecisionTreeRegressor(max_depth=8, random_state=42)\n",
    "\n",
    "# モデルの学習\n",
    "tree.fit(train_x, train_y)\n",
    "\n",
    "# テストデータを用いた予測\n",
    "y_pred = tree.predict(val_x)\n",
    "\n",
    "# 平均二乗誤差の算出\n",
    "mae_pred = mae(val_y, y_pred)\n",
    "print('Mean Squared Error: ', mae_pred)\n",
    "five_mse['tree'] = mae_pred\n",
    "\n",
    "# モデルの当てはまりを確認\n",
    "r2 = tree.score(val_x, val_y)\n",
    "print(\"R^2:\", r2)\n",
    "five_r2['tree'] = r2"
   ]
  },
  {
   "cell_type": "code",
   "execution_count": null,
   "metadata": {
    "colab": {
     "base_uri": "https://localhost:8080/"
    },
    "id": "4HsxfXfdEeG2",
    "outputId": "073b3d8c-17ca-43a2-9e22-b6b67a9cc16b"
   },
   "outputs": [
    {
     "data": {
      "text/plain": [
       "{'lr': 0.16524949367901048,\n",
       " 'lasso': 0.16929310554017868,\n",
       " 'ridge': 0.16524949233392872,\n",
       " 'tree': 0.1448545775021549}"
      ]
     },
     "execution_count": 69,
     "metadata": {},
     "output_type": "execute_result"
    }
   ],
   "source": [
    "# maeは0に近いほどモデルの予測精度が良い\n",
    "five_mse"
   ]
  },
  {
   "cell_type": "markdown",
   "metadata": {
    "id": "UpVeyMENptIn"
   },
   "source": [
    "#価格LightGBMでランダムサーチ"
   ]
  },
  {
   "cell_type": "code",
   "execution_count": null,
   "metadata": {
    "colab": {
     "base_uri": "https://localhost:8080/"
    },
    "id": "S1Qx88Lup_Uj",
    "outputId": "14896690-b58f-4d2e-813b-f091a84e3f5f"
   },
   "outputs": [
    {
     "data": {
      "text/plain": [
       "Index(['最寄駅：距離（分）', '面積（㎡）', '建築年', '建ぺい率（％）', '容積率（％）', '取引時点_enc',\n",
       "       '都道府県名_te', '取引時点_何年前', '都道府県名', '市区町村名', '地区名', '最寄駅：名称', '間取り',\n",
       "       '建物の構造', '用途', '今後の利用目的', '都市計画', '改装', '取引の事情等',\n",
       "       'agg_mean_面積（㎡）_grpby_市区町村名', '面積（㎡）容積率（％）_combi'],\n",
       "      dtype='object')"
      ]
     },
     "execution_count": 73,
     "metadata": {},
     "output_type": "execute_result"
    }
   ],
   "source": [
    "train_x.columns"
   ]
  },
  {
   "cell_type": "code",
   "execution_count": null,
   "metadata": {
    "id": "wCfcY53Spym3"
   },
   "outputs": [],
   "source": [
    "from sklearn.model_selection import RandomizedSearchCV\n",
    "model = lgb.LGBMRegressor()\n",
    "\n",
    "cv_params = {'reg_alpha': [0.0001, 0.0003, 0.001, 0.003, 0.01, 0.03, 0.1],\n",
    "             'reg_lambda': [0.0001, 0.0003, 0.001, 0.003, 0.01, 0.03, 0.1],\n",
    "             'num_leaves': [2, 3, 4, 5, 6],\n",
    "             'colsample_bytree': [0.4, 0.5, 0.6, 0.7, 0.8, 0.9, 1.0],\n",
    "             'subsample': [0.4, 0.5, 0.6, 0.7, 0.8, 0.9, 1.0],\n",
    "             'subsample_freq': [0, 1, 2, 3, 4, 5, 6, 7],\n",
    "             'min_child_samples': [0, 1, 2, 3, 4, 5, 6, 7, 8, 9, 10]\n",
    "             }"
   ]
  },
  {
   "cell_type": "code",
   "execution_count": null,
   "metadata": {
    "colab": {
     "base_uri": "https://localhost:8080/",
     "height": 115
    },
    "id": "7UCLop18pyhn",
    "outputId": "dd119f37-6c19-4dca-ecb9-0a6bae8081a2"
   },
   "outputs": [
    {
     "data": {
      "text/html": [
       "<style>#sk-container-id-1 {color: black;background-color: white;}#sk-container-id-1 pre{padding: 0;}#sk-container-id-1 div.sk-toggleable {background-color: white;}#sk-container-id-1 label.sk-toggleable__label {cursor: pointer;display: block;width: 100%;margin-bottom: 0;padding: 0.3em;box-sizing: border-box;text-align: center;}#sk-container-id-1 label.sk-toggleable__label-arrow:before {content: \"▸\";float: left;margin-right: 0.25em;color: #696969;}#sk-container-id-1 label.sk-toggleable__label-arrow:hover:before {color: black;}#sk-container-id-1 div.sk-estimator:hover label.sk-toggleable__label-arrow:before {color: black;}#sk-container-id-1 div.sk-toggleable__content {max-height: 0;max-width: 0;overflow: hidden;text-align: left;background-color: #f0f8ff;}#sk-container-id-1 div.sk-toggleable__content pre {margin: 0.2em;color: black;border-radius: 0.25em;background-color: #f0f8ff;}#sk-container-id-1 input.sk-toggleable__control:checked~div.sk-toggleable__content {max-height: 200px;max-width: 100%;overflow: auto;}#sk-container-id-1 input.sk-toggleable__control:checked~label.sk-toggleable__label-arrow:before {content: \"▾\";}#sk-container-id-1 div.sk-estimator input.sk-toggleable__control:checked~label.sk-toggleable__label {background-color: #d4ebff;}#sk-container-id-1 div.sk-label input.sk-toggleable__control:checked~label.sk-toggleable__label {background-color: #d4ebff;}#sk-container-id-1 input.sk-hidden--visually {border: 0;clip: rect(1px 1px 1px 1px);clip: rect(1px, 1px, 1px, 1px);height: 1px;margin: -1px;overflow: hidden;padding: 0;position: absolute;width: 1px;}#sk-container-id-1 div.sk-estimator {font-family: monospace;background-color: #f0f8ff;border: 1px dotted black;border-radius: 0.25em;box-sizing: border-box;margin-bottom: 0.5em;}#sk-container-id-1 div.sk-estimator:hover {background-color: #d4ebff;}#sk-container-id-1 div.sk-parallel-item::after {content: \"\";width: 100%;border-bottom: 1px solid gray;flex-grow: 1;}#sk-container-id-1 div.sk-label:hover label.sk-toggleable__label {background-color: #d4ebff;}#sk-container-id-1 div.sk-serial::before {content: \"\";position: absolute;border-left: 1px solid gray;box-sizing: border-box;top: 0;bottom: 0;left: 50%;z-index: 0;}#sk-container-id-1 div.sk-serial {display: flex;flex-direction: column;align-items: center;background-color: white;padding-right: 0.2em;padding-left: 0.2em;position: relative;}#sk-container-id-1 div.sk-item {position: relative;z-index: 1;}#sk-container-id-1 div.sk-parallel {display: flex;align-items: stretch;justify-content: center;background-color: white;position: relative;}#sk-container-id-1 div.sk-item::before, #sk-container-id-1 div.sk-parallel-item::before {content: \"\";position: absolute;border-left: 1px solid gray;box-sizing: border-box;top: 0;bottom: 0;left: 50%;z-index: -1;}#sk-container-id-1 div.sk-parallel-item {display: flex;flex-direction: column;z-index: 1;position: relative;background-color: white;}#sk-container-id-1 div.sk-parallel-item:first-child::after {align-self: flex-end;width: 50%;}#sk-container-id-1 div.sk-parallel-item:last-child::after {align-self: flex-start;width: 50%;}#sk-container-id-1 div.sk-parallel-item:only-child::after {width: 0;}#sk-container-id-1 div.sk-dashed-wrapped {border: 1px dashed gray;margin: 0 0.4em 0.5em 0.4em;box-sizing: border-box;padding-bottom: 0.4em;background-color: white;}#sk-container-id-1 div.sk-label label {font-family: monospace;font-weight: bold;display: inline-block;line-height: 1.2em;}#sk-container-id-1 div.sk-label-container {text-align: center;}#sk-container-id-1 div.sk-container {/* jupyter's `normalize.less` sets `[hidden] { display: none; }` but bootstrap.min.css set `[hidden] { display: none !important; }` so we also need the `!important` here to be able to override the default hidden behavior on the sphinx rendered scikit-learn.org. See: https://github.com/scikit-learn/scikit-learn/issues/21755 */display: inline-block !important;position: relative;}#sk-container-id-1 div.sk-text-repr-fallback {display: none;}</style><div id=\"sk-container-id-1\" class=\"sk-top-container\"><div class=\"sk-text-repr-fallback\"><pre>RandomizedSearchCV(cv=KFold(n_splits=3, random_state=123, shuffle=True),\n",
       "                   estimator=LGBMRegressor(), n_iter=1120, n_jobs=-1,\n",
       "                   param_distributions={&#x27;colsample_bytree&#x27;: [0.4, 0.5, 0.6, 0.7,\n",
       "                                                             0.8, 0.9, 1.0],\n",
       "                                        &#x27;min_child_samples&#x27;: [0, 1, 2, 3, 4, 5,\n",
       "                                                              6, 7, 8, 9, 10],\n",
       "                                        &#x27;num_leaves&#x27;: [2, 3, 4, 5, 6],\n",
       "                                        &#x27;reg_alpha&#x27;: [0.0001, 0.0003, 0.001,\n",
       "                                                      0.003, 0.01, 0.03, 0.1],\n",
       "                                        &#x27;reg_lambda&#x27;: [0.0001, 0.0003, 0.001,\n",
       "                                                       0.003, 0.01, 0.03, 0.1],\n",
       "                                        &#x27;subsample&#x27;: [0.4, 0.5, 0.6, 0.7, 0.8,\n",
       "                                                      0.9, 1.0],\n",
       "                                        &#x27;subsample_freq&#x27;: [0, 1, 2, 3, 4, 5, 6,\n",
       "                                                           7]},\n",
       "                   random_state=123, scoring=&#x27;neg_mean_absolute_error&#x27;)</pre><b>In a Jupyter environment, please rerun this cell to show the HTML representation or trust the notebook. <br />On GitHub, the HTML representation is unable to render, please try loading this page with nbviewer.org.</b></div><div class=\"sk-container\" hidden><div class=\"sk-item sk-dashed-wrapped\"><div class=\"sk-label-container\"><div class=\"sk-label sk-toggleable\"><input class=\"sk-toggleable__control sk-hidden--visually\" id=\"sk-estimator-id-1\" type=\"checkbox\" ><label for=\"sk-estimator-id-1\" class=\"sk-toggleable__label sk-toggleable__label-arrow\">RandomizedSearchCV</label><div class=\"sk-toggleable__content\"><pre>RandomizedSearchCV(cv=KFold(n_splits=3, random_state=123, shuffle=True),\n",
       "                   estimator=LGBMRegressor(), n_iter=1120, n_jobs=-1,\n",
       "                   param_distributions={&#x27;colsample_bytree&#x27;: [0.4, 0.5, 0.6, 0.7,\n",
       "                                                             0.8, 0.9, 1.0],\n",
       "                                        &#x27;min_child_samples&#x27;: [0, 1, 2, 3, 4, 5,\n",
       "                                                              6, 7, 8, 9, 10],\n",
       "                                        &#x27;num_leaves&#x27;: [2, 3, 4, 5, 6],\n",
       "                                        &#x27;reg_alpha&#x27;: [0.0001, 0.0003, 0.001,\n",
       "                                                      0.003, 0.01, 0.03, 0.1],\n",
       "                                        &#x27;reg_lambda&#x27;: [0.0001, 0.0003, 0.001,\n",
       "                                                       0.003, 0.01, 0.03, 0.1],\n",
       "                                        &#x27;subsample&#x27;: [0.4, 0.5, 0.6, 0.7, 0.8,\n",
       "                                                      0.9, 1.0],\n",
       "                                        &#x27;subsample_freq&#x27;: [0, 1, 2, 3, 4, 5, 6,\n",
       "                                                           7]},\n",
       "                   random_state=123, scoring=&#x27;neg_mean_absolute_error&#x27;)</pre></div></div></div><div class=\"sk-parallel\"><div class=\"sk-parallel-item\"><div class=\"sk-item\"><div class=\"sk-label-container\"><div class=\"sk-label sk-toggleable\"><input class=\"sk-toggleable__control sk-hidden--visually\" id=\"sk-estimator-id-2\" type=\"checkbox\" ><label for=\"sk-estimator-id-2\" class=\"sk-toggleable__label sk-toggleable__label-arrow\">estimator: LGBMRegressor</label><div class=\"sk-toggleable__content\"><pre>LGBMRegressor()</pre></div></div></div><div class=\"sk-serial\"><div class=\"sk-item\"><div class=\"sk-estimator sk-toggleable\"><input class=\"sk-toggleable__control sk-hidden--visually\" id=\"sk-estimator-id-3\" type=\"checkbox\" ><label for=\"sk-estimator-id-3\" class=\"sk-toggleable__label sk-toggleable__label-arrow\">LGBMRegressor</label><div class=\"sk-toggleable__content\"><pre>LGBMRegressor()</pre></div></div></div></div></div></div></div></div></div></div>"
      ],
      "text/plain": [
       "RandomizedSearchCV(cv=KFold(n_splits=3, random_state=123, shuffle=True),\n",
       "                   estimator=LGBMRegressor(), n_iter=1120, n_jobs=-1,\n",
       "                   param_distributions={'colsample_bytree': [0.4, 0.5, 0.6, 0.7,\n",
       "                                                             0.8, 0.9, 1.0],\n",
       "                                        'min_child_samples': [0, 1, 2, 3, 4, 5,\n",
       "                                                              6, 7, 8, 9, 10],\n",
       "                                        'num_leaves': [2, 3, 4, 5, 6],\n",
       "                                        'reg_alpha': [0.0001, 0.0003, 0.001,\n",
       "                                                      0.003, 0.01, 0.03, 0.1],\n",
       "                                        'reg_lambda': [0.0001, 0.0003, 0.001,\n",
       "                                                       0.003, 0.01, 0.03, 0.1],\n",
       "                                        'subsample': [0.4, 0.5, 0.6, 0.7, 0.8,\n",
       "                                                      0.9, 1.0],\n",
       "                                        'subsample_freq': [0, 1, 2, 3, 4, 5, 6,\n",
       "                                                           7]},\n",
       "                   random_state=123, scoring='neg_mean_absolute_error')"
      ]
     },
     "execution_count": 75,
     "metadata": {},
     "output_type": "execute_result"
    }
   ],
   "source": [
    "# ランダムサーチのインスタンス作成\n",
    "scoring=\"neg_mean_absolute_error\"\n",
    "cv = KFold(n_splits=3, shuffle=True, random_state=123)  # KFoldでクロスバリデーション分割指定\n",
    "\n",
    "randcv = RandomizedSearchCV(model, cv_params, cv=cv,\n",
    "                            scoring=scoring, random_state=123,\n",
    "                            n_iter=1120, n_jobs=-1)\n",
    "\n",
    "randcv.fit(train_x,train_y)"
   ]
  },
  {
   "cell_type": "code",
   "execution_count": null,
   "metadata": {
    "colab": {
     "base_uri": "https://localhost:8080/"
    },
    "id": "ast2HRXV3y1q",
    "outputId": "c6c7faeb-4de5-429f-9a01-63f10bcf56ac"
   },
   "outputs": [
    {
     "name": "stdout",
     "output_type": "stream",
     "text": [
      "{'subsample_freq': 7, 'subsample': 0.8, 'reg_lambda': 0.003, 'reg_alpha': 0.0001, 'num_leaves': 6, 'min_child_samples': 9, 'colsample_bytree': 1.0} -0.11413333368564944\n"
     ]
    }
   ],
   "source": [
    "print(randcv.best_params_,randcv.best_score_)"
   ]
  },
  {
   "cell_type": "markdown",
   "metadata": {
    "id": "TIOHUQiD50W4"
   },
   "source": [
    "#提出"
   ]
  },
  {
   "cell_type": "code",
   "execution_count": null,
   "metadata": {
    "colab": {
     "base_uri": "https://localhost:8080/"
    },
    "id": "gcVQI9U2Ayvy",
    "outputId": "b95dae77-b086-4af3-8028-d5144a463bfb"
   },
   "outputs": [
    {
     "data": {
      "text/html": [
       "\n",
       "  <div id=\"df-f05bb034-99b2-4757-ba62-7437274fa144\">\n",
       "    <div class=\"colab-df-container\">\n",
       "      <div>\n",
       "<style scoped>\n",
       "    .dataframe tbody tr th:only-of-type {\n",
       "        vertical-align: middle;\n",
       "    }\n",
       "\n",
       "    .dataframe tbody tr th {\n",
       "        vertical-align: top;\n",
       "    }\n",
       "\n",
       "    .dataframe thead th {\n",
       "        text-align: right;\n",
       "    }\n",
       "</style>\n",
       "<table border=\"1\" class=\"dataframe\">\n",
       "  <thead>\n",
       "    <tr style=\"text-align: right;\">\n",
       "      <th></th>\n",
       "      <th>ID</th>\n",
       "      <th>取引価格（総額）_log</th>\n",
       "    </tr>\n",
       "  </thead>\n",
       "  <tbody>\n",
       "    <tr>\n",
       "      <th>0</th>\n",
       "      <td>1000077</td>\n",
       "      <td>7.645626</td>\n",
       "    </tr>\n",
       "    <tr>\n",
       "      <th>1</th>\n",
       "      <td>1000081</td>\n",
       "      <td>7.629940</td>\n",
       "    </tr>\n",
       "    <tr>\n",
       "      <th>2</th>\n",
       "      <td>1000128</td>\n",
       "      <td>7.048015</td>\n",
       "    </tr>\n",
       "    <tr>\n",
       "      <th>3</th>\n",
       "      <td>1000129</td>\n",
       "      <td>6.582231</td>\n",
       "    </tr>\n",
       "    <tr>\n",
       "      <th>4</th>\n",
       "      <td>1000130</td>\n",
       "      <td>7.613086</td>\n",
       "    </tr>\n",
       "    <tr>\n",
       "      <th>...</th>\n",
       "      <td>...</td>\n",
       "      <td>...</td>\n",
       "    </tr>\n",
       "    <tr>\n",
       "      <th>19296</th>\n",
       "      <td>47006020</td>\n",
       "      <td>7.458711</td>\n",
       "    </tr>\n",
       "    <tr>\n",
       "      <th>19297</th>\n",
       "      <td>47006229</td>\n",
       "      <td>7.482280</td>\n",
       "    </tr>\n",
       "    <tr>\n",
       "      <th>19298</th>\n",
       "      <td>47006331</td>\n",
       "      <td>7.534564</td>\n",
       "    </tr>\n",
       "    <tr>\n",
       "      <th>19299</th>\n",
       "      <td>47006332</td>\n",
       "      <td>7.220994</td>\n",
       "    </tr>\n",
       "    <tr>\n",
       "      <th>19300</th>\n",
       "      <td>47006354</td>\n",
       "      <td>7.367800</td>\n",
       "    </tr>\n",
       "  </tbody>\n",
       "</table>\n",
       "<p>19301 rows × 2 columns</p>\n",
       "</div>\n",
       "      <button class=\"colab-df-convert\" onclick=\"convertToInteractive('df-f05bb034-99b2-4757-ba62-7437274fa144')\"\n",
       "              title=\"Convert this dataframe to an interactive table.\"\n",
       "              style=\"display:none;\">\n",
       "        \n",
       "  <svg xmlns=\"http://www.w3.org/2000/svg\" height=\"24px\"viewBox=\"0 0 24 24\"\n",
       "       width=\"24px\">\n",
       "    <path d=\"M0 0h24v24H0V0z\" fill=\"none\"/>\n",
       "    <path d=\"M18.56 5.44l.94 2.06.94-2.06 2.06-.94-2.06-.94-.94-2.06-.94 2.06-2.06.94zm-11 1L8.5 8.5l.94-2.06 2.06-.94-2.06-.94L8.5 2.5l-.94 2.06-2.06.94zm10 10l.94 2.06.94-2.06 2.06-.94-2.06-.94-.94-2.06-.94 2.06-2.06.94z\"/><path d=\"M17.41 7.96l-1.37-1.37c-.4-.4-.92-.59-1.43-.59-.52 0-1.04.2-1.43.59L10.3 9.45l-7.72 7.72c-.78.78-.78 2.05 0 2.83L4 21.41c.39.39.9.59 1.41.59.51 0 1.02-.2 1.41-.59l7.78-7.78 2.81-2.81c.8-.78.8-2.07 0-2.86zM5.41 20L4 18.59l7.72-7.72 1.47 1.35L5.41 20z\"/>\n",
       "  </svg>\n",
       "      </button>\n",
       "      \n",
       "  <style>\n",
       "    .colab-df-container {\n",
       "      display:flex;\n",
       "      flex-wrap:wrap;\n",
       "      gap: 12px;\n",
       "    }\n",
       "\n",
       "    .colab-df-convert {\n",
       "      background-color: #E8F0FE;\n",
       "      border: none;\n",
       "      border-radius: 50%;\n",
       "      cursor: pointer;\n",
       "      display: none;\n",
       "      fill: #1967D2;\n",
       "      height: 32px;\n",
       "      padding: 0 0 0 0;\n",
       "      width: 32px;\n",
       "    }\n",
       "\n",
       "    .colab-df-convert:hover {\n",
       "      background-color: #E2EBFA;\n",
       "      box-shadow: 0px 1px 2px rgba(60, 64, 67, 0.3), 0px 1px 3px 1px rgba(60, 64, 67, 0.15);\n",
       "      fill: #174EA6;\n",
       "    }\n",
       "\n",
       "    [theme=dark] .colab-df-convert {\n",
       "      background-color: #3B4455;\n",
       "      fill: #D2E3FC;\n",
       "    }\n",
       "\n",
       "    [theme=dark] .colab-df-convert:hover {\n",
       "      background-color: #434B5C;\n",
       "      box-shadow: 0px 1px 3px 1px rgba(0, 0, 0, 0.15);\n",
       "      filter: drop-shadow(0px 1px 2px rgba(0, 0, 0, 0.3));\n",
       "      fill: #FFFFFF;\n",
       "    }\n",
       "  </style>\n",
       "\n",
       "      <script>\n",
       "        const buttonEl =\n",
       "          document.querySelector('#df-f05bb034-99b2-4757-ba62-7437274fa144 button.colab-df-convert');\n",
       "        buttonEl.style.display =\n",
       "          google.colab.kernel.accessAllowed ? 'block' : 'none';\n",
       "\n",
       "        async function convertToInteractive(key) {\n",
       "          const element = document.querySelector('#df-f05bb034-99b2-4757-ba62-7437274fa144');\n",
       "          const dataTable =\n",
       "            await google.colab.kernel.invokeFunction('convertToInteractive',\n",
       "                                                     [key], {});\n",
       "          if (!dataTable) return;\n",
       "\n",
       "          const docLinkHtml = 'Like what you see? Visit the ' +\n",
       "            '<a target=\"_blank\" href=https://colab.research.google.com/notebooks/data_table.ipynb>data table notebook</a>'\n",
       "            + ' to learn more about interactive tables.';\n",
       "          element.innerHTML = '';\n",
       "          dataTable['output_type'] = 'display_data';\n",
       "          await google.colab.output.renderOutput(dataTable, element);\n",
       "          const docLink = document.createElement('div');\n",
       "          docLink.innerHTML = docLinkHtml;\n",
       "          element.appendChild(docLink);\n",
       "        }\n",
       "      </script>\n",
       "    </div>\n",
       "  </div>\n",
       "  "
      ],
      "text/plain": [
       "             ID  取引価格（総額）_log\n",
       "0       1000077      7.645626\n",
       "1       1000081      7.629940\n",
       "2       1000128      7.048015\n",
       "3       1000129      6.582231\n",
       "4       1000130      7.613086\n",
       "...         ...           ...\n",
       "19296  47006020      7.458711\n",
       "19297  47006229      7.482280\n",
       "19298  47006331      7.534564\n",
       "19299  47006332      7.220994\n",
       "19300  47006354      7.367800\n",
       "\n",
       "[19301 rows x 2 columns]"
      ]
     },
     "execution_count": 70,
     "metadata": {},
     "output_type": "execute_result"
    }
   ],
   "source": [
    "sub_df"
   ]
  },
  {
   "cell_type": "code",
   "execution_count": null,
   "metadata": {
    "id": "nq-MzWzxX9Vy"
   },
   "outputs": [],
   "source": [
    "sub_df = pd.merge(sub_df[['ID']], test_df[['ID', TARGET]], on='ID')\n",
    "sub_df.to_csv('test_submission.csv', index=False)"
   ]
  }
 ],
 "metadata": {
  "colab": {
   "collapsed_sections": [
    "TIOHUQiD50W4"
   ],
   "provenance": []
  },
  "kernelspec": {
   "display_name": "Python 3 (ipykernel)",
   "language": "python",
   "name": "python3"
  },
  "language_info": {
   "codemirror_mode": {
    "name": "ipython",
    "version": 3
   },
   "file_extension": ".py",
   "mimetype": "text/x-python",
   "name": "python",
   "nbconvert_exporter": "python",
   "pygments_lexer": "ipython3",
   "version": "3.8.16"
  }
 },
 "nbformat": 4,
 "nbformat_minor": 4
}
