{
 "cells": [
  {
   "cell_type": "code",
   "execution_count": 1,
   "id": "6f236183-25cf-498c-98c3-ac8192cef5bc",
   "metadata": {},
   "outputs": [],
   "source": [
    "import pandas as pd\n",
    "import matplotlib.pyplot as plt\n",
    "import seaborn as sns\n",
    "import numpy as np\n",
    "import urllib\n",
    "import requests\n",
    "import time\n",
    "import japanize_matplotlib\n",
    "from sklearn.metrics import mean_squared_error\n",
    "from scipy import stats as st"
   ]
  },
  {
   "cell_type": "code",
   "execution_count": 2,
   "id": "62a1da4e-345f-40cb-8102-d2706e835519",
   "metadata": {},
   "outputs": [],
   "source": [
    "holidays=pd.read_csv(\"holidays_in_japan.csv\")\n",
    "match=pd.read_csv(\"match_reports.csv\")\n",
    "sub_df=pd.read_csv(\"sample_submit.csv\",header=None)\n",
    "test=pd.read_csv(\"test.csv\")\n",
    "train=pd.read_csv(\"train.csv\")\n",
    "venue=pd.read_csv(\"venue_information.csv\")"
   ]
  },
  {
   "cell_type": "markdown",
   "id": "5ab6716d-ed85-4b77-8936-245738d8d006",
   "metadata": {},
   "source": [
    "# データフレームを合成"
   ]
  },
  {
   "cell_type": "code",
   "execution_count": 3,
   "id": "a9b4b76c-f469-468c-a2fe-ed063aac257b",
   "metadata": {},
   "outputs": [
    {
     "data": {
      "text/plain": [
       "Index(['id', 'match_date', 'kick_off_time', 'section', 'round', 'home_team',\n",
       "       'away_team', 'venue', 'weather', 'temperature', 'humidity',\n",
       "       'broadcasters', 'attendance'],\n",
       "      dtype='object')"
      ]
     },
     "execution_count": 3,
     "metadata": {},
     "output_type": "execute_result"
    }
   ],
   "source": [
    "train.columns"
   ]
  },
  {
   "cell_type": "code",
   "execution_count": 4,
   "id": "b6564ac4-592f-4e15-b448-7d8f2a5c616c",
   "metadata": {},
   "outputs": [
    {
     "data": {
      "text/plain": [
       "count     3366.000000\n",
       "mean     17961.112299\n",
       "std       9468.784878\n",
       "min          0.000000\n",
       "25%      11490.500000\n",
       "50%      15322.000000\n",
       "75%      21084.750000\n",
       "max      62632.000000\n",
       "Name: attendance, dtype: float64"
      ]
     },
     "execution_count": 4,
     "metadata": {},
     "output_type": "execute_result"
    }
   ],
   "source": [
    "train[\"attendance\"].describe()"
   ]
  },
  {
   "cell_type": "code",
   "execution_count": 5,
   "id": "63c467fb-7cae-4b87-8c70-835abba10fca",
   "metadata": {},
   "outputs": [],
   "source": [
    "df=pd.concat([train,test],axis=0)"
   ]
  },
  {
   "cell_type": "code",
   "execution_count": 6,
   "id": "d2d9bb8f-994a-4f9d-9b9a-55043bf4241d",
   "metadata": {},
   "outputs": [
    {
     "data": {
      "text/html": [
       "<div>\n",
       "<style scoped>\n",
       "    .dataframe tbody tr th:only-of-type {\n",
       "        vertical-align: middle;\n",
       "    }\n",
       "\n",
       "    .dataframe tbody tr th {\n",
       "        vertical-align: top;\n",
       "    }\n",
       "\n",
       "    .dataframe thead th {\n",
       "        text-align: right;\n",
       "    }\n",
       "</style>\n",
       "<table border=\"1\" class=\"dataframe\">\n",
       "  <thead>\n",
       "    <tr style=\"text-align: right;\">\n",
       "      <th></th>\n",
       "      <th>id</th>\n",
       "      <th>match_date</th>\n",
       "      <th>kick_off_time</th>\n",
       "      <th>section</th>\n",
       "      <th>round</th>\n",
       "      <th>home_team</th>\n",
       "      <th>away_team</th>\n",
       "      <th>venue</th>\n",
       "      <th>weather</th>\n",
       "      <th>temperature</th>\n",
       "      <th>humidity</th>\n",
       "      <th>broadcasters</th>\n",
       "      <th>attendance</th>\n",
       "    </tr>\n",
       "  </thead>\n",
       "  <tbody>\n",
       "    <tr>\n",
       "      <th>48</th>\n",
       "      <td>9238</td>\n",
       "      <td>2006-04-02</td>\n",
       "      <td>14:04</td>\n",
       "      <td>第6節</td>\n",
       "      <td>第2日</td>\n",
       "      <td>京都</td>\n",
       "      <td>福岡</td>\n",
       "      <td>京都市西京極総合運動公園陸上競技場兼球技場</td>\n",
       "      <td>雨</td>\n",
       "      <td>16.0</td>\n",
       "      <td>85.0</td>\n",
       "      <td>BS-i/KBS京都(録)/J SPORTS(録)</td>\n",
       "      <td>3670.0</td>\n",
       "    </tr>\n",
       "    <tr>\n",
       "      <th>182</th>\n",
       "      <td>9372</td>\n",
       "      <td>2006-08-30</td>\n",
       "      <td>19:04</td>\n",
       "      <td>第21節</td>\n",
       "      <td>第1日</td>\n",
       "      <td>大宮</td>\n",
       "      <td>福岡</td>\n",
       "      <td>さいたま市浦和駒場スタジアム</td>\n",
       "      <td>曇</td>\n",
       "      <td>25.9</td>\n",
       "      <td>68.0</td>\n",
       "      <td>テレ玉/J SPORTS(録)</td>\n",
       "      <td>4873.0</td>\n",
       "    </tr>\n",
       "    <tr>\n",
       "      <th>387</th>\n",
       "      <td>10066</td>\n",
       "      <td>2007-05-06</td>\n",
       "      <td>13:03</td>\n",
       "      <td>第10節</td>\n",
       "      <td>第1日</td>\n",
       "      <td>横浜FC</td>\n",
       "      <td>神戸</td>\n",
       "      <td>横浜市三ツ沢公園球技場</td>\n",
       "      <td>雨</td>\n",
       "      <td>17.2</td>\n",
       "      <td>83.0</td>\n",
       "      <td>スカパー!(パーフェクト チョイス)/e2(スカチャン!)</td>\n",
       "      <td>4458.0</td>\n",
       "    </tr>\n",
       "    <tr>\n",
       "      <th>414</th>\n",
       "      <td>10093</td>\n",
       "      <td>2007-05-26</td>\n",
       "      <td>13:03</td>\n",
       "      <td>第13節</td>\n",
       "      <td>第1日</td>\n",
       "      <td>横浜FC</td>\n",
       "      <td>大分</td>\n",
       "      <td>横浜市三ツ沢公園球技場</td>\n",
       "      <td>晴</td>\n",
       "      <td>27.5</td>\n",
       "      <td>38.0</td>\n",
       "      <td>スカパー!(パーフェクト チョイス)/e2(スカチャン!)</td>\n",
       "      <td>4935.0</td>\n",
       "    </tr>\n",
       "    <tr>\n",
       "      <th>569</th>\n",
       "      <td>10248</td>\n",
       "      <td>2007-10-27</td>\n",
       "      <td>14:03</td>\n",
       "      <td>第30節</td>\n",
       "      <td>第1日</td>\n",
       "      <td>横浜FC</td>\n",
       "      <td>大宮</td>\n",
       "      <td>横浜市三ツ沢公園球技場</td>\n",
       "      <td>雨</td>\n",
       "      <td>17.0</td>\n",
       "      <td>87.0</td>\n",
       "      <td>スカパー!・e2(J sports Plus)/BS</td>\n",
       "      <td>4114.0</td>\n",
       "    </tr>\n",
       "    <tr>\n",
       "      <th>1564</th>\n",
       "      <td>13272</td>\n",
       "      <td>2011-07-13</td>\n",
       "      <td>19:00</td>\n",
       "      <td>第4節</td>\n",
       "      <td>第2日</td>\n",
       "      <td>福岡</td>\n",
       "      <td>大宮</td>\n",
       "      <td>レベルファイブスタジアム</td>\n",
       "      <td>曇</td>\n",
       "      <td>27.1</td>\n",
       "      <td>84.0</td>\n",
       "      <td>スカパー/スカパー光/e2(フジテレビTWO)</td>\n",
       "      <td>4028.0</td>\n",
       "    </tr>\n",
       "    <tr>\n",
       "      <th>2479</th>\n",
       "      <td>15699</td>\n",
       "      <td>2014-03-23</td>\n",
       "      <td>15:04</td>\n",
       "      <td>第4節</td>\n",
       "      <td>第1日</td>\n",
       "      <td>浦和</td>\n",
       "      <td>清水</td>\n",
       "      <td>埼玉スタジアム2002</td>\n",
       "      <td>晴</td>\n",
       "      <td>16.2</td>\n",
       "      <td>23.0</td>\n",
       "      <td>スカパー!/スカパー!プレミアムサービス/テレ玉</td>\n",
       "      <td>0.0</td>\n",
       "    </tr>\n",
       "    <tr>\n",
       "      <th>2608</th>\n",
       "      <td>15829</td>\n",
       "      <td>2014-08-02</td>\n",
       "      <td>18:34</td>\n",
       "      <td>第18節</td>\n",
       "      <td>第1日</td>\n",
       "      <td>徳島</td>\n",
       "      <td>甲府</td>\n",
       "      <td>鳴門・大塚スポーツパークポカリスエットスタジアム</td>\n",
       "      <td>雨</td>\n",
       "      <td>24.4</td>\n",
       "      <td>91.0</td>\n",
       "      <td>スカパー!/スカパー!プレミアムサービス</td>\n",
       "      <td>3594.0</td>\n",
       "    </tr>\n",
       "    <tr>\n",
       "      <th>2749</th>\n",
       "      <td>15970</td>\n",
       "      <td>2014-12-08</td>\n",
       "      <td>19:03</td>\n",
       "      <td>第34節</td>\n",
       "      <td>第2日</td>\n",
       "      <td>新潟</td>\n",
       "      <td>柏</td>\n",
       "      <td>県立カシマサッカースタジアム</td>\n",
       "      <td>晴</td>\n",
       "      <td>7.0</td>\n",
       "      <td>63.0</td>\n",
       "      <td>スカパー!/スカパー!プレミアムサービス</td>\n",
       "      <td>2104.0</td>\n",
       "    </tr>\n",
       "  </tbody>\n",
       "</table>\n",
       "</div>"
      ],
      "text/plain": [
       "         id  match_date kick_off_time section round home_team away_team  \\\n",
       "48     9238  2006-04-02         14:04     第6節   第2日        京都        福岡   \n",
       "182    9372  2006-08-30         19:04    第21節   第1日        大宮        福岡   \n",
       "387   10066  2007-05-06         13:03    第10節   第1日      横浜FC        神戸   \n",
       "414   10093  2007-05-26         13:03    第13節   第1日      横浜FC        大分   \n",
       "569   10248  2007-10-27         14:03    第30節   第1日      横浜FC        大宮   \n",
       "1564  13272  2011-07-13         19:00     第4節   第2日        福岡        大宮   \n",
       "2479  15699  2014-03-23         15:04     第4節   第1日        浦和        清水   \n",
       "2608  15829  2014-08-02         18:34    第18節   第1日        徳島        甲府   \n",
       "2749  15970  2014-12-08         19:03    第34節   第2日        新潟         柏   \n",
       "\n",
       "                         venue weather  temperature  humidity  \\\n",
       "48       京都市西京極総合運動公園陸上競技場兼球技場       雨         16.0      85.0   \n",
       "182             さいたま市浦和駒場スタジアム       曇         25.9      68.0   \n",
       "387                横浜市三ツ沢公園球技場       雨         17.2      83.0   \n",
       "414                横浜市三ツ沢公園球技場       晴         27.5      38.0   \n",
       "569                横浜市三ツ沢公園球技場       雨         17.0      87.0   \n",
       "1564              レベルファイブスタジアム       曇         27.1      84.0   \n",
       "2479               埼玉スタジアム2002       晴         16.2      23.0   \n",
       "2608  鳴門・大塚スポーツパークポカリスエットスタジアム       雨         24.4      91.0   \n",
       "2749            県立カシマサッカースタジアム       晴          7.0      63.0   \n",
       "\n",
       "                       broadcasters  attendance  \n",
       "48        BS-i/KBS京都(録)/J SPORTS(録)      3670.0  \n",
       "182                 テレ玉/J SPORTS(録)      4873.0  \n",
       "387   スカパー!(パーフェクト チョイス)/e2(スカチャン!)      4458.0  \n",
       "414   スカパー!(パーフェクト チョイス)/e2(スカチャン!)      4935.0  \n",
       "569      スカパー!・e2(J sports Plus)/BS      4114.0  \n",
       "1564        スカパー/スカパー光/e2(フジテレビTWO)      4028.0  \n",
       "2479       スカパー!/スカパー!プレミアムサービス/テレ玉         0.0  \n",
       "2608           スカパー!/スカパー!プレミアムサービス      3594.0  \n",
       "2749           スカパー!/スカパー!プレミアムサービス      2104.0  "
      ]
     },
     "execution_count": 6,
     "metadata": {},
     "output_type": "execute_result"
    }
   ],
   "source": [
    "df[df[\"attendance\"]<5000]"
   ]
  },
  {
   "cell_type": "code",
   "execution_count": 7,
   "id": "faaa6f45-abb7-4450-80c3-39c2a62cfe8c",
   "metadata": {},
   "outputs": [
    {
     "data": {
      "image/png": "[encoded data removed]",
      "text/plain": [
       "<Figure size 1500x500 with 1 Axes>"
      ]
     },
     "metadata": {},
     "output_type": "display_data"
    }
   ],
   "source": [
    "plt.figure(figsize=(15,5))\n",
    "sns.boxplot(x=\"home_team\",y=\"attendance\",data=df)\n",
    "plt.show()"
   ]
  },
  {
   "cell_type": "code",
   "execution_count": 8,
   "id": "27e55eba-ac4e-4712-8b2f-c7f74905819b",
   "metadata": {},
   "outputs": [],
   "source": [
    "df[\"capacity\"]=np.nan"
   ]
  },
  {
   "cell_type": "code",
   "execution_count": 9,
   "id": "7c8c5901-fa90-417d-85de-f0bd1e672c8f",
   "metadata": {},
   "outputs": [],
   "source": [
    "df=df.merge(venue[[\"venue\",\"capacity\",\"address\"]],on=\"venue\",how=\"left\").drop(\"capacity_x\",axis=1)"
   ]
  },
  {
   "cell_type": "markdown",
   "id": "8033fb53-2760-4220-a06f-e612f4263814",
   "metadata": {},
   "source": [
    "# 当日、次の日がholidayかどうか"
   ]
  },
  {
   "cell_type": "code",
   "execution_count": 10,
   "id": "d42f9218-8604-4f27-af44-ecc3ab57bfb4",
   "metadata": {},
   "outputs": [
    {
     "ename": "TypeError",
     "evalue": "can only concatenate str (not \"Timedelta\") to str",
     "output_type": "error",
     "traceback": [
      "\u001b[1;31m---------------------------------------------------------------------------\u001b[0m",
      "\u001b[1;31mTypeError\u001b[0m                                 Traceback (most recent call last)",
      "Cell \u001b[1;32mIn[10], line 1\u001b[0m\n\u001b[1;32m----> 1\u001b[0m df[\u001b[38;5;124m'\u001b[39m\u001b[38;5;124mis_next_day_holiday\u001b[39m\u001b[38;5;124m'\u001b[39m] \u001b[38;5;241m=\u001b[39m \u001b[43mdf\u001b[49m\u001b[43m[\u001b[49m\u001b[38;5;124;43m'\u001b[39;49m\u001b[38;5;124;43mmatch_date\u001b[39;49m\u001b[38;5;124;43m'\u001b[39;49m\u001b[43m]\u001b[49m\u001b[38;5;241;43m.\u001b[39;49m\u001b[43mapply\u001b[49m\u001b[43m(\u001b[49m\u001b[38;5;28;43;01mlambda\u001b[39;49;00m\u001b[43m \u001b[49m\u001b[43mx\u001b[49m\u001b[43m:\u001b[49m\u001b[43m \u001b[49m\u001b[38;5;241;43m1\u001b[39;49m\u001b[43m \u001b[49m\u001b[38;5;28;43;01mif\u001b[39;49;00m\u001b[43m \u001b[49m\u001b[43m(\u001b[49m\u001b[43mx\u001b[49m\u001b[43m \u001b[49m\u001b[38;5;241;43m+\u001b[39;49m\u001b[43m \u001b[49m\u001b[43mpd\u001b[49m\u001b[38;5;241;43m.\u001b[39;49m\u001b[43mTimedelta\u001b[49m\u001b[43m(\u001b[49m\u001b[43mdays\u001b[49m\u001b[38;5;241;43m=\u001b[39;49m\u001b[38;5;241;43m1\u001b[39;49m\u001b[43m)\u001b[49m\u001b[43m)\u001b[49m\u001b[43m \u001b[49m\u001b[38;5;129;43;01min\u001b[39;49;00m\u001b[43m \u001b[49m\u001b[43mholidays\u001b[49m\u001b[43m[\u001b[49m\u001b[38;5;124;43m'\u001b[39;49m\u001b[38;5;124;43mholiday_date\u001b[39;49m\u001b[38;5;124;43m'\u001b[39;49m\u001b[43m]\u001b[49m\u001b[38;5;241;43m.\u001b[39;49m\u001b[43mvalues\u001b[49m\u001b[43m \u001b[49m\u001b[38;5;28;43;01melse\u001b[39;49;00m\u001b[43m \u001b[49m\u001b[38;5;241;43m0\u001b[39;49m\u001b[43m)\u001b[49m\n\u001b[0;32m      2\u001b[0m df[\u001b[38;5;124m'\u001b[39m\u001b[38;5;124mis_this_day_holiday\u001b[39m\u001b[38;5;124m'\u001b[39m] \u001b[38;5;241m=\u001b[39m df[\u001b[38;5;124m'\u001b[39m\u001b[38;5;124mmatch_date\u001b[39m\u001b[38;5;124m'\u001b[39m]\u001b[38;5;241m.\u001b[39mapply(\u001b[38;5;28;01mlambda\u001b[39;00m x: \u001b[38;5;241m1\u001b[39m \u001b[38;5;28;01mif\u001b[39;00m (x \u001b[38;5;241m+\u001b[39m pd\u001b[38;5;241m.\u001b[39mTimedelta(days\u001b[38;5;241m=\u001b[39m\u001b[38;5;241m0\u001b[39m)) \u001b[38;5;129;01min\u001b[39;00m holidays[\u001b[38;5;124m'\u001b[39m\u001b[38;5;124mholiday_date\u001b[39m\u001b[38;5;124m'\u001b[39m]\u001b[38;5;241m.\u001b[39mvalues \u001b[38;5;28;01melse\u001b[39;00m \u001b[38;5;241m0\u001b[39m)\n\u001b[0;32m      3\u001b[0m df\u001b[38;5;241m=\u001b[39mdf\u001b[38;5;241m.\u001b[39mdrop(\u001b[38;5;124m\"\u001b[39m\u001b[38;5;124mmatch_date\u001b[39m\u001b[38;5;124m\"\u001b[39m,axis\u001b[38;5;241m=\u001b[39m\u001b[38;5;241m1\u001b[39m)\n",
      "File \u001b[1;32m~\\AppData\\Roaming\\jupyterlab-desktop\\jlab_server\\lib\\site-packages\\pandas\\core\\series.py:4630\u001b[0m, in \u001b[0;36mSeries.apply\u001b[1;34m(self, func, convert_dtype, args, **kwargs)\u001b[0m\n\u001b[0;32m   4520\u001b[0m \u001b[38;5;28;01mdef\u001b[39;00m \u001b[38;5;21mapply\u001b[39m(\n\u001b[0;32m   4521\u001b[0m     \u001b[38;5;28mself\u001b[39m,\n\u001b[0;32m   4522\u001b[0m     func: AggFuncType,\n\u001b[1;32m   (...)\u001b[0m\n\u001b[0;32m   4525\u001b[0m     \u001b[38;5;241m*\u001b[39m\u001b[38;5;241m*\u001b[39mkwargs,\n\u001b[0;32m   4526\u001b[0m ) \u001b[38;5;241m-\u001b[39m\u001b[38;5;241m>\u001b[39m DataFrame \u001b[38;5;241m|\u001b[39m Series:\n\u001b[0;32m   4527\u001b[0m \u001b[38;5;250m    \u001b[39m\u001b[38;5;124;03m\"\"\"\u001b[39;00m\n\u001b[0;32m   4528\u001b[0m \u001b[38;5;124;03m    Invoke function on values of Series.\u001b[39;00m\n\u001b[0;32m   4529\u001b[0m \n\u001b[1;32m   (...)\u001b[0m\n\u001b[0;32m   4628\u001b[0m \u001b[38;5;124;03m    dtype: float64\u001b[39;00m\n\u001b[0;32m   4629\u001b[0m \u001b[38;5;124;03m    \"\"\"\u001b[39;00m\n\u001b[1;32m-> 4630\u001b[0m     \u001b[38;5;28;01mreturn\u001b[39;00m \u001b[43mSeriesApply\u001b[49m\u001b[43m(\u001b[49m\u001b[38;5;28;43mself\u001b[39;49m\u001b[43m,\u001b[49m\u001b[43m \u001b[49m\u001b[43mfunc\u001b[49m\u001b[43m,\u001b[49m\u001b[43m \u001b[49m\u001b[43mconvert_dtype\u001b[49m\u001b[43m,\u001b[49m\u001b[43m \u001b[49m\u001b[43margs\u001b[49m\u001b[43m,\u001b[49m\u001b[43m \u001b[49m\u001b[43mkwargs\u001b[49m\u001b[43m)\u001b[49m\u001b[38;5;241;43m.\u001b[39;49m\u001b[43mapply\u001b[49m\u001b[43m(\u001b[49m\u001b[43m)\u001b[49m\n",
      "File \u001b[1;32m~\\AppData\\Roaming\\jupyterlab-desktop\\jlab_server\\lib\\site-packages\\pandas\\core\\apply.py:1025\u001b[0m, in \u001b[0;36mSeriesApply.apply\u001b[1;34m(self)\u001b[0m\n\u001b[0;32m   1022\u001b[0m     \u001b[38;5;28;01mreturn\u001b[39;00m \u001b[38;5;28mself\u001b[39m\u001b[38;5;241m.\u001b[39mapply_str()\n\u001b[0;32m   1024\u001b[0m \u001b[38;5;66;03m# self.f is Callable\u001b[39;00m\n\u001b[1;32m-> 1025\u001b[0m \u001b[38;5;28;01mreturn\u001b[39;00m \u001b[38;5;28;43mself\u001b[39;49m\u001b[38;5;241;43m.\u001b[39;49m\u001b[43mapply_standard\u001b[49m\u001b[43m(\u001b[49m\u001b[43m)\u001b[49m\n",
      "File \u001b[1;32m~\\AppData\\Roaming\\jupyterlab-desktop\\jlab_server\\lib\\site-packages\\pandas\\core\\apply.py:1076\u001b[0m, in \u001b[0;36mSeriesApply.apply_standard\u001b[1;34m(self)\u001b[0m\n\u001b[0;32m   1074\u001b[0m     \u001b[38;5;28;01melse\u001b[39;00m:\n\u001b[0;32m   1075\u001b[0m         values \u001b[38;5;241m=\u001b[39m obj\u001b[38;5;241m.\u001b[39mastype(\u001b[38;5;28mobject\u001b[39m)\u001b[38;5;241m.\u001b[39m_values\n\u001b[1;32m-> 1076\u001b[0m         mapped \u001b[38;5;241m=\u001b[39m \u001b[43mlib\u001b[49m\u001b[38;5;241;43m.\u001b[39;49m\u001b[43mmap_infer\u001b[49m\u001b[43m(\u001b[49m\n\u001b[0;32m   1077\u001b[0m \u001b[43m            \u001b[49m\u001b[43mvalues\u001b[49m\u001b[43m,\u001b[49m\n\u001b[0;32m   1078\u001b[0m \u001b[43m            \u001b[49m\u001b[43mf\u001b[49m\u001b[43m,\u001b[49m\n\u001b[0;32m   1079\u001b[0m \u001b[43m            \u001b[49m\u001b[43mconvert\u001b[49m\u001b[38;5;241;43m=\u001b[39;49m\u001b[38;5;28;43mself\u001b[39;49m\u001b[38;5;241;43m.\u001b[39;49m\u001b[43mconvert_dtype\u001b[49m\u001b[43m,\u001b[49m\n\u001b[0;32m   1080\u001b[0m \u001b[43m        \u001b[49m\u001b[43m)\u001b[49m\n\u001b[0;32m   1082\u001b[0m \u001b[38;5;28;01mif\u001b[39;00m \u001b[38;5;28mlen\u001b[39m(mapped) \u001b[38;5;129;01mand\u001b[39;00m \u001b[38;5;28misinstance\u001b[39m(mapped[\u001b[38;5;241m0\u001b[39m], ABCSeries):\n\u001b[0;32m   1083\u001b[0m     \u001b[38;5;66;03m# GH#43986 Need to do list(mapped) in order to get treated as nested\u001b[39;00m\n\u001b[0;32m   1084\u001b[0m     \u001b[38;5;66;03m#  See also GH#25959 regarding EA support\u001b[39;00m\n\u001b[0;32m   1085\u001b[0m     \u001b[38;5;28;01mreturn\u001b[39;00m obj\u001b[38;5;241m.\u001b[39m_constructor_expanddim(\u001b[38;5;28mlist\u001b[39m(mapped), index\u001b[38;5;241m=\u001b[39mobj\u001b[38;5;241m.\u001b[39mindex)\n",
      "File \u001b[1;32m~\\AppData\\Roaming\\jupyterlab-desktop\\jlab_server\\lib\\site-packages\\pandas\\_libs\\lib.pyx:2834\u001b[0m, in \u001b[0;36mpandas._libs.lib.map_infer\u001b[1;34m()\u001b[0m\n",
      "Cell \u001b[1;32mIn[10], line 1\u001b[0m, in \u001b[0;36m<lambda>\u001b[1;34m(x)\u001b[0m\n\u001b[1;32m----> 1\u001b[0m df[\u001b[38;5;124m'\u001b[39m\u001b[38;5;124mis_next_day_holiday\u001b[39m\u001b[38;5;124m'\u001b[39m] \u001b[38;5;241m=\u001b[39m df[\u001b[38;5;124m'\u001b[39m\u001b[38;5;124mmatch_date\u001b[39m\u001b[38;5;124m'\u001b[39m]\u001b[38;5;241m.\u001b[39mapply(\u001b[38;5;28;01mlambda\u001b[39;00m x: \u001b[38;5;241m1\u001b[39m \u001b[38;5;28;01mif\u001b[39;00m (\u001b[43mx\u001b[49m\u001b[43m \u001b[49m\u001b[38;5;241;43m+\u001b[39;49m\u001b[43m \u001b[49m\u001b[43mpd\u001b[49m\u001b[38;5;241;43m.\u001b[39;49m\u001b[43mTimedelta\u001b[49m\u001b[43m(\u001b[49m\u001b[43mdays\u001b[49m\u001b[38;5;241;43m=\u001b[39;49m\u001b[38;5;241;43m1\u001b[39;49m\u001b[43m)\u001b[49m) \u001b[38;5;129;01min\u001b[39;00m holidays[\u001b[38;5;124m'\u001b[39m\u001b[38;5;124mholiday_date\u001b[39m\u001b[38;5;124m'\u001b[39m]\u001b[38;5;241m.\u001b[39mvalues \u001b[38;5;28;01melse\u001b[39;00m \u001b[38;5;241m0\u001b[39m)\n\u001b[0;32m      2\u001b[0m df[\u001b[38;5;124m'\u001b[39m\u001b[38;5;124mis_this_day_holiday\u001b[39m\u001b[38;5;124m'\u001b[39m] \u001b[38;5;241m=\u001b[39m df[\u001b[38;5;124m'\u001b[39m\u001b[38;5;124mmatch_date\u001b[39m\u001b[38;5;124m'\u001b[39m]\u001b[38;5;241m.\u001b[39mapply(\u001b[38;5;28;01mlambda\u001b[39;00m x: \u001b[38;5;241m1\u001b[39m \u001b[38;5;28;01mif\u001b[39;00m (x \u001b[38;5;241m+\u001b[39m pd\u001b[38;5;241m.\u001b[39mTimedelta(days\u001b[38;5;241m=\u001b[39m\u001b[38;5;241m0\u001b[39m)) \u001b[38;5;129;01min\u001b[39;00m holidays[\u001b[38;5;124m'\u001b[39m\u001b[38;5;124mholiday_date\u001b[39m\u001b[38;5;124m'\u001b[39m]\u001b[38;5;241m.\u001b[39mvalues \u001b[38;5;28;01melse\u001b[39;00m \u001b[38;5;241m0\u001b[39m)\n\u001b[0;32m      3\u001b[0m df\u001b[38;5;241m=\u001b[39mdf\u001b[38;5;241m.\u001b[39mdrop(\u001b[38;5;124m\"\u001b[39m\u001b[38;5;124mmatch_date\u001b[39m\u001b[38;5;124m\"\u001b[39m,axis\u001b[38;5;241m=\u001b[39m\u001b[38;5;241m1\u001b[39m)\n",
      "\u001b[1;31mTypeError\u001b[0m: can only concatenate str (not \"Timedelta\") to str"
     ]
    }
   ],
   "source": [
    "df['is_next_day_holiday'] = df['match_date'].apply(lambda x: 1 if (x + pd.Timedelta(days=1)) in holidays['holiday_date'].values else 0)\n",
    "df['is_this_day_holiday'] = df['match_date'].apply(lambda x: 1 if (x + pd.Timedelta(days=0)) in holidays['holiday_date'].values else 0)\n",
    "df=df.drop(\"match_date\",axis=1)"
   ]
  },
  {
   "cell_type": "code",
   "execution_count": null,
   "id": "875fefc9-7f23-419e-8e06-e8ebc70d42c1",
   "metadata": {},
   "outputs": [],
   "source": [
    "df[\"section\"]=df[\"section\"].apply(lambda x:int(x[1]))\n",
    "df[\"round\"]=df[\"round\"].apply(lambda x:int(x[1]))"
   ]
  },
  {
   "cell_type": "markdown",
   "id": "e4527ebf-6e70-4476-be6f-2c1becf4a084",
   "metadata": {},
   "source": [
    "# kick_off_timeが夜かどうか"
   ]
  },
  {
   "cell_type": "code",
   "execution_count": null,
   "id": "253c8896-3eb2-43b1-ab7a-d2b97eab553a",
   "metadata": {},
   "outputs": [],
   "source": [
    "df[\"kick_off_hour\"]=df[\"kick_off_time\"].apply(lambda x: int(x[:2]))"
   ]
  },
  {
   "cell_type": "code",
   "execution_count": null,
   "id": "f1f796e8-49a2-492e-ac7f-175a0c8a1533",
   "metadata": {},
   "outputs": [],
   "source": [
    "plt.hist(df[\"kick_off_hour\"])"
   ]
  },
  {
   "cell_type": "markdown",
   "id": "2d14de62-59ab-4f5a-8023-76b0c0ddf5dc",
   "metadata": {},
   "source": [
    "# 昼と夜に2分割する"
   ]
  },
  {
   "cell_type": "code",
   "execution_count": null,
   "id": "9e6ed7e7-970b-4f06-ac4f-f08f8defaedb",
   "metadata": {},
   "outputs": [],
   "source": [
    "df[\"kick_off_time_is_night\"]=df[\"kick_off_hour\"].apply(lambda x: 1 if x>=16 else 0)"
   ]
  },
  {
   "cell_type": "code",
   "execution_count": null,
   "id": "01fc07c7-a3f9-4209-adfd-3e7c8d8deae3",
   "metadata": {},
   "outputs": [],
   "source": [
    "df=df.drop([\"kick_off_time\",\"kick_off_hour\"],axis=1)"
   ]
  },
  {
   "cell_type": "code",
   "execution_count": null,
   "id": "5efda812-7e36-4fcd-b6ba-58c77a73d49b",
   "metadata": {},
   "outputs": [],
   "source": [
    "df"
   ]
  },
  {
   "cell_type": "markdown",
   "id": "f3439c53-26a6-4351-bbef-ebde2a277a82",
   "metadata": {},
   "source": [
    "# 座標取得"
   ]
  },
  {
   "cell_type": "code",
   "execution_count": null,
   "id": "890bacd5-e6e4-4513-a50a-9b4ec8a77b26",
   "metadata": {},
   "outputs": [],
   "source": [
    "for i,j in df[\"address\"].value_counts().items():\n",
    "    makeUrl = \"https://msearch.gsi.go.jp/address-search/AddressSearch?q=\"\n",
    "    s_quote = urllib.parse.quote(i)\n",
    "    response = requests.get(makeUrl + s_quote)\n",
    "    ido=response.json()[0][\"geometry\"][\"coordinates\"][::-1]\n",
    "    print(i,ido)\n",
    "    df.loc[df[\"address\"]==i,[\"x\",\"y\"]]=ido\n",
    "    time.sleep(0.5)"
   ]
  },
  {
   "cell_type": "code",
   "execution_count": null,
   "id": "71067989-f911-461f-bc94-caf53a0cd289",
   "metadata": {},
   "outputs": [],
   "source": [
    "df=df.drop([\"venue\",\"address\"],axis=1)"
   ]
  },
  {
   "cell_type": "markdown",
   "id": "f794305e-510f-42fe-96c5-2396ce0d2fba",
   "metadata": {},
   "source": [
    "# データフレームをリセット　ココで一時保存"
   ]
  },
  {
   "cell_type": "code",
   "execution_count": null,
   "id": "5ebd3f1f-fb61-4118-b0fe-a4deb0670917",
   "metadata": {},
   "outputs": [],
   "source": [
    "# df.to_csv('latlng(1).csv', index=False)"
   ]
  },
  {
   "cell_type": "code",
   "execution_count": null,
   "id": "26372b86-2bab-43a4-8f74-7c44c52e15e2",
   "metadata": {},
   "outputs": [],
   "source": [
    "import pandas as pd\n",
    "import matplotlib.pyplot as plt\n",
    "import seaborn as sns\n",
    "import numpy as np\n",
    "import urllib\n",
    "import requests\n",
    "import time\n",
    "import japanize_matplotlib\n",
    "from sklearn.metrics import mean_squared_error\n",
    "from scipy import stats as st\n",
    "from sklearn.model_selection import GridSearchCV\n",
    "from sklearn.ensemble import RandomForestRegressor\n",
    "from sklearn.model_selection import cross_val_score\n",
    "from sklearn.ensemble import RandomForestRegressor\n",
    "from sklearn.metrics import median_absolute_error\n",
    "df=pd.read_csv(\"latlng.csv\")\n",
    "sub_df=pd.read_csv(\"sample_submit.csv\",header=None)\n",
    "test=pd.read_csv(\"test.csv\")\n",
    "train=pd.read_csv(\"train.csv\")"
   ]
  },
  {
   "cell_type": "code",
   "execution_count": null,
   "id": "bba032ce-0195-453b-a93e-85e241475916",
   "metadata": {},
   "outputs": [],
   "source": [
    "plt.figure(figsize=(15,5))\n",
    "sns.boxplot(x=\"away_team\",y=\"attendance\",data=df)\n",
    "plt.show()"
   ]
  },
  {
   "cell_type": "code",
   "execution_count": null,
   "id": "8a17f649-1048-41db-9cff-dd385027b716",
   "metadata": {},
   "outputs": [],
   "source": [
    "df=df[(df[\"attendance\"]>=0)&(df[\"attendance\"]<=62241.0)|(df[\"attendance\"].isnull())]"
   ]
  },
  {
   "cell_type": "code",
   "execution_count": null,
   "id": "7ba7be0e-30a2-4a7c-92cd-1d02dbee5ecf",
   "metadata": {},
   "outputs": [],
   "source": [
    "plt.figure(figsize=(15,5))\n",
    "sns.boxplot(x=\"away_team\",y=\"attendance\",data=df)\n",
    "plt.show()"
   ]
  },
  {
   "cell_type": "markdown",
   "id": "d1b0e1c3-bcc4-4b7b-b52c-5f7ab77b8164",
   "metadata": {},
   "source": [
    "# 天気の処理"
   ]
  },
  {
   "cell_type": "code",
   "execution_count": null,
   "id": "055f7726-303d-4ba2-87f7-5333966ca42b",
   "metadata": {},
   "outputs": [],
   "source": [
    "plt.figure(figsize=(15,5))\n",
    "sns.scatterplot(x=\"weather\",y=\"attendance\",data=df)\n",
    "plt.xticks(rotation=45)\n",
    "plt.show()"
   ]
  },
  {
   "cell_type": "code",
   "execution_count": null,
   "id": "d2e89b4d-0dc4-4e51-8dd0-e650659b119d",
   "metadata": {},
   "outputs": [],
   "source": [
    "df[\"weather\"]=df[\"weather\"].apply(lambda x:x[0] if \"一時\" or \"時々\" in x else x)\n",
    "df[\"weather\"]=df[\"weather\"].apply(lambda x: \"雨\" if x==\"霧\" or x==\"雷\" or x==\"雪\"  else x)\n",
    "df[\"weather\"].value_counts()"
   ]
  },
  {
   "cell_type": "code",
   "execution_count": null,
   "id": "f8257e30-927b-45fd-8b2e-508cd225ecbf",
   "metadata": {},
   "outputs": [],
   "source": [
    "plt.figure(figsize=(15,5))\n",
    "sns.scatterplot(x=\"weather\",y=\"attendance\",data=df)\n",
    "plt.xticks(rotation=45)\n",
    "plt.show()"
   ]
  },
  {
   "cell_type": "markdown",
   "id": "2aabdfe5-10ca-4411-badb-085a98abd744",
   "metadata": {},
   "source": [
    "# weatherエンコーディング"
   ]
  },
  {
   "cell_type": "code",
   "execution_count": null,
   "id": "d0000eea-4100-4844-92f4-062334ed5d8e",
   "metadata": {},
   "outputs": [],
   "source": [
    "encoded_df = pd.get_dummies(df['weather']).astype(int)"
   ]
  },
  {
   "cell_type": "code",
   "execution_count": null,
   "id": "7e1ef1be-8784-45cc-b042-578084acf247",
   "metadata": {},
   "outputs": [],
   "source": [
    "df=pd.concat([df,encoded_df],axis=1)"
   ]
  },
  {
   "cell_type": "code",
   "execution_count": null,
   "id": "e9bed2e6-9a7c-4577-a683-a65d1eacdfc2",
   "metadata": {},
   "outputs": [],
   "source": [
    "df=df.drop(\"weather\",axis=1)"
   ]
  },
  {
   "cell_type": "markdown",
   "id": "c45ac286-56a2-46f8-bc10-9ce303f48b3b",
   "metadata": {},
   "source": [
    "# チームの処理"
   ]
  },
  {
   "cell_type": "code",
   "execution_count": null,
   "id": "fcd4d4a5-81dd-4c2f-9bf7-2ef8d7cc33f6",
   "metadata": {},
   "outputs": [],
   "source": [
    "from sklearn.preprocessing import LabelEncoder\n",
    "label_encoder = LabelEncoder()\n",
    "\n",
    "# home_team列をラベルエンコーディング\n",
    "df['home_team_encoded'] = label_encoder.fit_transform(df['home_team'])\n",
    "\n",
    "# away_team列をラベルエンコーディング\n",
    "df['away_team_encoded'] = label_encoder.transform(df['away_team'])\n"
   ]
  },
  {
   "cell_type": "code",
   "execution_count": null,
   "id": "7421871c-797c-46fd-bb05-37d00ba1c86c",
   "metadata": {},
   "outputs": [],
   "source": [
    "# df=df.drop([\"home_team\",\"away_team\",\"broadcasters\"],axis=1)\n",
    "df"
   ]
  },
  {
   "cell_type": "code",
   "execution_count": null,
   "id": "d3ea198a-9ce4-464f-8b3e-c7a17a38c892",
   "metadata": {},
   "outputs": [],
   "source": [
    "# 相関行列\n",
    "correlation_coefficients = df.corr()  # 相関行列の計算\n",
    "# 相関行列のヒートマップ (相関係数の値あり) \n",
    "plt.rcParams['font.size'] = 12\n",
    "plt.figure(figsize=(12, 8))  # この段階で画像のサイズを指定する\n",
    "sns.heatmap(correlation_coefficients, vmax=1, vmin=-1, cmap='seismic', square=True,  xticklabels=1, yticklabels=1)\n",
    "plt.xlim([0, correlation_coefficients.shape[0]])\n",
    "plt.show()"
   ]
  },
  {
   "cell_type": "markdown",
   "id": "7263c2d7-1100-40f8-92bd-551b27c06961",
   "metadata": {},
   "source": [
    "# 予測モデル構築"
   ]
  },
  {
   "cell_type": "code",
   "execution_count": null,
   "id": "d943e5f4-c00b-4064-90b1-8da255050d9a",
   "metadata": {},
   "outputs": [],
   "source": [
    "train_df=df[df[\"attendance\"].notnull()]\n",
    "test_df=df[df[\"attendance\"].isnull()]"
   ]
  },
  {
   "cell_type": "code",
   "execution_count": null,
   "id": "12f3ebcf-1cdf-48c9-9dc0-02554785285e",
   "metadata": {},
   "outputs": [],
   "source": [
    "# train_df.to_csv(\"new_train.csv\")\n",
    "train_df"
   ]
  },
  {
   "cell_type": "code",
   "execution_count": null,
   "id": "b012361d-3a28-466a-9f26-83fd77acac58",
   "metadata": {},
   "outputs": [],
   "source": [
    "train_x=train_df.drop([\"attendance\",\"id\",\"雨\",\"曇\",\"屋\",\"humidity\"],axis=1)\n",
    "train_y=train_df[\"attendance\"]\n",
    "test_x=test_df.drop([\"attendance\",\"id\",\"雨\",\"曇\",\"屋\",\"humidity\"],axis=1)\n",
    "test_y=test_df[\"attendance\"]"
   ]
  },
  {
   "cell_type": "code",
   "execution_count": null,
   "id": "d1630779-6f82-4306-862c-d1fe9891f7a2",
   "metadata": {},
   "outputs": [],
   "source": [
    "train_y"
   ]
  },
  {
   "cell_type": "markdown",
   "id": "06a3fc4d-559c-4477-b381-312fffb4c24d",
   "metadata": {},
   "source": [
    "# ランダムフォレスト回帰"
   ]
  },
  {
   "cell_type": "code",
   "execution_count": null,
   "id": "bb980c99-e882-4e31-9966-678c80a1e971",
   "metadata": {},
   "outputs": [],
   "source": [
    "# モデルの構築\n",
    "model = RandomForestRegressor()\n",
    "\n",
    "# クロスバリデーションによるスコア計算\n",
    "scores1 = cross_val_score(best_model, train_x, train_y, cv=5, scoring='neg_root_mean_squared_error')\n",
    "\n",
    "\n",
    "# RMSEの平均値\n",
    "rmse_mean = -scores1.mean()\n",
    "\n",
    "print(\"Mean RMSE:\", rmse_mean)\n"
   ]
  },
  {
   "cell_type": "code",
   "execution_count": null,
   "id": "f191d9cc-ae3b-4ff3-acee-c62a2851957a",
   "metadata": {},
   "outputs": [],
   "source": [
    "# ハイパーパラメータの範囲を指定\n",
    "param_grid = {\n",
    "    'n_estimators': [80,100,120],\n",
    "    'max_depth': [9,10,11],\n",
    "    'min_samples_split': [7,8,9]\n",
    "}\n",
    "\n",
    "# モデルの構築\n",
    "model = RandomForestRegressor()\n",
    "\n",
    "# グリッドサーチによるモデルのチューニング\n",
    "grid_search = GridSearchCV(model, param_grid, cv=5, scoring='neg_root_mean_squared_error')\n",
    "grid_search.fit(train_x, train_y)\n",
    "\n",
    "# 最適なモデルの取得\n",
    "best_model = grid_search.best_estimator_\n",
    "\n",
    "# クロスバリデーションによるスコア計算\n",
    "scores = cross_val_score(best_model, train_x, train_y, cv=5, scoring='neg_root_mean_squared_error')\n",
    "\n",
    "# RMSEの平均値\n",
    "rmse_mean = -scores.mean()\n",
    "\n",
    "print(\"Mean RMSE:\", rmse_mean)\n",
    "# # テストデータの予測\n",
    "# y_pred = best_model.predict(X_test)\n",
    "\n",
    "# # RMSEの計算\n",
    "# rmse = np.sqrt(mean_squared_error(y_test, y_pred))\n",
    "\n",
    "# print(\"RMSE:\", rmse)\n"
   ]
  },
  {
   "cell_type": "code",
   "execution_count": null,
   "id": "a6900551-2c72-4f9c-919b-db7e7f52e536",
   "metadata": {},
   "outputs": [],
   "source": [
    "best_model.get_params()"
   ]
  },
  {
   "cell_type": "code",
   "execution_count": null,
   "id": "4c1ee690-47be-49c8-af5b-fca3abd5a564",
   "metadata": {},
   "outputs": [],
   "source": [
    "# 特徴量の重要度を取得\n",
    "importance = best_model.feature_importances_\n",
    "# 重要度の降順で特徴量のインデックスをソート\n",
    "indices = np.argsort(importance)[::-1]\n",
    "\n",
    "# 特徴量の重要度と名前を表示\n",
    "for i in range(len(importance)):\n",
    "    print(f\"{i+1}. 特徴量名: {train_x.columns[indices[i]]}, 重要度: {importance[indices[i]]}\")\n",
    "# バー グラフの作成\n",
    "plt.figure(figsize=(10, 6))\n",
    "plt.bar(range(len(importance)), importance[indices], align='center')\n",
    "plt.xticks(range(len(importance)), train_x.columns[indices], rotation='vertical')\n",
    "plt.xlabel('特徴量')\n",
    "plt.ylabel('重要度')\n",
    "plt.title('ランダムフォレスト回帰モデルの特徴量の重要度')\n",
    "plt.tight_layout()\n",
    "\n",
    "# グラフの表示\n",
    "plt.show()"
   ]
  },
  {
   "cell_type": "code",
   "execution_count": null,
   "id": "5bf1c684-d6eb-4e3e-866b-44ac5fef9775",
   "metadata": {},
   "outputs": [],
   "source": [
    "pre_y=best_model.predict(test_x)"
   ]
  },
  {
   "cell_type": "code",
   "execution_count": null,
   "id": "eb559eb4-6a3e-44c0-9887-a71fb5021ecd",
   "metadata": {},
   "outputs": [],
   "source": [
    "sub_df[1]=pre_y"
   ]
  },
  {
   "cell_type": "markdown",
   "id": "7c57baae-8d8a-4331-bce8-224f1c8171d5",
   "metadata": {},
   "source": [
    "# SVCモデル構築"
   ]
  },
  {
   "cell_type": "code",
   "execution_count": null,
   "id": "903f0ff4-1f9f-4719-8468-2c460eb9ea55",
   "metadata": {},
   "outputs": [],
   "source": [
    "from sklearn.svm import SVR"
   ]
  },
  {
   "cell_type": "code",
   "execution_count": null,
   "id": "bd05145d-35d9-45f6-94be-3091e4119e32",
   "metadata": {},
   "outputs": [],
   "source": [
    "svr=SVR()\n",
    "# パラメータグリッドの定義\n",
    "params = {\n",
    "    \"kernel\": [\"linear\", \"rbf\", \"poly\"],\n",
    "    \"C\": [0.1, 1, 10, 100],\n",
    "    \"epsilon\": [0.01, 0.1, 0.5, 1],\n",
    "    \"gamma\": [\"scale\", \"auto\"]\n",
    "}\n",
    "\n",
    "# グリッドサーチで最適なハイパーパラメータを探索\n",
    "grid = GridSearchCV(svr, params, cv=5, scoring=\"neg_mean_squared_error\", n_jobs=-1)\n",
    "grid.fit(train_x, train_y)\n",
    "\n",
    "\n",
    "# 最適なハイパーパラメータとスコアを表示\n",
    "print(\"Best parameters:\", grid.best_params_)\n",
    "print(\"Best score:\", -grid.best_score_)\n",
    "\n",
    "\n",
    "# 最適なモデルを取得\n",
    "best_model = grid.best_estimator_\n",
    "\n",
    "# テストデータでの予測\n",
    "y_pred = best_model.predict(train_x)"
   ]
  },
  {
   "cell_type": "code",
   "execution_count": null,
   "id": "5eaba35a-55fc-414d-870e-221acd44acb0",
   "metadata": {},
   "outputs": [],
   "source": [
    "# csvファイルに追記するデータフレームを作成\n",
    "score_df = pd.DataFrame([[grid_.bes_params_,-grid.best_score_]], columns=[\"best_params_svr\", \"best_score\"])\n",
    "\n",
    "# csvファイルにデータフレームを追記\n",
    "score_df.to_csv(\"score.csv\", mode=\"a\", header=False, index=False)"
   ]
  },
  {
   "cell_type": "markdown",
   "id": "36b2a657-124f-4f72-bb57-21bfbb972788",
   "metadata": {},
   "source": [
    "# モデル提出"
   ]
  },
  {
   "cell_type": "code",
   "execution_count": null,
   "id": "f2a50cb9-cc19-42aa-88ed-0eaccbbfdbe6",
   "metadata": {},
   "outputs": [],
   "source": [
    "# sub_df.to_csv(\"submit.csv\",header=None,index=None)"
   ]
  },
  {
   "cell_type": "code",
   "execution_count": null,
   "id": "23bf1594-ceda-43c1-90b0-1a57d753d4de",
   "metadata": {},
   "outputs": [],
   "source": [
    "test_y=pd.DataFrame(pre_y)"
   ]
  },
  {
   "cell_type": "code",
   "execution_count": null,
   "id": "b14f6bd4-19ff-4b68-b14b-8fea63cefde6",
   "metadata": {},
   "outputs": [],
   "source": [
    "test=pd.concat([test_x,test_y])"
   ]
  },
  {
   "cell_type": "markdown",
   "id": "f488fac5-1000-49fc-9925-16faf107bb00",
   "metadata": {},
   "source": [
    "# LightGBM実装"
   ]
  },
  {
   "cell_type": "code",
   "execution_count": 12,
   "id": "ea187234-f596-4d5b-8c6e-0c851fb68cbd",
   "metadata": {},
   "outputs": [
    {
     "ename": "NameError",
     "evalue": "name 'train_df' is not defined",
     "output_type": "error",
     "traceback": [
      "\u001b[1;31m---------------------------------------------------------------------------\u001b[0m",
      "\u001b[1;31mNameError\u001b[0m                                 Traceback (most recent call last)",
      "Cell \u001b[1;32mIn[12], line 2\u001b[0m\n\u001b[0;32m      1\u001b[0m \u001b[38;5;28;01mfrom\u001b[39;00m \u001b[38;5;21;01msklearn\u001b[39;00m\u001b[38;5;21;01m.\u001b[39;00m\u001b[38;5;21;01mmodel_selection\u001b[39;00m \u001b[38;5;28;01mimport\u001b[39;00m train_test_split\n\u001b[1;32m----> 2\u001b[0m cat_cols\u001b[38;5;241m=\u001b[39m\u001b[43mtrain_df\u001b[49m\u001b[38;5;241m.\u001b[39mdtypes(\u001b[38;5;124m\"\u001b[39m\u001b[38;5;124mobject\u001b[39m\u001b[38;5;124m\"\u001b[39m)\u001b[38;5;241m.\u001b[39mcolmns\n",
      "\u001b[1;31mNameError\u001b[0m: name 'train_df' is not defined"
     ]
    }
   ],
   "source": [
    "from sklearn.model_selection import train_test_split\n",
    "cat_cols=train_df.dtypes(\"object\").colmns"
   ]
  },
  {
   "cell_type": "code",
   "execution_count": 141,
   "id": "7b794b56-dd7a-47b7-bd1b-2a2d5ac277ac",
   "metadata": {},
   "outputs": [],
   "source": [
    "X_train, X_val, y_train, y_val = train_test_split(train_x, train_y, test_size=0.2, random_state=42)"
   ]
  },
  {
   "cell_type": "code",
   "execution_count": 152,
   "id": "eb632a6b-5da2-4922-ad93-58609c313c95",
   "metadata": {},
   "outputs": [
    {
     "name": "stderr",
     "output_type": "stream",
     "text": [
      "C:\\Users\\zekus\\AppData\\Roaming\\jupyterlab-desktop\\jlab_server\\lib\\site-packages\\lightgbm\\engine.py:177: UserWarning: Found `num_iterations` in params. Will use it instead of argument\n",
      "  _log_warning(f\"Found `{alias}` in params. Will use it instead of argument\")\n"
     ]
    },
    {
     "name": "stdout",
     "output_type": "stream",
     "text": [
      "Training until validation scores don't improve for 10 rounds\n",
      "[10]\ttraining's rmse: 7228.49\tvalid_1's rmse: 6867.77\n",
      "[20]\ttraining's rmse: 5988.03\tvalid_1's rmse: 5819.94\n",
      "[30]\ttraining's rmse: 5357.61\tvalid_1's rmse: 5377.15\n",
      "[40]\ttraining's rmse: 4982.12\tvalid_1's rmse: 5143.67\n",
      "[50]\ttraining's rmse: 4739.1\tvalid_1's rmse: 4987.7\n",
      "[60]\ttraining's rmse: 4551.96\tvalid_1's rmse: 4915.51\n",
      "[70]\ttraining's rmse: 4393.64\tvalid_1's rmse: 4846.19\n",
      "[80]\ttraining's rmse: 4268.21\tvalid_1's rmse: 4820.9\n",
      "[90]\ttraining's rmse: 4161.32\tvalid_1's rmse: 4813.8\n",
      "[100]\ttraining's rmse: 4079.96\tvalid_1's rmse: 4806.07\n",
      "[110]\ttraining's rmse: 3994.15\tvalid_1's rmse: 4803.2\n",
      "[120]\ttraining's rmse: 3916.06\tvalid_1's rmse: 4802.92\n",
      "Early stopping, best iteration is:\n",
      "[111]\ttraining's rmse: 3985.44\tvalid_1's rmse: 4800.36\n",
      "Validation RMSE: 4800.35911101232\n"
     ]
    }
   ],
   "source": [
    "# import optuna.integration.lightgbm as lgb\n",
    "import lightgbm as lgb\n",
    "# LightGBMデータセットの作成\n",
    "lgb_train = lgb.Dataset(X_train, y_train)\n",
    "lgb_val = lgb.Dataset(X_val, y_val, reference=lgb_train)\n",
    "\n",
    "# ハイパーパラメータの設定\n",
    "params = {\n",
    "    'objective': 'regression',  # 回帰タスク\n",
    "    'metric': 'rmse',  # 評価指標\n",
    "    'boosting_type': 'gbdt',  # 勾配ブースティング\n",
    "    'num_leaves': 31,  # ノードの最大数\n",
    "    'learning_rate': 0.05,  # 学習率\n",
    "    'feature_fraction': 0.9,  # 特徴量のサブサンプリング\n",
    "    'bagging_fraction': 0.8,  # データのサブサンプリング\n",
    "    'bagging_freq': 5,  # データのサブサンプリングの頻度\n",
    "    'verbosity': -1,  # 学習中のログの出力レベル\n",
    "    \"categorical_feature\":\n",
    "}\n",
    "\n",
    "# LightGBMモデルのトレーニング\n",
    "model = lgb.train(best_params, lgb_train, valid_sets=[lgb_train, lgb_val], callbacks=[lgb.early_stopping(10), lgb.log_evaluation(10)])\n",
    "\n",
    "#ベストのパラム\n",
    "# best_params=model.params\n",
    "\n",
    "# 検証データの予測\n",
    "y_pred_val = model.predict(X_val, num_iteration=model.best_iteration)\n",
    "\n",
    "# RMSEスコアの計算\n",
    "rmse = np.sqrt(mean_squared_error(y_val, y_pred_val))\n",
    "print(\"Validation RMSE:\", rmse)\n",
    "\n"
   ]
  },
  {
   "cell_type": "code",
   "execution_count": 154,
   "id": "442c43b6-13b6-456b-b507-57e1dd4df1ca",
   "metadata": {},
   "outputs": [],
   "source": [
    "# テストデータの予測\n",
    "y_pred_test = model.predict(test_x, num_iteration=model.best_iteration)"
   ]
  },
  {
   "cell_type": "code",
   "execution_count": 155,
   "id": "e205dee6-a361-4e44-a27d-fb42bb869d5b",
   "metadata": {},
   "outputs": [],
   "source": [
    "sub_df[1]=y_pred_test"
   ]
  },
  {
   "cell_type": "code",
   "execution_count": 156,
   "id": "11a3e4eb-b286-4729-9946-6215fc64c000",
   "metadata": {},
   "outputs": [],
   "source": [
    "sub_df.to_csv(\"submit.csv\",index=None,header=None)"
   ]
  },
  {
   "cell_type": "code",
   "execution_count": 130,
   "id": "3bd53474-0a7d-486b-8c97-66206bff1c0d",
   "metadata": {},
   "outputs": [],
   "source": [
    "pre_test_df=test_df.copy()\n",
    "pre_test_df[\"attendance\"]=y_pred_test"
   ]
  },
  {
   "cell_type": "markdown",
   "id": "d16b59e6-62b6-47e6-b398-4579f76aadc7",
   "metadata": {},
   "source": [
    "# スコアとパラムの記録"
   ]
  },
  {
   "cell_type": "code",
   "execution_count": 153,
   "id": "d28f9853-b6d4-4618-ba29-d310e9a10d6f",
   "metadata": {},
   "outputs": [],
   "source": [
    "# csvファイルに追記するデータフレームを作成\n",
    "score_df = pd.DataFrame([[best_params, rmse]], columns=[\"best_params\", \"best_score\"])\n",
    "\n",
    "# csvファイルにデータフレームを追記\n",
    "score_df.to_csv(\"score.csv\", mode=\"a\", header=False, index=False)"
   ]
  }
 ],
 "metadata": {
  "kernelspec": {
   "display_name": "Python 3 (ipykernel)",
   "language": "python",
   "name": "python3"
  },
  "language_info": {
   "codemirror_mode": {
    "name": "ipython",
    "version": 3
   },
   "file_extension": ".py",
   "mimetype": "text/x-python",
   "name": "python",
   "nbconvert_exporter": "python",
   "pygments_lexer": "ipython3",
   "version": "3.8.16"
  }
 },
 "nbformat": 4,
 "nbformat_minor": 5
}
