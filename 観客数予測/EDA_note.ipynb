{
 "cells": [
  {
   "cell_type": "code",
   "execution_count": 1,
   "id": "c7d5163a-f9eb-44be-831f-7bdbc3db0df8",
   "metadata": {},
   "outputs": [],
   "source": [
    "import pandas as pd\n",
    "import matplotlib.pyplot as plt\n",
    "import seaborn as sns\n",
    "import numpy as np\n",
    "import urllib\n",
    "import requests\n",
    "import time\n",
    "import japanize_matplotlib\n",
    "from sklearn.metrics import mean_squared_error\n",
    "from scipy import stats as st\n",
    "from sklearn.model_selection import GridSearchCV\n",
    "from sklearn.ensemble import RandomForestRegressor\n",
    "from sklearn.model_selection import cross_val_score\n",
    "from sklearn.ensemble import RandomForestRegressor\n",
    "from sklearn.metrics import median_absolute_error\n",
    "from sklearn.preprocessing import LabelEncoder\n",
    "import pickle\n",
    "import os\n",
    "from optuna.integration import lightgbm as lgb\n"
   ]
  },
  {
   "cell_type": "code",
   "execution_count": 2,
   "id": "6fecf818-d73c-4364-8a9c-c728b6292aff",
   "metadata": {},
   "outputs": [],
   "source": [
    "DIR = \"./\"\n",
    "INPUT_DIR = os.path.join(DIR,\"input\")\n",
    "OUTPUT_DIR = os.path.join(DIR,\"output\")\n",
    "OUTPUT_SUB_DIR = os.path.join(OUTPUT_DIR,\"submission\")\n",
    "OUTPUT_MODLE_DIR = os.path.join(OUTPUT_DIR,\"model\")\n",
    "OUTPUT_OOF_DIR = os.path.join(OUTPUT_DIR,\"oof\")\n",
    "OUTPUT_FEATURES_DIR = os.path.join(OUTPUT_DIR,\"features\")\n",
    "\n",
    "for TMP_DIR in [OUTPUT_DIR, OUTPUT_SUB_DIR, OUTPUT_MODLE_DIR, OUTPUT_OOF_DIR, OUTPUT_FEATURES_DIR]:\n",
    "    if not os.path.exists(TMP_DIR):\n",
    "        os.makedirs(TMP_DIR)"
   ]
  },
  {
   "cell_type": "code",
   "execution_count": 3,
   "id": "7cd2b4bf-380a-4f40-8522-8daa540f08ef",
   "metadata": {},
   "outputs": [],
   "source": [
    "class CFG:\n",
    "    VER = 4\n",
    "    AUTHOR = 'hisariki'\n",
    "    MODEL_DATA_PATH = OUTPUT_MODLE_DIR\n",
    "    OOF_DATA_PATH = OUTPUT_OOF_DIR\n",
    "    METHOD_LIST = [\n",
    "        'lightgbm',# 'xgboost', 'catboost', 'tabnet'\n",
    "    ]\n",
    "    seed = 42\n",
    "    n_folds = 7\n",
    "    target_col = 'attendance'\n",
    "    group_col = 'home_team'\n",
    "    metric = 'rmse'\n",
    "    num_boost_round = 5000\n",
    "    max_epochs = 2000\n",
    "    early_stopping_rounds = 200\n",
    "    verbose = 1000\n",
    "    boosting_type = 'dart'\n",
    "    lgb_params = {\n",
    "      \"objective\":\"regression\",\n",
    "      \"metric\":\"rmse\",\n",
    "      'verbosity': -1,\n",
    "      'n_jobs': -1,\n",
    "      'boosting_type': boosting_type,\n",
    "      \"n_estimators\": num_boost_round,\n",
    "      \"random_state\": seed,\n",
    "      'learning_rate': 0.05, \n",
    "      'lambda_l1': 0.0024306941353027622, \n",
    "      'lambda_l2': 1.0645884032063444e-08, \n",
    "      'num_leaves': 18, \n",
    "      'feature_fraction': 0.7168918229680646, \n",
    "      'bagging_fraction': 0.9476636054626689, \n",
    "      'bagging_freq': 1, \n",
    "      'max_depth': 15, \n",
    "      'max_bin': 272, \n",
    "      'min_data_in_leaf': 8\n",
    "    }\n",
    "\n",
    "    xgb_params = {\n",
    "      \"objective\":'reg:squarederror',\n",
    "      \"metric\":\"rmse\",\n",
    "      \"silent\": 1,\n",
    "      #'tree_method':'gpu_hist',\n",
    "      \"n_estimators\":num_boost_round,\n",
    "      \"random_state\":seed,\n",
    "      'eta': 0.05, \n",
    "      'max_depth': 5, \n",
    "      'min_child_weight': 2, \n",
    "      'gamma': 2.4680517434774445e-05, \n",
    "      'subsample': 1.0, \n",
    "      'colsample_bytree': 0.7, \n",
    "      'colsample_bylevel': 0.5,\n",
    "      \"alpha\":0.0,\n",
    "      \"lambda\":1.0\n",
    "    }\n",
    "    \n",
    "    ctb_params = {\n",
    "    \"verbose\": verbose,\n",
    "    \"random_state\": seed,\n",
    "    \"n_estimators\": num_boost_round,\n",
    "    \"loss_function\":\"RMSE\",\n",
    "    \"eval_metric\":\"RMSE\",\n",
    "    #\"task_type\":\"GPU\",\n",
    "    \"learning_rate\":0.05\n",
    "    }\n",
    "\n",
    "def lgb_training(x_train: pd.DataFrame, y_train: pd.DataFrame, x_valid: pd.DataFrame, y_valid: pd.DataFrame,\n",
    "                 features: list, categorical_features: list):\n",
    "    clf = lgb.LGBMRegressor(**CFG.lgb_params)\n",
    "    clf.fit(x_train, y_train,\n",
    "                eval_set=[(x_valid, y_valid)],\n",
    "                eval_metric=CFG.metric,\n",
    "                verbose = CFG.verbose,\n",
    "              #early_stopping_rounds=100,\n",
    "              #categorical_feature = categorical_features\n",
    "              )\n",
    "    # Predict validation\n",
    "    valid_pred = clf.predict(x_valid)\n",
    "                     \n",
    "    return clf, valid_pred\n",
    "\n",
    "def xgb_training(x_train: pd.DataFrame, y_train: pd.DataFrame, x_valid: pd.DataFrame, y_valid: pd.DataFrame,\n",
    "                 features: list, categorical_features: list):\n",
    "    clf = xgb.XGBRegressor(**CFG.xgb_params)\n",
    "    clf.fit(x_train, y_train,\n",
    "                eval_set=[(x_valid, y_valid)],\n",
    "                eval_metric=CFG.metric,\n",
    "                verbose = CFG.verbose,\n",
    "               early_stopping_rounds=CFG.early_stopping_rounds,\n",
    "              #categorical_feature = categorical_features\n",
    "              )\n",
    "    # Predict validation\n",
    "    valid_pred = clf.predict(x_valid)\n",
    "    return clf, valid_pred\n",
    "\n",
    "def ctb_training(x_train: pd.DataFrame, y_train: pd.DataFrame, x_valid: pd.DataFrame, y_valid: pd.DataFrame,\n",
    "                 features: list, categorical_features: list):\n",
    "    clf = CatBoostRegressor(**CFG.ctb_params)\n",
    "    clf.fit(x_train, y_train,\n",
    "          eval_set=[(x_train,y_train),(x_valid, y_valid)],\n",
    "          early_stopping_rounds = CFG.early_stopping_rounds,\n",
    "          use_best_model=True\n",
    "          )\n",
    "    # Predict validation\n",
    "    valid_pred = clf.predict(x_valid)\n",
    "    return clf, valid_pred\n",
    "\n",
    "def tabnet_training(x_train: pd.DataFrame, y_train: pd.DataFrame, x_valid: pd.DataFrame, y_valid: pd.DataFrame,\n",
    "                 features: list, categorical_features: list):\n",
    "    clf = TabNetRegressor(verbose=CFG.verbose,seed=CFG.seed)\n",
    "    y_train = np.log1p(y_train)\n",
    "    y_valid = np.log1p(y_valid)\n",
    "    clf.fit(X_train=x_train.to_numpy(), y_train=y_train.to_numpy().reshape(-1, 1),\n",
    "              eval_set=[(x_valid.to_numpy(), y_valid.to_numpy().reshape(-1, 1))],\n",
    "              patience=300, max_epochs=CFG.max_epochs,\n",
    "              eval_metric=[CFG.metric])\n",
    "    valid_pred = clf.predict(x_valid.to_numpy())\n",
    "    valid_pred = np.expm1(valid_pred)\n",
    "    return clf, valid_pred\n",
    "    \n",
    "    \n",
    "def cv_training(method: str, train_df: pd.DataFrame, features: list, categorical_features: list):\n",
    "    scores, preds = [],[]\n",
    "    oof = pd.DataFrame()\n",
    "    if method == 'lightgbm':\n",
    "        lgb_importances = pd.DataFrame()\n",
    "    kf = KFold(n_splits=CFG.n_folds ,shuffle=True, random_state=CFG.seed)\n",
    "    for fold ,(tr_idx,va_idx) in enumerate(kf.split(train_df)):\n",
    "        print(\"=\"*20,f\" {method} training fold {fold + 1} \",\"=\"*20)\n",
    "        \n",
    "        train_folds = train_df.iloc[tr_idx]\n",
    "        valid_folds = train_df.iloc[va_idx]\n",
    "        x_train = train_folds[features]\n",
    "        x_valid = valid_folds[features]\n",
    "        y_train = train_folds[CFG.target_col]\n",
    "        y_valid = valid_folds[CFG.target_col]\n",
    "            \n",
    "        if method == 'lightgbm':\n",
    "            model, valid_pred = lgb_training(x_train, y_train, x_valid, y_valid, features, categorical_features)\n",
    "            fi_tmp = pd.DataFrame()\n",
    "            fi_tmp['feature'] = x_train.columns\n",
    "            fi_tmp['importance'] = model.feature_importances_\n",
    "            fi_tmp['fold'] = fold\n",
    "            #変更点\n",
    "            lgb_importances = []\n",
    "            lgb_importances.append(fi_tmp)\n",
    "            lgb_importances=pd.concat(lgb_importances)\n",
    "        if method == 'xgboost':\n",
    "            model, valid_pred = xgb_training(x_train, y_train, x_valid, y_valid, features, categorical_features)\n",
    "        if method == 'catboost':\n",
    "            model, valid_pred = ctb_training(x_train, y_train, x_valid, y_valid, features, categorical_features)\n",
    "        if method == 'tabnet':\n",
    "            model, valid_pred = tabnet_training(x_train, y_train, x_valid, y_valid, features, categorical_features)\n",
    "\n",
    "        # Save best model\n",
    "        pickle.dump(model, open(os.path.join(CFG.MODEL_DATA_PATH, f'{method}_fold{fold + 1}_seed{CFG.seed}_ver{CFG.VER}.pkl'), 'wb'))\n",
    "            \n",
    "\n",
    "        score = np.sqrt(mean_squared_error(y_valid,valid_pred))\n",
    "        print(f\"RMSE : {score}\")\n",
    "        scores.append(score)\n",
    "            \n",
    "        valid_folds[f\"{method}_pred\"] = valid_pred\n",
    "        \n",
    "        oof = pd.concat([oof,valid_folds])\n",
    "        \n",
    "        del x_train,y_train,x_valid,y_valid\n",
    "        \n",
    "    print(f\"Mean Score {np.mean(scores)}\")\n",
    "    \n",
    "    oof.to_csv(os.path.join(CFG.OOF_DATA_PATH, f'oof_{method}_seed{CFG.seed}_ver{CFG.VER}.csv'), index = False)\n",
    "    \n",
    "    score = np.sqrt(mean_squared_error(oof[\"attendance\"],oof[f\"{method}_pred\"]))\n",
    "    print(f\"RMSE : {score}\")\n",
    "    \n",
    "    if method == 'lightgbm':\n",
    "        order = list(lgb_importances.groupby('feature').mean().sort_values('importance', ascending=False).index)\n",
    "        fig = plt.figure(figsize=(16, 32), tight_layout=True)\n",
    "        sns.barplot(x=\"importance\", y=\"feature\", data=lgb_importances.groupby('feature').mean().reset_index(), order=order)\n",
    "        plt.title(\"LightGBM feature importances\")\n",
    "\n",
    "\n",
    "def lgb_inference(x_test: pd.DataFrame):\n",
    "    test_pred = np.zeros(len(x_test))\n",
    "    for fold in range(CFG.n_folds):\n",
    "        model = pickle.load(open(os.path.join(CFG.MODEL_DATA_PATH,f'lightgbm_fold{fold + 1}_seed{CFG.seed}_ver{CFG.VER}.pkl'), 'rb'))\n",
    "        # Predict\n",
    "        test_pred += model.predict(x_test)\n",
    "    return test_pred / CFG.n_folds\n",
    "def xgb_inference(x_test: pd.DataFrame):\n",
    "    test_pred = np.zeros(len(x_test))\n",
    "    for fold in range(CFG.n_folds):\n",
    "        model = pickle.load(open(os.path.join(CFG.MODEL_DATA_PATH,f'xgboost_fold{fold + 1}_seed{CFG.seed}_ver{CFG.VER}.pkl'), 'rb'))\n",
    "        # Predict\n",
    "        test_pred += model.predict(x_test)\n",
    "    return test_pred / CFG.n_folds\n",
    "    \n",
    "def ctb_inference(x_test: pd.DataFrame):\n",
    "    test_pred = np.zeros(len(x_test))\n",
    "    for fold in range(CFG.n_folds):\n",
    "        model = pickle.load(open(os.path.join(CFG.MODEL_DATA_PATH,f'catboost_fold{fold + 1}_seed{CFG.seed}_ver{CFG.VER}.pkl'), 'rb'))\n",
    "        # Predict\n",
    "        test_pred += model.predict(x_test)\n",
    "    return test_pred / CFG.n_folds\n",
    "\n",
    "def tabnet_inference(x_test: pd.DataFrame):\n",
    "    test_pred = np.zeros(len(x_test))\n",
    "    for fold in range(CFG.n_folds):\n",
    "        model = pickle.load(open(os.path.join(CFG.MODEL_DATA_PATH, f'tabnet_fold{fold + 1}_seed{CFG.seed}_ver{CFG.VER}.pkl'), 'rb'))\n",
    "        # Predict\n",
    "        test_pred += np.expm1(model.predict(x_test.to_numpy()))\n",
    "    return test_pred / CFG.n_folds\n",
    "\n",
    "def model_inference(method: str, test_df: pd.DataFrame, features: list, categorical_features: list):\n",
    "    x_test = test_df[features]\n",
    "    if method == 'lightgbm':\n",
    "        test_pred = lgb_inference(x_test)\n",
    "    if method == 'xgboost':\n",
    "        test_pred = xgb_inference(x_test)\n",
    "    if method == 'catboost':\n",
    "        test_pred = ctb_inference(x_test)\n",
    "    if method == 'tabnet':\n",
    "        test_pred = tabnet_inference(x_test)\n",
    "    return test_pred\n",
    "\n",
    "def lgb_inference(x_test: pd.DataFrame):\n",
    "    test_pred = np.zeros(len(x_test))\n",
    "    for fold in range(CFG.n_folds):\n",
    "        model = pickle.load(open(os.path.join(CFG.MODEL_DATA_PATH,f'lightgbm_fold{fold + 1}_seed{CFG.seed}_ver{CFG.VER}.pkl'), 'rb'))\n",
    "        # Predict\n",
    "        test_pred += model.predict(x_test)\n",
    "    return test_pred / CFG.n_folds\n",
    "def xgb_inference(x_test: pd.DataFrame):\n",
    "    test_pred = np.zeros(len(x_test))\n",
    "    for fold in range(CFG.n_folds):\n",
    "        model = pickle.load(open(os.path.join(CFG.MODEL_DATA_PATH,f'xgboost_fold{fold + 1}_seed{CFG.seed}_ver{CFG.VER}.pkl'), 'rb'))\n",
    "        # Predict\n",
    "        test_pred += model.predict(x_test)\n",
    "    return test_pred / CFG.n_folds\n",
    "    \n",
    "def ctb_inference(x_test: pd.DataFrame):\n",
    "    test_pred = np.zeros(len(x_test))\n",
    "    for fold in range(CFG.n_folds):\n",
    "        model = pickle.load(open(os.path.join(CFG.MODEL_DATA_PATH,f'catboost_fold{fold + 1}_seed{CFG.seed}_ver{CFG.VER}.pkl'), 'rb'))\n",
    "        # Predict\n",
    "        test_pred += model.predict(x_test)\n",
    "    return test_pred / CFG.n_folds\n",
    "\n",
    "def tabnet_inference(x_test: pd.DataFrame):\n",
    "    test_pred = np.zeros(len(x_test))\n",
    "    for fold in range(CFG.n_folds):\n",
    "        model = pickle.load(open(os.path.join(CFG.MODEL_DATA_PATH, f'tabnet_fold{fold + 1}_seed{CFG.seed}_ver{CFG.VER}.pkl'), 'rb'))\n",
    "        # Predict\n",
    "        test_pred += np.expm1(model.predict(x_test.to_numpy()))\n",
    "    return test_pred / CFG.n_folds\n",
    "\n",
    "def model_inference(method: str, test_df: pd.DataFrame, features: list, categorical_features: list):\n",
    "    x_test = test_df[features]\n",
    "    if method == 'lightgbm':\n",
    "        test_pred = lgb_inference(x_test)\n",
    "    if method == 'xgboost':\n",
    "        test_pred = xgb_inference(x_test)\n",
    "    if method == 'catboost':\n",
    "        test_pred = ctb_inference(x_test)\n",
    "    if method == 'tabnet':\n",
    "        test_pred = tabnet_inference(x_test)\n",
    "    return test_pred\n"
   ]
  },
  {
   "cell_type": "code",
   "execution_count": 4,
   "id": "af10614f-45c7-4eb8-8be7-213e960e85f9",
   "metadata": {},
   "outputs": [],
   "source": [
    "holidays=pd.read_csv(\"holidays_in_japan.csv\")\n",
    "match=pd.read_csv(\"match_reports.csv\")\n",
    "sub_df=pd.read_csv(\"sample_submit.csv\",header=None)\n",
    "test=pd.read_csv(\"test.csv\")\n",
    "train=pd.read_csv(\"train.csv\")\n",
    "venue=pd.read_csv(\"venue_information.csv\")\n",
    "df=pd.concat([train,test],axis=0)"
   ]
  },
  {
   "cell_type": "markdown",
   "id": "cbec6e17-c9eb-415f-a486-e9c2521646df",
   "metadata": {},
   "source": [
    "# 日時の処理"
   ]
  },
  {
   "cell_type": "code",
   "execution_count": 5,
   "id": "6e26350e-0e1b-4c53-8fe1-822823de7787",
   "metadata": {},
   "outputs": [],
   "source": [
    "df[\"match_date\"] = pd.to_datetime(df[\"match_date\"], format=\"%Y-%m-%d\")\n",
    "df[\"kick_off_time\"]=pd.to_datetime(df[\"kick_off_time\"],format=\"%H:%M\").dt.hour\n",
    "df[\"month\"]=pd.to_datetime(df[\"match_date\"]).dt.month\n",
    "df[\"year\"]=pd.to_datetime(df[\"match_date\"]).dt.year"
   ]
  },
  {
   "cell_type": "code",
   "execution_count": 6,
   "id": "5082c86e-d69f-47b0-b356-9ddf573ddd09",
   "metadata": {},
   "outputs": [],
   "source": [
    "df[\"capacity\"]=np.nan\n",
    "df=df.merge(venue[[\"venue\",\"capacity\",\"address\"]],on=\"venue\",how=\"left\").drop(\"capacity_x\",axis=1)"
   ]
  },
  {
   "cell_type": "markdown",
   "id": "a2b5b57e-906d-4c9c-9d01-f5def5c61f33",
   "metadata": {},
   "source": [
    "# wetherの処理"
   ]
  },
  {
   "cell_type": "markdown",
   "id": "fdc9b6fb-73da-4be0-99ce-e48210ce1519",
   "metadata": {},
   "source": [
    "雨系かつ、【日産スタジアム,味の素スタジアム,万博記念競技場,ニッパツ三ツ沢球技場,京都市西京極総合運動公園陸上競技場兼球技場,広島ビッグアーチ,山梨中銀スタジアム,県立カシマサッカースタジアム,アウトソーシングスタジアム日本平,ユアテックスタジアム仙台,フクダ電子アリーナ,等々力陸上競技場,NACK5スタジアム大宮,ベストアメニティスタジアム,日立柏サッカー場,ヤマハスタジアム(磐田),名古屋市瑞穂陸上競技場】\n",
    "の会場は少ない傾向"
   ]
  },
  {
   "cell_type": "markdown",
   "id": "0ec85bb2-410c-42af-8634-54e752b0079b",
   "metadata": {},
   "source": [
    "豊田スタジアムかつ屋内は多い傾向"
   ]
  },
  {
   "cell_type": "code",
   "execution_count": 7,
   "id": "f65549a5-14ef-4530-a289-917d60504433",
   "metadata": {},
   "outputs": [],
   "source": [
    "df[\"weather\"]=df[\"weather\"].apply(lambda x:x[0] if \"一時\" or \"時々\" in x else x)\n",
    "df[\"weather\"]=df[\"weather\"].apply(lambda x: \"雨\" if x==\"霧\" or x==\"雷\" or x==\"雪\"  else x)"
   ]
  },
  {
   "cell_type": "code",
   "execution_count": 8,
   "id": "31db7fc7-fc03-4890-ab66-a38b1280b350",
   "metadata": {},
   "outputs": [],
   "source": [
    "df[\"rain\"]=np.nan\n",
    "df[\"rain\"] = ((df[\"weather\"] == \"雨\") & (df[\"venue\"].isin([\"日産スタジアム\",\"味の素スタジアム\",\"万博記念競技場\",\"ニッパツ三ツ沢球技場\",\"京都市西京極総合運動公園陸上競技場兼球技場\",\"広島ビッグアーチ\",\"山梨中銀スタジアム\",\"県立カシマサッカースタジアム\",\"アウトソーシングスタジアム日本平\",\"ユアテックスタジアム仙台\",\"フクダ電子アリーナ\",\"等々力陸上競技場\",\"NACK5スタジアム大宮\",\"ベストアメニティスタジアム\",\"日立柏サッカー場\",\"ヤマハスタジアム(磐田)\",\"名古屋市瑞穂陸上競技場\"]))).astype(int)"
   ]
  },
  {
   "cell_type": "code",
   "execution_count": 9,
   "id": "5074d588-664a-40ef-8a0d-0b69dfabf56c",
   "metadata": {},
   "outputs": [],
   "source": [
    "df=df.drop(\"weather\",axis=1)"
   ]
  },
  {
   "cell_type": "markdown",
   "id": "373684d4-b487-4235-ae2b-6b57662508e0",
   "metadata": {},
   "source": [
    "# sectionは1節と34節が非常に多い roundは消去"
   ]
  },
  {
   "cell_type": "code",
   "execution_count": 10,
   "id": "c3fd314b-8481-4f8e-bfe1-b86a1fc1ecf0",
   "metadata": {},
   "outputs": [],
   "source": [
    "df[\"first_end_sec\"]=((df[\"section\"]==\"第1節\")|(df[\"section\"]==\"第34節\")).astype(int)"
   ]
  },
  {
   "cell_type": "code",
   "execution_count": 11,
   "id": "4b3fab64-5c75-4ef3-9649-503c2da7abf5",
   "metadata": {},
   "outputs": [],
   "source": [
    "df=df.drop([\"section\",\"round\"],axis=1)"
   ]
  },
  {
   "cell_type": "markdown",
   "id": "c87c9ebd-4a3c-47c4-8379-70d59adc4750",
   "metadata": {},
   "source": [
    "# 放送局はtrainはスカパー、testはDAZNに代わっているので捨てる"
   ]
  },
  {
   "cell_type": "code",
   "execution_count": 12,
   "id": "a437b688-f0a8-4595-a237-bbf50fff7aa7",
   "metadata": {},
   "outputs": [],
   "source": [
    "for i,j in df[\"broadcasters\"].value_counts().items():\n",
    "    # print(i,j)\n",
    "    pass"
   ]
  },
  {
   "cell_type": "code",
   "execution_count": 13,
   "id": "de93e78b-2caa-45a3-8f53-81026a0295c2",
   "metadata": {},
   "outputs": [],
   "source": [
    "df=df.drop(\"broadcasters\",axis=1)"
   ]
  },
  {
   "cell_type": "markdown",
   "id": "854022fd-004d-4ef8-8436-32383d32f5ef",
   "metadata": {},
   "source": [
    "# address の処理"
   ]
  },
  {
   "cell_type": "code",
   "execution_count": 14,
   "id": "1a06cf67-d69a-4c78-a4a2-999195938a21",
   "metadata": {},
   "outputs": [],
   "source": [
    "import os\n",
    "stadium_df = pd.read_csv(\"venue_information.csv\")\n",
    "stadium_df.columns = [\"venue\",\"capacity\", \"address\"]\n",
    "train = train.merge(stadium_df,how='left',on='venue')\n",
    "test = test.merge(stadium_df,how='left',on='venue')"
   ]
  },
  {
   "cell_type": "code",
   "execution_count": 15,
   "id": "7645f591-8fd7-45a2-a8df-82cdbfac496d",
   "metadata": {},
   "outputs": [],
   "source": [
    "match_info_df = pd.concat([train,test],axis=0)\n",
    "match_info_df = match_info_df[[\"id\",\"match_date\",\"home_team\",\"away_team\"]]"
   ]
  },
  {
   "cell_type": "code",
   "execution_count": 16,
   "id": "c2817383-7a4c-42ea-983b-b0560888acd0",
   "metadata": {},
   "outputs": [],
   "source": [
    "team_list, home_stadium_list = [],[]\n",
    "lon, lat = [],[]\n",
    "for team in list(df.home_team.unique()):\n",
    "    home_stadium = pd.DataFrame(df.loc[df.home_team==team][\"venue\"].value_counts()).reset_index(names=\"index\").iloc[0][\"index\"]\n",
    "    team_list.append(team)\n",
    "    home_stadium_list.append(home_stadium)\n",
    "\n",
    "home_stadium_df = pd.DataFrame(data=[team_list, home_stadium_list]).T\n",
    "home_stadium_df.columns = [\"team\",\"venue\"]\n",
    "home_stadium_df = home_stadium_df.merge(stadium_df, how = \"left\", on=\"venue\")\n"
   ]
  },
  {
   "cell_type": "code",
   "execution_count": 17,
   "id": "19f05c52-e35e-4220-9982-c05cac70070a",
   "metadata": {},
   "outputs": [],
   "source": [
    "makeUrl = \"https://msearch.gsi.go.jp/address-search/AddressSearch?q=\"\n",
    "\n",
    "df[\"home_team_stadium\"] = \"None\"\n",
    "df[\"home_team_address\"] = \"None\"\n",
    "df[\"home_team_capacity\"] = np.nan\n",
    "df[\"home_team_lon\"] = np.nan\n",
    "df[\"home_team_lat\"] = np.nan\n",
    "df[\"away_team_stadium\"] = \"None\"\n",
    "df[\"away_team_address\"] = \"None\"\n",
    "df[\"away_team_capacity\"] = np.nan\n",
    "df[\"away_team_lon\"] = np.nan\n",
    "df[\"away_team_lat\"] = np.nan\n",
    "\n",
    "for _, rows in home_stadium_df.iterrows():\n",
    "    team = rows[0]\n",
    "    stadium = rows[1]\n",
    "    capacity = rows[2]\n",
    "    address = rows[3]\n",
    "    \n",
    "    #　位置情報\n",
    "    try:\n",
    "        location = geocoder.osm(stadium, timeout=5.0)\n",
    "        lat = location.latlng[0]\n",
    "        lon = location.latlng[1]\n",
    "    except:\n",
    "        #team_city = re.sub(r\"[^a-zA-Z]\", \"\", team)\n",
    "        #location =  geocoder.osm(team_city, timeout=5.0)\n",
    "        s_quote = urllib.parse.quote(address)\n",
    "        response = requests.get(makeUrl + s_quote)\n",
    "        lat = response.json()[0][\"geometry\"][\"coordinates\"][1]\n",
    "        lon = response.json()[0][\"geometry\"][\"coordinates\"][0]\n",
    "        \n",
    "    df.loc[df.home_team==team, \"home_team_stadium\"] = stadium\n",
    "    df.loc[df.home_team==team, \"home_team_address\"] = address\n",
    "    df.loc[df.home_team==team, \"home_team_capacity\"] = capacity\n",
    "    df.loc[df.home_team==team, \"home_team_lon\"] = lon\n",
    "    df.loc[df.home_team==team, \"home_team_lat\"] = lat\n",
    "    \n",
    "    df.loc[df.away_team==team, \"away_team_stadium\"] = stadium\n",
    "    df.loc[df.away_team==team, \"away_team_address\"] = address\n",
    "    df.loc[df.away_team==team, \"away_team_capacity\"] = capacity\n",
    "    df.loc[df.away_team==team, \"away_team_lon\"] = lon\n",
    "    df.loc[df.away_team==team, \"away_team_lat\"] = lat\n"
   ]
  },
  {
   "cell_type": "code",
   "execution_count": 18,
   "id": "245f430f-a55e-4b14-8c14-5a45040b5fe3",
   "metadata": {},
   "outputs": [],
   "source": [
    "df[\"stadium_distance\"] = np.sqrt(np.square(df[\"home_team_lat\"]-df[\"away_team_lat\"])+np.square(df[\"home_team_lon\"]-df[\"away_team_lon\"]))"
   ]
  },
  {
   "cell_type": "code",
   "execution_count": 19,
   "id": "392ff37c-eb9b-49ca-b853-d25faf70586a",
   "metadata": {},
   "outputs": [],
   "source": [
    "df [\"venue\"] = df.groupby (\"capacity_y\") [\"venue\"].transform (lambda x: x.mode () [0])\n",
    "df [\"address\"] = df.groupby (\"capacity_y\") [\"address\"].transform (lambda x: x.mode () [0])"
   ]
  },
  {
   "cell_type": "markdown",
   "id": "4b6f7272-8f5e-42c3-ad74-294969524cee",
   "metadata": {},
   "source": [
    "# homeのスタジアムで開催されているか否か\n",
    "\n",
    "homeスタジアムじゃないかつvenueのキャパがhome_capaより大きいと、attendance大きくなる"
   ]
  },
  {
   "cell_type": "code",
   "execution_count": 20,
   "id": "0df23725-a4fc-44c4-8667-a99869f79045",
   "metadata": {},
   "outputs": [],
   "source": [
    "df[\"is_home_stadium\"]=np.where(df[\"venue\"]==df[\"home_team_stadium\"],1,0)"
   ]
  },
  {
   "cell_type": "code",
   "execution_count": 21,
   "id": "9fddb111-6357-4b37-a19c-d5ee71af3e3c",
   "metadata": {},
   "outputs": [],
   "source": [
    "# df[(df[\"is_home_stadium\"]==0) & (df[\"capacity_y\"]<df[\"home_team_capacity\"])]#0"
   ]
  },
  {
   "cell_type": "code",
   "execution_count": 22,
   "id": "d014082d-a9b9-4890-946d-d3dea02f1532",
   "metadata": {},
   "outputs": [],
   "source": [
    "# 条件に合う行を抽出する\n",
    "cond = (df['is_home_stadium'] == 0) & (df['capacity_y'] > df['home_team_capacity'])\n",
    "# is_home_stadiumの値を2に変更する\n",
    "df.loc[cond, 'is_home_stadium'] = 2"
   ]
  },
  {
   "cell_type": "code",
   "execution_count": 23,
   "id": "e63ef985-30d9-46b4-894e-174d1dd6024b",
   "metadata": {},
   "outputs": [
    {
     "data": {
      "text/plain": [
       "is_home_stadium\n",
       "1    3381\n",
       "2     339\n",
       "0     105\n",
       "Name: count, dtype: int64"
      ]
     },
     "execution_count": 23,
     "metadata": {},
     "output_type": "execute_result"
    }
   ],
   "source": [
    "df[\"is_home_stadium\"].value_counts()"
   ]
  },
  {
   "cell_type": "code",
   "execution_count": 24,
   "id": "1621a2bd-9fa6-46e5-8128-fd809b998d2f",
   "metadata": {},
   "outputs": [],
   "source": [
    "# df.to_csv(\"./tableau_csv/is_home.csv\")"
   ]
  },
  {
   "cell_type": "code",
   "execution_count": null,
   "id": "47df6a9d-eee7-4c63-a5eb-47c52b8b3079",
   "metadata": {},
   "outputs": [],
   "source": []
  },
  {
   "cell_type": "markdown",
   "id": "fbd6fccf-0958-425c-a4ed-58ba94b9e288",
   "metadata": {},
   "source": [
    "# home awayのエンコーディング化"
   ]
  },
  {
   "cell_type": "code",
   "execution_count": 25,
   "id": "4dd2163b-1832-4487-bdae-71eef8c49b10",
   "metadata": {},
   "outputs": [
    {
     "data": {
      "text/html": [
       "<div>\n",
       "<style scoped>\n",
       "    .dataframe tbody tr th:only-of-type {\n",
       "        vertical-align: middle;\n",
       "    }\n",
       "\n",
       "    .dataframe tbody tr th {\n",
       "        vertical-align: top;\n",
       "    }\n",
       "\n",
       "    .dataframe thead th {\n",
       "        text-align: right;\n",
       "    }\n",
       "</style>\n",
       "<table border=\"1\" class=\"dataframe\">\n",
       "  <thead>\n",
       "    <tr style=\"text-align: right;\">\n",
       "      <th></th>\n",
       "      <th>id</th>\n",
       "      <th>match_date</th>\n",
       "      <th>kick_off_time</th>\n",
       "      <th>home_team</th>\n",
       "      <th>away_team</th>\n",
       "      <th>venue</th>\n",
       "      <th>temperature</th>\n",
       "      <th>humidity</th>\n",
       "      <th>attendance</th>\n",
       "      <th>month</th>\n",
       "      <th>...</th>\n",
       "      <th>home_team_capacity</th>\n",
       "      <th>home_team_lon</th>\n",
       "      <th>home_team_lat</th>\n",
       "      <th>away_team_stadium</th>\n",
       "      <th>away_team_address</th>\n",
       "      <th>away_team_capacity</th>\n",
       "      <th>away_team_lon</th>\n",
       "      <th>away_team_lat</th>\n",
       "      <th>stadium_distance</th>\n",
       "      <th>is_home_stadium</th>\n",
       "    </tr>\n",
       "  </thead>\n",
       "  <tbody>\n",
       "    <tr>\n",
       "      <th>0</th>\n",
       "      <td>9190</td>\n",
       "      <td>2006-03-04</td>\n",
       "      <td>16</td>\n",
       "      <td>2</td>\n",
       "      <td>20</td>\n",
       "      <td>万博記念競技場</td>\n",
       "      <td>8.3</td>\n",
       "      <td>40.0</td>\n",
       "      <td>20916.0</td>\n",
       "      <td>3</td>\n",
       "      <td>...</td>\n",
       "      <td>21000.0</td>\n",
       "      <td>135.540421</td>\n",
       "      <td>34.812466</td>\n",
       "      <td>埼玉スタジアム2002</td>\n",
       "      <td>埼玉県さいたま市緑区美園2丁目1</td>\n",
       "      <td>62010.0</td>\n",
       "      <td>139.713974</td>\n",
       "      <td>35.902477</td>\n",
       "      <td>4.313545</td>\n",
       "      <td>1</td>\n",
       "    </tr>\n",
       "    <tr>\n",
       "      <th>1</th>\n",
       "      <td>9191</td>\n",
       "      <td>2006-03-05</td>\n",
       "      <td>13</td>\n",
       "      <td>23</td>\n",
       "      <td>21</td>\n",
       "      <td>山梨中銀スタジアム</td>\n",
       "      <td>12.9</td>\n",
       "      <td>28.0</td>\n",
       "      <td>14277.0</td>\n",
       "      <td>3</td>\n",
       "      <td>...</td>\n",
       "      <td>15859.0</td>\n",
       "      <td>138.588425</td>\n",
       "      <td>35.620750</td>\n",
       "      <td>IAIスタジアム日本平</td>\n",
       "      <td>静岡県静岡市清水区村松3880−1</td>\n",
       "      <td>20248.0</td>\n",
       "      <td>138.482101</td>\n",
       "      <td>34.984898</td>\n",
       "      <td>0.644680</td>\n",
       "      <td>1</td>\n",
       "    </tr>\n",
       "    <tr>\n",
       "      <th>2</th>\n",
       "      <td>9192</td>\n",
       "      <td>2006-03-05</td>\n",
       "      <td>13</td>\n",
       "      <td>1</td>\n",
       "      <td>7</td>\n",
       "      <td>味の素スタジアム</td>\n",
       "      <td>12.1</td>\n",
       "      <td>35.0</td>\n",
       "      <td>22531.0</td>\n",
       "      <td>3</td>\n",
       "      <td>...</td>\n",
       "      <td>48999.0</td>\n",
       "      <td>139.528900</td>\n",
       "      <td>35.663670</td>\n",
       "      <td>九州石油ドーム</td>\n",
       "      <td>大分県大分市横尾1351</td>\n",
       "      <td>31997.0</td>\n",
       "      <td>131.656387</td>\n",
       "      <td>33.201115</td>\n",
       "      <td>8.248675</td>\n",
       "      <td>1</td>\n",
       "    </tr>\n",
       "    <tr>\n",
       "      <th>3</th>\n",
       "      <td>9193</td>\n",
       "      <td>2006-03-05</td>\n",
       "      <td>14</td>\n",
       "      <td>24</td>\n",
       "      <td>26</td>\n",
       "      <td>エコパスタジアム</td>\n",
       "      <td>11.6</td>\n",
       "      <td>42.0</td>\n",
       "      <td>28564.0</td>\n",
       "      <td>3</td>\n",
       "      <td>...</td>\n",
       "      <td>15165.0</td>\n",
       "      <td>137.877701</td>\n",
       "      <td>34.723106</td>\n",
       "      <td>レベルファイブスタジアム</td>\n",
       "      <td>福岡県福岡市博多区東平尾公園2-1-1</td>\n",
       "      <td>22331.0</td>\n",
       "      <td>130.461426</td>\n",
       "      <td>33.586304</td>\n",
       "      <td>7.502896</td>\n",
       "      <td>2</td>\n",
       "    </tr>\n",
       "    <tr>\n",
       "      <th>4</th>\n",
       "      <td>9194</td>\n",
       "      <td>2006-03-05</td>\n",
       "      <td>14</td>\n",
       "      <td>6</td>\n",
       "      <td>0</td>\n",
       "      <td>名古屋市瑞穂陸上競技場</td>\n",
       "      <td>13.1</td>\n",
       "      <td>32.0</td>\n",
       "      <td>17199.0</td>\n",
       "      <td>3</td>\n",
       "      <td>...</td>\n",
       "      <td>20223.0</td>\n",
       "      <td>136.941589</td>\n",
       "      <td>35.124908</td>\n",
       "      <td>キンチョウスタジアム</td>\n",
       "      <td>大阪府大阪市東住吉区長居公園1-1</td>\n",
       "      <td>17892.0</td>\n",
       "      <td>135.516663</td>\n",
       "      <td>34.616272</td>\n",
       "      <td>1.512985</td>\n",
       "      <td>1</td>\n",
       "    </tr>\n",
       "    <tr>\n",
       "      <th>...</th>\n",
       "      <td>...</td>\n",
       "      <td>...</td>\n",
       "      <td>...</td>\n",
       "      <td>...</td>\n",
       "      <td>...</td>\n",
       "      <td>...</td>\n",
       "      <td>...</td>\n",
       "      <td>...</td>\n",
       "      <td>...</td>\n",
       "      <td>...</td>\n",
       "      <td>...</td>\n",
       "      <td>...</td>\n",
       "      <td>...</td>\n",
       "      <td>...</td>\n",
       "      <td>...</td>\n",
       "      <td>...</td>\n",
       "      <td>...</td>\n",
       "      <td>...</td>\n",
       "      <td>...</td>\n",
       "      <td>...</td>\n",
       "      <td>...</td>\n",
       "    </tr>\n",
       "    <tr>\n",
       "      <th>3820</th>\n",
       "      <td>20893</td>\n",
       "      <td>2018-07-22</td>\n",
       "      <td>19</td>\n",
       "      <td>1</td>\n",
       "      <td>19</td>\n",
       "      <td>味の素スタジアム</td>\n",
       "      <td>32.0</td>\n",
       "      <td>62.0</td>\n",
       "      <td>NaN</td>\n",
       "      <td>7</td>\n",
       "      <td>...</td>\n",
       "      <td>48999.0</td>\n",
       "      <td>139.528900</td>\n",
       "      <td>35.663670</td>\n",
       "      <td>日産スタジアム</td>\n",
       "      <td>神奈川県横浜市港北区小机町3300</td>\n",
       "      <td>72081.0</td>\n",
       "      <td>139.606674</td>\n",
       "      <td>35.510120</td>\n",
       "      <td>0.172123</td>\n",
       "      <td>1</td>\n",
       "    </tr>\n",
       "    <tr>\n",
       "      <th>3821</th>\n",
       "      <td>20894</td>\n",
       "      <td>2018-07-22</td>\n",
       "      <td>19</td>\n",
       "      <td>10</td>\n",
       "      <td>27</td>\n",
       "      <td>等々力陸上競技場</td>\n",
       "      <td>32.0</td>\n",
       "      <td>65.0</td>\n",
       "      <td>NaN</td>\n",
       "      <td>7</td>\n",
       "      <td>...</td>\n",
       "      <td>26827.0</td>\n",
       "      <td>139.648911</td>\n",
       "      <td>35.586826</td>\n",
       "      <td>トランスコスモススタジアム長崎</td>\n",
       "      <td>長崎県諫早市宇都町27−1</td>\n",
       "      <td>20258.0</td>\n",
       "      <td>130.038498</td>\n",
       "      <td>32.837368</td>\n",
       "      <td>9.995977</td>\n",
       "      <td>1</td>\n",
       "    </tr>\n",
       "    <tr>\n",
       "      <th>3822</th>\n",
       "      <td>20895</td>\n",
       "      <td>2018-07-22</td>\n",
       "      <td>19</td>\n",
       "      <td>2</td>\n",
       "      <td>21</td>\n",
       "      <td>市立吹田サッカースタジアム</td>\n",
       "      <td>31.2</td>\n",
       "      <td>50.0</td>\n",
       "      <td>NaN</td>\n",
       "      <td>7</td>\n",
       "      <td>...</td>\n",
       "      <td>21000.0</td>\n",
       "      <td>135.540421</td>\n",
       "      <td>34.812466</td>\n",
       "      <td>IAIスタジアム日本平</td>\n",
       "      <td>静岡県静岡市清水区村松3880−1</td>\n",
       "      <td>20248.0</td>\n",
       "      <td>138.482101</td>\n",
       "      <td>34.984898</td>\n",
       "      <td>2.946729</td>\n",
       "      <td>2</td>\n",
       "    </tr>\n",
       "    <tr>\n",
       "      <th>3823</th>\n",
       "      <td>20896</td>\n",
       "      <td>2018-07-22</td>\n",
       "      <td>19</td>\n",
       "      <td>0</td>\n",
       "      <td>20</td>\n",
       "      <td>大阪長居スタジアム</td>\n",
       "      <td>30.5</td>\n",
       "      <td>71.0</td>\n",
       "      <td>NaN</td>\n",
       "      <td>7</td>\n",
       "      <td>...</td>\n",
       "      <td>17892.0</td>\n",
       "      <td>135.516663</td>\n",
       "      <td>34.616272</td>\n",
       "      <td>埼玉スタジアム2002</td>\n",
       "      <td>埼玉県さいたま市緑区美園2丁目1</td>\n",
       "      <td>62010.0</td>\n",
       "      <td>139.713974</td>\n",
       "      <td>35.902477</td>\n",
       "      <td>4.389959</td>\n",
       "      <td>2</td>\n",
       "    </tr>\n",
       "    <tr>\n",
       "      <th>3824</th>\n",
       "      <td>20897</td>\n",
       "      <td>2018-07-22</td>\n",
       "      <td>19</td>\n",
       "      <td>28</td>\n",
       "      <td>4</td>\n",
       "      <td>ベストアメニティスタジアム</td>\n",
       "      <td>27.0</td>\n",
       "      <td>90.0</td>\n",
       "      <td>NaN</td>\n",
       "      <td>7</td>\n",
       "      <td>...</td>\n",
       "      <td>24130.0</td>\n",
       "      <td>130.519943</td>\n",
       "      <td>33.371758</td>\n",
       "      <td>ユアテックスタジアム仙台</td>\n",
       "      <td>宮城県仙台市泉区七北田字柳78</td>\n",
       "      <td>19694.0</td>\n",
       "      <td>140.881714</td>\n",
       "      <td>38.319134</td>\n",
       "      <td>11.482283</td>\n",
       "      <td>1</td>\n",
       "    </tr>\n",
       "  </tbody>\n",
       "</table>\n",
       "<p>3825 rows × 27 columns</p>\n",
       "</div>"
      ],
      "text/plain": [
       "         id match_date  kick_off_time  home_team  away_team          venue  \\\n",
       "0      9190 2006-03-04             16          2         20        万博記念競技場   \n",
       "1      9191 2006-03-05             13         23         21      山梨中銀スタジアム   \n",
       "2      9192 2006-03-05             13          1          7       味の素スタジアム   \n",
       "3      9193 2006-03-05             14         24         26       エコパスタジアム   \n",
       "4      9194 2006-03-05             14          6          0    名古屋市瑞穂陸上競技場   \n",
       "...     ...        ...            ...        ...        ...            ...   \n",
       "3820  20893 2018-07-22             19          1         19       味の素スタジアム   \n",
       "3821  20894 2018-07-22             19         10         27       等々力陸上競技場   \n",
       "3822  20895 2018-07-22             19          2         21  市立吹田サッカースタジアム   \n",
       "3823  20896 2018-07-22             19          0         20      大阪長居スタジアム   \n",
       "3824  20897 2018-07-22             19         28          4  ベストアメニティスタジアム   \n",
       "\n",
       "      temperature  humidity  attendance  month  ...  home_team_capacity  \\\n",
       "0             8.3      40.0     20916.0      3  ...             21000.0   \n",
       "1            12.9      28.0     14277.0      3  ...             15859.0   \n",
       "2            12.1      35.0     22531.0      3  ...             48999.0   \n",
       "3            11.6      42.0     28564.0      3  ...             15165.0   \n",
       "4            13.1      32.0     17199.0      3  ...             20223.0   \n",
       "...           ...       ...         ...    ...  ...                 ...   \n",
       "3820         32.0      62.0         NaN      7  ...             48999.0   \n",
       "3821         32.0      65.0         NaN      7  ...             26827.0   \n",
       "3822         31.2      50.0         NaN      7  ...             21000.0   \n",
       "3823         30.5      71.0         NaN      7  ...             17892.0   \n",
       "3824         27.0      90.0         NaN      7  ...             24130.0   \n",
       "\n",
       "      home_team_lon home_team_lat  away_team_stadium    away_team_address  \\\n",
       "0        135.540421     34.812466        埼玉スタジアム2002     埼玉県さいたま市緑区美園2丁目1   \n",
       "1        138.588425     35.620750        IAIスタジアム日本平    静岡県静岡市清水区村松3880−1   \n",
       "2        139.528900     35.663670            九州石油ドーム         大分県大分市横尾1351   \n",
       "3        137.877701     34.723106       レベルファイブスタジアム  福岡県福岡市博多区東平尾公園2-1-1   \n",
       "4        136.941589     35.124908         キンチョウスタジアム    大阪府大阪市東住吉区長居公園1-1   \n",
       "...             ...           ...                ...                  ...   \n",
       "3820     139.528900     35.663670            日産スタジアム    神奈川県横浜市港北区小机町3300   \n",
       "3821     139.648911     35.586826    トランスコスモススタジアム長崎        長崎県諫早市宇都町27−1   \n",
       "3822     135.540421     34.812466        IAIスタジアム日本平    静岡県静岡市清水区村松3880−1   \n",
       "3823     135.516663     34.616272        埼玉スタジアム2002     埼玉県さいたま市緑区美園2丁目1   \n",
       "3824     130.519943     33.371758       ユアテックスタジアム仙台      宮城県仙台市泉区七北田字柳78   \n",
       "\n",
       "     away_team_capacity away_team_lon  away_team_lat  stadium_distance  \\\n",
       "0               62010.0    139.713974      35.902477          4.313545   \n",
       "1               20248.0    138.482101      34.984898          0.644680   \n",
       "2               31997.0    131.656387      33.201115          8.248675   \n",
       "3               22331.0    130.461426      33.586304          7.502896   \n",
       "4               17892.0    135.516663      34.616272          1.512985   \n",
       "...                 ...           ...            ...               ...   \n",
       "3820            72081.0    139.606674      35.510120          0.172123   \n",
       "3821            20258.0    130.038498      32.837368          9.995977   \n",
       "3822            20248.0    138.482101      34.984898          2.946729   \n",
       "3823            62010.0    139.713974      35.902477          4.389959   \n",
       "3824            19694.0    140.881714      38.319134         11.482283   \n",
       "\n",
       "      is_home_stadium  \n",
       "0                   1  \n",
       "1                   1  \n",
       "2                   1  \n",
       "3                   2  \n",
       "4                   1  \n",
       "...               ...  \n",
       "3820                1  \n",
       "3821                1  \n",
       "3822                2  \n",
       "3823                2  \n",
       "3824                1  \n",
       "\n",
       "[3825 rows x 27 columns]"
      ]
     },
     "execution_count": 25,
     "metadata": {},
     "output_type": "execute_result"
    }
   ],
   "source": [
    "def get_label(df,home,away):\n",
    "    le = LabelEncoder()\n",
    "    df[home] = le.fit_transform(df[home])\n",
    "    df[away] = le.transform(df[away])\n",
    "    return df\n",
    "get_label(df,\"home_team\",\"away_team\")"
   ]
  },
  {
   "cell_type": "markdown",
   "id": "5a223310-c002-44f9-a624-48a5c231aa46",
   "metadata": {},
   "source": [
    "# 気温湿気の処理 気温はドロップした方が精度高い。　[気温、湿度]→[不快指数、湿度]"
   ]
  },
  {
   "cell_type": "code",
   "execution_count": 26,
   "id": "872b3043-abdb-49cd-a070-4a1612800212",
   "metadata": {},
   "outputs": [],
   "source": [
    "def discomfort_index(T, H):\n",
    "    return 0.81*T+0.01*H*(0.99*T - 14.3) + 46.3\n",
    "df[\"discomfort\"] = discomfort_index(df[\"temperature\"], df[\"humidity\"])\n"
   ]
  },
  {
   "cell_type": "markdown",
   "id": "c6afcb47-1955-4b84-aea6-d14c5fcfade6",
   "metadata": {},
   "source": [
    "# capacity_ratioの考え方"
   ]
  },
  {
   "cell_type": "code",
   "execution_count": 27,
   "id": "52ed712f-0397-46a8-b590-d87dfcf862c4",
   "metadata": {},
   "outputs": [],
   "source": [
    "# df=df.copy()\n",
    "# df.loc[:,\"capacity_ratio\"]=df[\"attendance\"]/df[\"capacity_y\"]*100\n",
    "# obj_cols = df.select_dtypes(include=\"object\").columns\n",
    "# df1=df.drop(obj_cols,axis=1)\n",
    "# df1=df1.drop([\"capacity_y\",\"attendance\",\"id\",\"match_date\"],axis=1)"
   ]
  },
  {
   "cell_type": "code",
   "execution_count": 28,
   "id": "28f0b345-1f24-4fbb-8670-c8268a722d02",
   "metadata": {},
   "outputs": [],
   "source": [
    "# train_df=df1[df1[\"capacity_ratio\"].notnull()]\n",
    "# test_df=df1[df1[\"capacity_ratio\"].isnull()]\n",
    "# train_df.to_csv(\"team_player_analysys.csv\")"
   ]
  },
  {
   "cell_type": "code",
   "execution_count": 29,
   "id": "d7dece41-8cd2-47d7-9a00-5a53ca395b09",
   "metadata": {},
   "outputs": [],
   "source": [
    "# train_x=train_df.drop(\"capacity_ratio\",axis=1)\n",
    "# train_y=train_df[\"capacity_ratio\"]\n",
    "# test_x=test_df.drop(\"capacity_ratio\",axis=1)\n",
    "# test_y=test_df[\"capacity_ratio\"]"
   ]
  },
  {
   "cell_type": "markdown",
   "id": "07a599ac-bc94-43bd-9eb4-890d7e672acd",
   "metadata": {},
   "source": [
    "# capacity_yの考え方"
   ]
  },
  {
   "cell_type": "code",
   "execution_count": 30,
   "id": "1eefd5e0-f225-4bfa-a4d5-594b9e8d61f7",
   "metadata": {},
   "outputs": [],
   "source": [
    "# obj_cols = df.select_dtypes(include=\"object\").columns\n",
    "# df1=df.drop([\"id\",\"match_date\"],axis=1)\n",
    "# df1=df1.drop(obj_cols,axis=1)"
   ]
  },
  {
   "cell_type": "markdown",
   "id": "01f2ad5c-1181-4f4a-8e3b-015e18f46611",
   "metadata": {},
   "source": [
    "# 説明変数の最終調整"
   ]
  },
  {
   "cell_type": "code",
   "execution_count": 31,
   "id": "25ec6fa8-0023-4c9c-ac06-040181c6ea78",
   "metadata": {},
   "outputs": [],
   "source": [
    "df=df.drop([\"id\",\"match_date\",\"venue\",\"address\",\"home_team_stadium\",\"home_team_address\",\"home_team_lon\",\"home_team_lat\",\"away_team_lon\",\"away_team_lat\",\"away_team_address\",\"away_team_stadium\"],axis=1)"
   ]
  },
  {
   "cell_type": "code",
   "execution_count": 32,
   "id": "1aad822f-1cae-45ac-900d-6de8c413226a",
   "metadata": {},
   "outputs": [],
   "source": [
    "df1=df.copy()"
   ]
  },
  {
   "cell_type": "code",
   "execution_count": null,
   "id": "04c14e95-ea3d-460c-94c3-d2c036bf963d",
   "metadata": {},
   "outputs": [],
   "source": []
  },
  {
   "cell_type": "code",
   "execution_count": 33,
   "id": "0d86b7f0-de6c-4888-89ca-e9f0c83d9bde",
   "metadata": {},
   "outputs": [],
   "source": [
    "train_df=df1[df1[\"attendance\"].notnull()]\n",
    "test_df=df1[df1[\"attendance\"].isnull()]"
   ]
  },
  {
   "cell_type": "code",
   "execution_count": 34,
   "id": "41f3b4c4-fdc3-4cb1-a289-a81c67d59926",
   "metadata": {},
   "outputs": [],
   "source": [
    "train_x=train_df.drop(\"attendance\",axis=1)\n",
    "train_y=train_df[\"attendance\"]\n",
    "test_x=test_df.drop(\"attendance\",axis=1)\n",
    "test_y=test_df[\"attendance\"]"
   ]
  },
  {
   "cell_type": "markdown",
   "id": "da1a0a95-69bf-4590-ac40-6d1dd4dd2b9b",
   "metadata": {},
   "source": [
    "# LightGBM"
   ]
  },
  {
   "cell_type": "code",
   "execution_count": 35,
   "id": "9f17afd7-f466-42be-9443-ddd013960993",
   "metadata": {},
   "outputs": [],
   "source": [
    "def cv_training(method: str, train_df: pd.DataFrame, features: list, categorical_features: list):\n",
    "    scores, preds = [],[]\n",
    "    oof = pd.DataFrame()\n",
    "    if method == 'lightgbm':\n",
    "        lgb_importances = pd.DataFrame()\n",
    "    #変化加えましたn_splitsに\n",
    "    kf = KFold(n_splits=7 ,shuffle=True, random_state=CFG.seed)\n",
    "    for fold ,(tr_idx,va_idx) in enumerate(kf.split(train_df)):\n",
    "        print(\"=\"*20,f\" {method} training fold {fold + 1} \",\"=\"*20)        \n",
    "        train_folds = train_df.iloc[tr_idx]\n",
    "        valid_folds = train_df.iloc[va_idx]\n",
    "        x_train = train_folds[features]\n",
    "        x_valid = valid_folds[features]\n",
    "        y_train = train_folds[CFG.target_col]\n",
    "        y_valid = valid_folds[CFG.target_col]\n",
    "            \n",
    "        # if method == 'lightgbm':\n",
    "        model, valid_pred = lgb_training(x_train, y_train, x_valid, y_valid, features, categorical_features)\n",
    "        fi_tmp = pd.DataFrame()\n",
    "        fi_tmp['feature'] = x_train.columns\n",
    "        fi_tmp['importance'] = model.feature_importances_\n",
    "        fi_tmp['fold'] = fold\n",
    "        #変更点\n",
    "        lgb_importances = []\n",
    "        lgb_importances.append(fi_tmp)\n",
    "        lgb_importances=pd.concat(lgb_importances)\n",
    "        # if method == 'xgboost':\n",
    "        #     model, valid_pred = xgb_training(x_train, y_train, x_valid, y_valid, features, categorical_features)\n",
    "        # if method == 'catboost':\n",
    "        #     model, valid_pred = ctb_training(x_train, y_train, x_valid, y_valid, features, categorical_features)\n",
    "        # if method == 'tabnet':\n",
    "        #     model, valid_pred = tabnet_training(x_train, y_train, x_valid, y_valid, features, categorical_features)\n",
    "\n",
    "        # Save best model\n",
    "        pickle.dump(model, open(os.path.join(CFG.MODEL_DATA_PATH, f'{method}_fold{fold + 1}_seed{CFG.seed}_ver{CFG.VER}.pkl'), 'wb'))\n",
    "            \n",
    "\n",
    "        score = np.sqrt(mean_squared_error(y_valid,valid_pred))\n",
    "        print(f\"RMSE : {score}\")\n",
    "        scores.append(score)\n",
    "            \n",
    "        valid_folds[f\"{method}_pred\"] = valid_pred\n",
    "        \n",
    "        oof = pd.concat([oof,valid_folds])\n",
    "        \n",
    "        del x_train,y_train,x_valid,y_valid\n",
    "        \n",
    "    print(f\"Mean Score {np.mean(scores)}\")\n",
    "    \n",
    "    oof.to_csv(os.path.join(CFG.OOF_DATA_PATH, f'oof_{method}_seed{CFG.seed}_ver{CFG.VER}.csv'), index = False)\n",
    "    \n",
    "    score = np.sqrt(mean_squared_error(oof[\"attendance\"],oof[f\"{method}_pred\"]))\n",
    "    print(f\"RMSE : {score}\")\n",
    "    \n",
    "    if method == 'lightgbm':\n",
    "        order = list(lgb_importances.groupby('feature').mean().sort_values('importance', ascending=False).index)\n",
    "        fig = plt.figure(figsize=(16, 32), tight_layout=True)\n",
    "        sns.barplot(x=\"importance\", y=\"feature\", data=lgb_importances.groupby('feature').mean().reset_index(), order=order)\n",
    "        plt.title(\"LightGBM feature importances\")"
   ]
  },
  {
   "cell_type": "code",
   "execution_count": 36,
   "id": "a4707a75-57c0-474e-a0a4-15b8165362e2",
   "metadata": {},
   "outputs": [],
   "source": [
    "from sklearn.model_selection import train_test_split,KFold,GroupKFold\n",
    "X_train, X_val, y_train, y_val = train_test_split(train_x, train_y, test_size=0.3, random_state=42)"
   ]
  },
  {
   "cell_type": "code",
   "execution_count": 37,
   "id": "7807ab5b-9caa-4b4d-9485-3a32ea954dc9",
   "metadata": {},
   "outputs": [],
   "source": [
    "features=train_x.columns\n",
    "categorical_features=[\"home_team\",\"away_team\"]"
   ]
  },
  {
   "cell_type": "code",
   "execution_count": 38,
   "id": "675358c1-dd4b-4973-8557-3d32aa130a1e",
   "metadata": {
    "scrolled": true
   },
   "outputs": [
    {
     "name": "stdout",
     "output_type": "stream",
     "text": [
      "====================  lightgbm training fold 1  ====================\n"
     ]
    },
    {
     "name": "stderr",
     "output_type": "stream",
     "text": [
      "C:\\Users\\zekus\\AppData\\Roaming\\jupyterlab-desktop\\jlab_server\\lib\\site-packages\\optuna\\integration\\_lightgbm_tuner\\sklearn.py:42: UserWarning: LightGBMTuner doesn't support sklearn API. Use `train()` or `LightGBMTuner` for hyperparameter tuning.\n",
      "  warnings.warn(\n"
     ]
    },
    {
     "ename": "RuntimeError",
     "evalue": "scikit-learn estimators should always specify their parameters in the signature of their __init__ (no varargs). <class 'optuna.integration._lightgbm_tuner.sklearn.LGBMRegressor'> with constructor (self, *args: Any, **kwargs: Any) -> None doesn't  follow this convention.",
     "output_type": "error",
     "traceback": [
      "\u001b[1;31m---------------------------------------------------------------------------\u001b[0m",
      "\u001b[1;31mRuntimeError\u001b[0m                              Traceback (most recent call last)",
      "Cell \u001b[1;32mIn[38], line 1\u001b[0m\n\u001b[1;32m----> 1\u001b[0m \u001b[43mcv_training\u001b[49m\u001b[43m(\u001b[49m\u001b[38;5;124;43m\"\u001b[39;49m\u001b[38;5;124;43mlightgbm\u001b[39;49m\u001b[38;5;124;43m\"\u001b[39;49m\u001b[43m,\u001b[49m\u001b[43m \u001b[49m\u001b[43mtrain_df\u001b[49m\u001b[43m,\u001b[49m\u001b[43m \u001b[49m\u001b[43mfeatures\u001b[49m\u001b[43m,\u001b[49m\u001b[43m \u001b[49m\u001b[43mcategorical_features\u001b[49m\u001b[43m)\u001b[49m\n",
      "Cell \u001b[1;32mIn[35], line 18\u001b[0m, in \u001b[0;36mcv_training\u001b[1;34m(method, train_df, features, categorical_features)\u001b[0m\n\u001b[0;32m     15\u001b[0m y_valid \u001b[38;5;241m=\u001b[39m valid_folds[CFG\u001b[38;5;241m.\u001b[39mtarget_col]\n\u001b[0;32m     17\u001b[0m \u001b[38;5;66;03m# if method == 'lightgbm':\u001b[39;00m\n\u001b[1;32m---> 18\u001b[0m model, valid_pred \u001b[38;5;241m=\u001b[39m \u001b[43mlgb_training\u001b[49m\u001b[43m(\u001b[49m\u001b[43mx_train\u001b[49m\u001b[43m,\u001b[49m\u001b[43m \u001b[49m\u001b[43my_train\u001b[49m\u001b[43m,\u001b[49m\u001b[43m \u001b[49m\u001b[43mx_valid\u001b[49m\u001b[43m,\u001b[49m\u001b[43m \u001b[49m\u001b[43my_valid\u001b[49m\u001b[43m,\u001b[49m\u001b[43m \u001b[49m\u001b[43mfeatures\u001b[49m\u001b[43m,\u001b[49m\u001b[43m \u001b[49m\u001b[43mcategorical_features\u001b[49m\u001b[43m)\u001b[49m\n\u001b[0;32m     19\u001b[0m fi_tmp \u001b[38;5;241m=\u001b[39m pd\u001b[38;5;241m.\u001b[39mDataFrame()\n\u001b[0;32m     20\u001b[0m fi_tmp[\u001b[38;5;124m'\u001b[39m\u001b[38;5;124mfeature\u001b[39m\u001b[38;5;124m'\u001b[39m] \u001b[38;5;241m=\u001b[39m x_train\u001b[38;5;241m.\u001b[39mcolumns\n",
      "Cell \u001b[1;32mIn[3], line 70\u001b[0m, in \u001b[0;36mlgb_training\u001b[1;34m(x_train, y_train, x_valid, y_valid, features, categorical_features)\u001b[0m\n\u001b[0;32m     67\u001b[0m \u001b[38;5;28;01mdef\u001b[39;00m \u001b[38;5;21mlgb_training\u001b[39m(x_train: pd\u001b[38;5;241m.\u001b[39mDataFrame, y_train: pd\u001b[38;5;241m.\u001b[39mDataFrame, x_valid: pd\u001b[38;5;241m.\u001b[39mDataFrame, y_valid: pd\u001b[38;5;241m.\u001b[39mDataFrame,\n\u001b[0;32m     68\u001b[0m                  features: \u001b[38;5;28mlist\u001b[39m, categorical_features: \u001b[38;5;28mlist\u001b[39m):\n\u001b[0;32m     69\u001b[0m     clf \u001b[38;5;241m=\u001b[39m lgb\u001b[38;5;241m.\u001b[39mLGBMRegressor(\u001b[38;5;241m*\u001b[39m\u001b[38;5;241m*\u001b[39mCFG\u001b[38;5;241m.\u001b[39mlgb_params)\n\u001b[1;32m---> 70\u001b[0m     \u001b[43mclf\u001b[49m\u001b[38;5;241;43m.\u001b[39;49m\u001b[43mfit\u001b[49m\u001b[43m(\u001b[49m\u001b[43mx_train\u001b[49m\u001b[43m,\u001b[49m\u001b[43m \u001b[49m\u001b[43my_train\u001b[49m\u001b[43m,\u001b[49m\n\u001b[0;32m     71\u001b[0m \u001b[43m                \u001b[49m\u001b[43meval_set\u001b[49m\u001b[38;5;241;43m=\u001b[39;49m\u001b[43m[\u001b[49m\u001b[43m(\u001b[49m\u001b[43mx_valid\u001b[49m\u001b[43m,\u001b[49m\u001b[43m \u001b[49m\u001b[43my_valid\u001b[49m\u001b[43m)\u001b[49m\u001b[43m]\u001b[49m\u001b[43m,\u001b[49m\n\u001b[0;32m     72\u001b[0m \u001b[43m                \u001b[49m\u001b[43meval_metric\u001b[49m\u001b[38;5;241;43m=\u001b[39;49m\u001b[43mCFG\u001b[49m\u001b[38;5;241;43m.\u001b[39;49m\u001b[43mmetric\u001b[49m\u001b[43m,\u001b[49m\n\u001b[0;32m     73\u001b[0m \u001b[43m                \u001b[49m\u001b[43mverbose\u001b[49m\u001b[43m \u001b[49m\u001b[38;5;241;43m=\u001b[39;49m\u001b[43m \u001b[49m\u001b[43mCFG\u001b[49m\u001b[38;5;241;43m.\u001b[39;49m\u001b[43mverbose\u001b[49m\u001b[43m,\u001b[49m\n\u001b[0;32m     74\u001b[0m \u001b[43m              \u001b[49m\u001b[38;5;66;43;03m#early_stopping_rounds=100,\u001b[39;49;00m\n\u001b[0;32m     75\u001b[0m \u001b[43m              \u001b[49m\u001b[38;5;66;43;03m#categorical_feature = categorical_features\u001b[39;49;00m\n\u001b[0;32m     76\u001b[0m \u001b[43m              \u001b[49m\u001b[43m)\u001b[49m\n\u001b[0;32m     77\u001b[0m     \u001b[38;5;66;03m# Predict validation\u001b[39;00m\n\u001b[0;32m     78\u001b[0m     valid_pred \u001b[38;5;241m=\u001b[39m clf\u001b[38;5;241m.\u001b[39mpredict(x_valid)\n",
      "File \u001b[1;32m~\\AppData\\Roaming\\jupyterlab-desktop\\jlab_server\\lib\\site-packages\\lightgbm\\sklearn.py:895\u001b[0m, in \u001b[0;36mLGBMRegressor.fit\u001b[1;34m(self, X, y, sample_weight, init_score, eval_set, eval_names, eval_sample_weight, eval_init_score, eval_metric, early_stopping_rounds, verbose, feature_name, categorical_feature, callbacks, init_model)\u001b[0m\n\u001b[0;32m    888\u001b[0m \u001b[38;5;28;01mdef\u001b[39;00m \u001b[38;5;21mfit\u001b[39m(\u001b[38;5;28mself\u001b[39m, X, y,\n\u001b[0;32m    889\u001b[0m         sample_weight\u001b[38;5;241m=\u001b[39m\u001b[38;5;28;01mNone\u001b[39;00m, init_score\u001b[38;5;241m=\u001b[39m\u001b[38;5;28;01mNone\u001b[39;00m,\n\u001b[0;32m    890\u001b[0m         eval_set\u001b[38;5;241m=\u001b[39m\u001b[38;5;28;01mNone\u001b[39;00m, eval_names\u001b[38;5;241m=\u001b[39m\u001b[38;5;28;01mNone\u001b[39;00m, eval_sample_weight\u001b[38;5;241m=\u001b[39m\u001b[38;5;28;01mNone\u001b[39;00m,\n\u001b[0;32m    891\u001b[0m         eval_init_score\u001b[38;5;241m=\u001b[39m\u001b[38;5;28;01mNone\u001b[39;00m, eval_metric\u001b[38;5;241m=\u001b[39m\u001b[38;5;28;01mNone\u001b[39;00m, early_stopping_rounds\u001b[38;5;241m=\u001b[39m\u001b[38;5;28;01mNone\u001b[39;00m,\n\u001b[0;32m    892\u001b[0m         verbose\u001b[38;5;241m=\u001b[39m\u001b[38;5;124m'\u001b[39m\u001b[38;5;124mwarn\u001b[39m\u001b[38;5;124m'\u001b[39m, feature_name\u001b[38;5;241m=\u001b[39m\u001b[38;5;124m'\u001b[39m\u001b[38;5;124mauto\u001b[39m\u001b[38;5;124m'\u001b[39m, categorical_feature\u001b[38;5;241m=\u001b[39m\u001b[38;5;124m'\u001b[39m\u001b[38;5;124mauto\u001b[39m\u001b[38;5;124m'\u001b[39m,\n\u001b[0;32m    893\u001b[0m         callbacks\u001b[38;5;241m=\u001b[39m\u001b[38;5;28;01mNone\u001b[39;00m, init_model\u001b[38;5;241m=\u001b[39m\u001b[38;5;28;01mNone\u001b[39;00m):\n\u001b[0;32m    894\u001b[0m \u001b[38;5;250m    \u001b[39m\u001b[38;5;124;03m\"\"\"Docstring is inherited from the LGBMModel.\"\"\"\u001b[39;00m\n\u001b[1;32m--> 895\u001b[0m     \u001b[38;5;28;43msuper\u001b[39;49m\u001b[43m(\u001b[49m\u001b[43m)\u001b[49m\u001b[38;5;241;43m.\u001b[39;49m\u001b[43mfit\u001b[49m\u001b[43m(\u001b[49m\u001b[43mX\u001b[49m\u001b[43m,\u001b[49m\u001b[43m \u001b[49m\u001b[43my\u001b[49m\u001b[43m,\u001b[49m\u001b[43m \u001b[49m\u001b[43msample_weight\u001b[49m\u001b[38;5;241;43m=\u001b[39;49m\u001b[43msample_weight\u001b[49m\u001b[43m,\u001b[49m\u001b[43m \u001b[49m\u001b[43minit_score\u001b[49m\u001b[38;5;241;43m=\u001b[39;49m\u001b[43minit_score\u001b[49m\u001b[43m,\u001b[49m\n\u001b[0;32m    896\u001b[0m \u001b[43m                \u001b[49m\u001b[43meval_set\u001b[49m\u001b[38;5;241;43m=\u001b[39;49m\u001b[43meval_set\u001b[49m\u001b[43m,\u001b[49m\u001b[43m \u001b[49m\u001b[43meval_names\u001b[49m\u001b[38;5;241;43m=\u001b[39;49m\u001b[43meval_names\u001b[49m\u001b[43m,\u001b[49m\u001b[43m \u001b[49m\u001b[43meval_sample_weight\u001b[49m\u001b[38;5;241;43m=\u001b[39;49m\u001b[43meval_sample_weight\u001b[49m\u001b[43m,\u001b[49m\n\u001b[0;32m    897\u001b[0m \u001b[43m                \u001b[49m\u001b[43meval_init_score\u001b[49m\u001b[38;5;241;43m=\u001b[39;49m\u001b[43meval_init_score\u001b[49m\u001b[43m,\u001b[49m\u001b[43m \u001b[49m\u001b[43meval_metric\u001b[49m\u001b[38;5;241;43m=\u001b[39;49m\u001b[43meval_metric\u001b[49m\u001b[43m,\u001b[49m\n\u001b[0;32m    898\u001b[0m \u001b[43m                \u001b[49m\u001b[43mearly_stopping_rounds\u001b[49m\u001b[38;5;241;43m=\u001b[39;49m\u001b[43mearly_stopping_rounds\u001b[49m\u001b[43m,\u001b[49m\u001b[43m \u001b[49m\u001b[43mverbose\u001b[49m\u001b[38;5;241;43m=\u001b[39;49m\u001b[43mverbose\u001b[49m\u001b[43m,\u001b[49m\u001b[43m \u001b[49m\u001b[43mfeature_name\u001b[49m\u001b[38;5;241;43m=\u001b[39;49m\u001b[43mfeature_name\u001b[49m\u001b[43m,\u001b[49m\n\u001b[0;32m    899\u001b[0m \u001b[43m                \u001b[49m\u001b[43mcategorical_feature\u001b[49m\u001b[38;5;241;43m=\u001b[39;49m\u001b[43mcategorical_feature\u001b[49m\u001b[43m,\u001b[49m\u001b[43m \u001b[49m\u001b[43mcallbacks\u001b[49m\u001b[38;5;241;43m=\u001b[39;49m\u001b[43mcallbacks\u001b[49m\u001b[43m,\u001b[49m\u001b[43m \u001b[49m\u001b[43minit_model\u001b[49m\u001b[38;5;241;43m=\u001b[39;49m\u001b[43minit_model\u001b[49m\u001b[43m)\u001b[49m\n\u001b[0;32m    900\u001b[0m     \u001b[38;5;28;01mreturn\u001b[39;00m \u001b[38;5;28mself\u001b[39m\n",
      "File \u001b[1;32m~\\AppData\\Roaming\\jupyterlab-desktop\\jlab_server\\lib\\site-packages\\lightgbm\\sklearn.py:595\u001b[0m, in \u001b[0;36mLGBMModel.fit\u001b[1;34m(self, X, y, sample_weight, init_score, group, eval_set, eval_names, eval_sample_weight, eval_class_weight, eval_init_score, eval_group, eval_metric, early_stopping_rounds, verbose, feature_name, categorical_feature, callbacks, init_model)\u001b[0m\n\u001b[0;32m    592\u001b[0m \u001b[38;5;28;01melse\u001b[39;00m:\n\u001b[0;32m    593\u001b[0m     \u001b[38;5;28mself\u001b[39m\u001b[38;5;241m.\u001b[39m_fobj \u001b[38;5;241m=\u001b[39m \u001b[38;5;28;01mNone\u001b[39;00m\n\u001b[1;32m--> 595\u001b[0m params \u001b[38;5;241m=\u001b[39m \u001b[38;5;28;43mself\u001b[39;49m\u001b[38;5;241;43m.\u001b[39;49m\u001b[43mget_params\u001b[49m\u001b[43m(\u001b[49m\u001b[43m)\u001b[49m\n\u001b[0;32m    596\u001b[0m \u001b[38;5;66;03m# user can set verbose with kwargs, it has higher priority\u001b[39;00m\n\u001b[0;32m    597\u001b[0m \u001b[38;5;28;01mif\u001b[39;00m \u001b[38;5;28mself\u001b[39m\u001b[38;5;241m.\u001b[39msilent \u001b[38;5;241m!=\u001b[39m \u001b[38;5;124m\"\u001b[39m\u001b[38;5;124mwarn\u001b[39m\u001b[38;5;124m\"\u001b[39m:\n",
      "File \u001b[1;32m~\\AppData\\Roaming\\jupyterlab-desktop\\jlab_server\\lib\\site-packages\\lightgbm\\sklearn.py:549\u001b[0m, in \u001b[0;36mLGBMModel.get_params\u001b[1;34m(self, deep)\u001b[0m\n\u001b[0;32m    535\u001b[0m \u001b[38;5;28;01mdef\u001b[39;00m \u001b[38;5;21mget_params\u001b[39m(\u001b[38;5;28mself\u001b[39m, deep\u001b[38;5;241m=\u001b[39m\u001b[38;5;28;01mTrue\u001b[39;00m):\n\u001b[0;32m    536\u001b[0m \u001b[38;5;250m    \u001b[39m\u001b[38;5;124;03m\"\"\"Get parameters for this estimator.\u001b[39;00m\n\u001b[0;32m    537\u001b[0m \n\u001b[0;32m    538\u001b[0m \u001b[38;5;124;03m    Parameters\u001b[39;00m\n\u001b[1;32m   (...)\u001b[0m\n\u001b[0;32m    547\u001b[0m \u001b[38;5;124;03m        Parameter names mapped to their values.\u001b[39;00m\n\u001b[0;32m    548\u001b[0m \u001b[38;5;124;03m    \"\"\"\u001b[39;00m\n\u001b[1;32m--> 549\u001b[0m     params \u001b[38;5;241m=\u001b[39m \u001b[38;5;28;43msuper\u001b[39;49m\u001b[43m(\u001b[49m\u001b[43m)\u001b[49m\u001b[38;5;241;43m.\u001b[39;49m\u001b[43mget_params\u001b[49m\u001b[43m(\u001b[49m\u001b[43mdeep\u001b[49m\u001b[38;5;241;43m=\u001b[39;49m\u001b[43mdeep\u001b[49m\u001b[43m)\u001b[49m\n\u001b[0;32m    550\u001b[0m     params\u001b[38;5;241m.\u001b[39mupdate(\u001b[38;5;28mself\u001b[39m\u001b[38;5;241m.\u001b[39m_other_params)\n\u001b[0;32m    551\u001b[0m     \u001b[38;5;28;01mreturn\u001b[39;00m params\n",
      "File \u001b[1;32m~\\AppData\\Roaming\\jupyterlab-desktop\\jlab_server\\lib\\site-packages\\sklearn\\base.py:169\u001b[0m, in \u001b[0;36mBaseEstimator.get_params\u001b[1;34m(self, deep)\u001b[0m\n\u001b[0;32m    154\u001b[0m \u001b[38;5;250m\u001b[39m\u001b[38;5;124;03m\"\"\"\u001b[39;00m\n\u001b[0;32m    155\u001b[0m \u001b[38;5;124;03mGet parameters for this estimator.\u001b[39;00m\n\u001b[0;32m    156\u001b[0m \n\u001b[1;32m   (...)\u001b[0m\n\u001b[0;32m    166\u001b[0m \u001b[38;5;124;03m    Parameter names mapped to their values.\u001b[39;00m\n\u001b[0;32m    167\u001b[0m \u001b[38;5;124;03m\"\"\"\u001b[39;00m\n\u001b[0;32m    168\u001b[0m out \u001b[38;5;241m=\u001b[39m \u001b[38;5;28mdict\u001b[39m()\n\u001b[1;32m--> 169\u001b[0m \u001b[38;5;28;01mfor\u001b[39;00m key \u001b[38;5;129;01min\u001b[39;00m \u001b[38;5;28;43mself\u001b[39;49m\u001b[38;5;241;43m.\u001b[39;49m\u001b[43m_get_param_names\u001b[49m\u001b[43m(\u001b[49m\u001b[43m)\u001b[49m:\n\u001b[0;32m    170\u001b[0m     value \u001b[38;5;241m=\u001b[39m \u001b[38;5;28mgetattr\u001b[39m(\u001b[38;5;28mself\u001b[39m, key)\n\u001b[0;32m    171\u001b[0m     \u001b[38;5;28;01mif\u001b[39;00m deep \u001b[38;5;129;01mand\u001b[39;00m \u001b[38;5;28mhasattr\u001b[39m(value, \u001b[38;5;124m\"\u001b[39m\u001b[38;5;124mget_params\u001b[39m\u001b[38;5;124m\"\u001b[39m) \u001b[38;5;129;01mand\u001b[39;00m \u001b[38;5;129;01mnot\u001b[39;00m \u001b[38;5;28misinstance\u001b[39m(value, \u001b[38;5;28mtype\u001b[39m):\n",
      "File \u001b[1;32m~\\AppData\\Roaming\\jupyterlab-desktop\\jlab_server\\lib\\site-packages\\sklearn\\base.py:143\u001b[0m, in \u001b[0;36mBaseEstimator._get_param_names\u001b[1;34m(cls)\u001b[0m\n\u001b[0;32m    141\u001b[0m \u001b[38;5;28;01mfor\u001b[39;00m p \u001b[38;5;129;01min\u001b[39;00m parameters:\n\u001b[0;32m    142\u001b[0m     \u001b[38;5;28;01mif\u001b[39;00m p\u001b[38;5;241m.\u001b[39mkind \u001b[38;5;241m==\u001b[39m p\u001b[38;5;241m.\u001b[39mVAR_POSITIONAL:\n\u001b[1;32m--> 143\u001b[0m         \u001b[38;5;28;01mraise\u001b[39;00m \u001b[38;5;167;01mRuntimeError\u001b[39;00m(\n\u001b[0;32m    144\u001b[0m             \u001b[38;5;124m\"\u001b[39m\u001b[38;5;124mscikit-learn estimators should always \u001b[39m\u001b[38;5;124m\"\u001b[39m\n\u001b[0;32m    145\u001b[0m             \u001b[38;5;124m\"\u001b[39m\u001b[38;5;124mspecify their parameters in the signature\u001b[39m\u001b[38;5;124m\"\u001b[39m\n\u001b[0;32m    146\u001b[0m             \u001b[38;5;124m\"\u001b[39m\u001b[38;5;124m of their __init__ (no varargs).\u001b[39m\u001b[38;5;124m\"\u001b[39m\n\u001b[0;32m    147\u001b[0m             \u001b[38;5;124m\"\u001b[39m\u001b[38;5;124m \u001b[39m\u001b[38;5;132;01m%s\u001b[39;00m\u001b[38;5;124m with constructor \u001b[39m\u001b[38;5;132;01m%s\u001b[39;00m\u001b[38;5;124m doesn\u001b[39m\u001b[38;5;124m'\u001b[39m\u001b[38;5;124mt \u001b[39m\u001b[38;5;124m\"\u001b[39m\n\u001b[0;32m    148\u001b[0m             \u001b[38;5;124m\"\u001b[39m\u001b[38;5;124m follow this convention.\u001b[39m\u001b[38;5;124m\"\u001b[39m \u001b[38;5;241m%\u001b[39m (\u001b[38;5;28mcls\u001b[39m, init_signature)\n\u001b[0;32m    149\u001b[0m         )\n\u001b[0;32m    150\u001b[0m \u001b[38;5;66;03m# Extract and sort argument names excluding 'self'\u001b[39;00m\n\u001b[0;32m    151\u001b[0m \u001b[38;5;28;01mreturn\u001b[39;00m \u001b[38;5;28msorted\u001b[39m([p\u001b[38;5;241m.\u001b[39mname \u001b[38;5;28;01mfor\u001b[39;00m p \u001b[38;5;129;01min\u001b[39;00m parameters])\n",
      "\u001b[1;31mRuntimeError\u001b[0m: scikit-learn estimators should always specify their parameters in the signature of their __init__ (no varargs). <class 'optuna.integration._lightgbm_tuner.sklearn.LGBMRegressor'> with constructor (self, *args: Any, **kwargs: Any) -> None doesn't  follow this convention."
     ]
    }
   ],
   "source": [
    "cv_training(\"lightgbm\", train_df, features, categorical_features)"
   ]
  },
  {
   "cell_type": "code",
   "execution_count": 83,
   "id": "066cf0a3-24df-4823-8e8a-64f044f45cd5",
   "metadata": {},
   "outputs": [
    {
     "name": "stdout",
     "output_type": "stream",
     "text": [
      "         id  lightgbm_pred  attendance\n",
      "0      9190   20605.262106     20916.0\n",
      "1      9191   16612.638891     17564.0\n",
      "2      9192   11477.613880     13054.0\n",
      "3      9193   10136.466026      7921.0\n",
      "4      9194   23992.450130     30561.0\n",
      "...     ...            ...         ...\n",
      "3361  18195   18523.923558     23290.0\n",
      "3362  18196   11386.014483     11883.0\n",
      "3363  18197   14316.600310     16676.0\n",
      "3364  18198   14178.650528     12377.0\n",
      "3365  18199   13968.008301     13042.0\n",
      "\n",
      "[3366 rows x 3 columns]\n",
      "RMSE : 4299.167773116641\n"
     ]
    }
   ],
   "source": [
    "flag = 0\n",
    "for method in CFG.METHOD_LIST:\n",
    "    if flag==0:\n",
    "        oof_df = pd.read_csv(os.path.join(CFG.OOF_DATA_PATH, f'oof_{method}_seed{CFG.seed}_ver{CFG.VER}.csv'))\n",
    "        oof_df = pd.concat([train[\"id\"],oof_df[[f\"{method}_pred\", \"attendance\"]]],axis=1)\n",
    "        print(oof_df)\n",
    "    else:\n",
    "        tmp_df = pd.read_csv(os.path.join(CFG.OOF_DATA_PATH, f'oof_{method}_seed{CFG.seed}_ver{CFG.VER}.csv'))\n",
    "        tmp_df = tmp_df[[\"id\", f\"{method}_pred\"]]\n",
    "        oof_df = oof_df.merge(tmp_df[[\"id\", f\"{method}_pred\"]], how=\"left\", on=\"id\")\n",
    "    flag=1\n",
    "\n",
    "#oof_df[\"pred\"] = 0.4 * oof_df['lightgbm_pred'] + 0.2 * oof_df['xgboost_pred'] + 0.35 * oof_df['catboost_pred'] + 0.05 * oof_df[\"tabnet_pred\"]\n",
    "oof_df[\"pred\"] = oof_df['lightgbm_pred']  \n",
    "score = np.sqrt(mean_squared_error(oof_df[\"attendance\"],oof_df[\"pred\"]))\n",
    "print(f\"RMSE : {score}\")   "
   ]
  },
  {
   "cell_type": "markdown",
   "id": "e9d0baeb-2be0-470a-950b-32a2afd02ee5",
   "metadata": {},
   "source": [
    "4211くらい"
   ]
  },
  {
   "cell_type": "code",
   "execution_count": 51,
   "id": "312bff68-f641-4885-9999-61603f099250",
   "metadata": {},
   "outputs": [
    {
     "name": "stderr",
     "output_type": "stream",
     "text": [
      "C:\\Users\\zekus\\AppData\\Local\\Temp\\ipykernel_7872\\4053586511.py:2: SettingWithCopyWarning: \n",
      "A value is trying to be set on a copy of a slice from a DataFrame.\n",
      "Try using .loc[row_indexer,col_indexer] = value instead\n",
      "\n",
      "See the caveats in the documentation: https://pandas.pydata.org/pandas-docs/stable/user_guide/indexing.html#returning-a-view-versus-a-copy\n",
      "  test_df.loc[:,f'{method}_pred'] = model_inference(\"lightgbm\", test_df, features, categorical_features)\n"
     ]
    }
   ],
   "source": [
    "for method in CFG.METHOD_LIST:\n",
    "    test_df.loc[:,f'{method}_pred'] = model_inference(\"lightgbm\", test_df, features, categorical_features)"
   ]
  },
  {
   "cell_type": "code",
   "execution_count": 52,
   "id": "eb594ee2-afa8-4648-86f2-005155f7d1e8",
   "metadata": {},
   "outputs": [],
   "source": [
    "#test_df['attendance'] = 0.4 * test_df['lightgbm_pred'] + 0.2 * test_df['xgboost_pred'] + 0.35 * test_df['catboost_pred'] + 0.05 * test_df[\"tabnet_pred\"] \n",
    "test_df.loc[:,'attendance'] = test_df['lightgbm_pred']"
   ]
  },
  {
   "cell_type": "code",
   "execution_count": null,
   "id": "e5467e9d-f2b1-4345-9adb-53d19258754e",
   "metadata": {},
   "outputs": [],
   "source": []
  },
  {
   "cell_type": "code",
   "execution_count": 53,
   "id": "783f5c63-dd23-48c3-94ae-d8dc2f6004d5",
   "metadata": {},
   "outputs": [],
   "source": [
    "sub_df.loc[:,1]=test_df[\"attendance\"].values\n",
    "sub_df.to_csv(os.path.join(OUTPUT_SUB_DIR,f\"submission_exp{CFG.VER}.csv\"),index=False, header=False)\n"
   ]
  },
  {
   "cell_type": "code",
   "execution_count": 54,
   "id": "88c185ef-591a-4824-81ec-8d0d79057b6c",
   "metadata": {},
   "outputs": [
    {
     "data": {
      "image/png": "[encoded data removed]",
      "text/plain": [
       "<Figure size 640x480 with 1 Axes>"
      ]
     },
     "metadata": {},
     "output_type": "display_data"
    }
   ],
   "source": [
    "plt.hist(test_df.attendance,bins=25,edgecolor='white')\n",
    "plt.xlabel(\"Pred\")\n",
    "plt.show()"
   ]
  },
  {
   "cell_type": "code",
   "execution_count": 89,
   "id": "5f59123f-7d8d-493d-91ac-6c98c34d642e",
   "metadata": {},
   "outputs": [],
   "source": [
    "result_df=pd.read_csv(\"./output/oof/oof_lightgbm_seed42_ver4.csv\")"
   ]
  },
  {
   "cell_type": "code",
   "execution_count": 96,
   "id": "16e74bb8-cd93-4ac5-bbc6-32f874c59b27",
   "metadata": {},
   "outputs": [],
   "source": [
    "result_df[\"diff\"]=result_df[\"attendance\"]-result_df[\"lightgbm_pred\"]"
   ]
  },
  {
   "cell_type": "code",
   "execution_count": 97,
   "id": "6ca8f440-daed-4d81-ac2c-29a315299515",
   "metadata": {},
   "outputs": [
    {
     "data": {
      "text/plain": [
       "<Axes: ylabel='diff'>"
      ]
     },
     "execution_count": 97,
     "metadata": {},
     "output_type": "execute_result"
    },
    {
     "data": {
      "image/png": "[encoded data removed]",
      "text/plain": [
       "<Figure size 640x480 with 1 Axes>"
      ]
     },
     "metadata": {},
     "output_type": "display_data"
    }
   ],
   "source": [
    "sns.scatterplot(x=result_df.index,y=result_df[\"diff\"],data=result_df)"
   ]
  },
  {
   "cell_type": "markdown",
   "id": "4ecfafbf-a5e5-4081-a426-912d53aa1a1d",
   "metadata": {},
   "source": [
    "# 必要ない"
   ]
  },
  {
   "cell_type": "code",
   "execution_count": null,
   "id": "455661c8-f551-45e2-8ece-bee1e3c60636",
   "metadata": {},
   "outputs": [],
   "source": [
    "# SEED = 0\n",
    "# import lightgbm as lgb\n",
    "\n",
    "# params = {\n",
    "#     \"objective\":\"regression\",\n",
    "#       \"metric\":\"rmse\",\n",
    "#       'verbosity': -1,\n",
    "#       'n_jobs': -1,\n",
    "#       'boosting_type': boosting_type,\n",
    "#       \"n_estimators\": num_boost_round,\n",
    "#       \"random_state\": seed,\n",
    "#       'learning_rate': 0.05, \n",
    "#       'lambda_l1': 0.0024306941353027622, \n",
    "#       'lambda_l2': 1.0645884032063444e-08, \n",
    "#       'num_leaves': 18, \n",
    "#       'feature_fraction': 0.7168918229680646, \n",
    "#       'bagging_fraction': 0.9476636054626689, \n",
    "#       'bagging_freq': 1, \n",
    "#       'max_depth': 15, \n",
    "#       'max_bin': 272, \n",
    "#       'min_data_in_leaf': 8\n",
    "# }\n",
    "\n",
    "# model, valid_pred = lgb_training(X_train, y_train,X_val, y_val, features, categorical_features)\n",
    "\n",
    "# train_data = lgb.Dataset(X_train, label=y_train)\n",
    "# val_data = lgb.Dataset(X_val, label=y_val)\n",
    "\n",
    "# model = lgb.train(\n",
    "#     params,\n",
    "#     train_data,\n",
    "#     categorical_feature = cat_cols[3:],\n",
    "#     valid_names = ['train', 'valid'],\n",
    "#     valid_sets =[train_data, val_data],\n",
    "#     verbose_eval=100\n",
    "\n",
    "\n",
    "# )\n",
    "\n",
    "# val_pred = model.predict(X_val, num_iteration=model.best_iteration)\n",
    "# score = mean_squared_error(y_val, val_pred)\n",
    "\n",
    "# pred_df = pd.DataFrame(sorted(zip(X_val.index, val_pred, y_val)))\n",
    "\n",
    "# feature_imp = pd.DataFrame(sorted(zip(model.feature_importance(), train_x.columns)), columns=['importance', 'feature'])\n",
    "\n",
    "# print(f'score: {score:.4f}')"
   ]
  },
  {
   "cell_type": "code",
   "execution_count": null,
   "id": "4abd5b65-29e7-46d8-80bb-5cfda768519a",
   "metadata": {},
   "outputs": [],
   "source": [
    "# # feature importanceを表示\n",
    "# importance = pd.DataFrame(model.feature_importance(), index=train_x.columns, columns=['importance'])\n",
    "# display(importance.sort_values(by=\"importance\"))"
   ]
  },
  {
   "cell_type": "code",
   "execution_count": null,
   "id": "d07a8421-e16d-4f4e-804a-161573481f3c",
   "metadata": {},
   "outputs": [],
   "source": [
    "pre_y=model.predict(test_x)"
   ]
  },
  {
   "cell_type": "markdown",
   "id": "de16b833-e25b-4cd3-af69-5b4440ce0307",
   "metadata": {},
   "source": [
    "# 提出"
   ]
  },
  {
   "cell_type": "code",
   "execution_count": null,
   "id": "43777d7d-ee3d-4038-8d5a-ccacfd06aca8",
   "metadata": {},
   "outputs": [],
   "source": [
    "sub_df.loc[:,1]=pre_y"
   ]
  },
  {
   "cell_type": "code",
   "execution_count": null,
   "id": "8062dd36-30ca-4c13-a187-f3158e8c013f",
   "metadata": {},
   "outputs": [],
   "source": [
    "sub_df.to_csv(\"submit.csv\",index=None,header=None)"
   ]
  },
  {
   "cell_type": "code",
   "execution_count": null,
   "id": "179a7951-2212-45ed-a755-c8a9a955449f",
   "metadata": {},
   "outputs": [],
   "source": []
  },
  {
   "cell_type": "code",
   "execution_count": null,
   "id": "4d82b6b7-9ffb-4cbf-aa21-5160a1e39ebf",
   "metadata": {},
   "outputs": [],
   "source": [
    "# train.to_csv(\"object_train.csv\")\n",
    "# train,test=df[df[\"attendance\"].notnull()],df[df[\"attendance\"].isnull()]"
   ]
  },
  {
   "cell_type": "code",
   "execution_count": null,
   "id": "e4c52b1b-56ad-4875-8f1b-6ff3004ee9ed",
   "metadata": {},
   "outputs": [],
   "source": []
  },
  {
   "cell_type": "code",
   "execution_count": null,
   "id": "3d1ae751-2bad-4abc-b83c-e5be6298061f",
   "metadata": {},
   "outputs": [],
   "source": []
  },
  {
   "cell_type": "code",
   "execution_count": null,
   "id": "e270b5ee-e4b5-4d65-ba0b-7a34c1d2ede0",
   "metadata": {},
   "outputs": [],
   "source": []
  },
  {
   "cell_type": "code",
   "execution_count": null,
   "id": "8a64b1e4-e17e-4731-8b3b-a0e8e9fff2c4",
   "metadata": {},
   "outputs": [],
   "source": []
  },
  {
   "cell_type": "code",
   "execution_count": null,
   "id": "5485ba78-2b42-41f9-8bca-8785d95da971",
   "metadata": {},
   "outputs": [],
   "source": []
  },
  {
   "cell_type": "code",
   "execution_count": null,
   "id": "6c93f337-aeed-4e0e-a3c9-945abd8bb96f",
   "metadata": {},
   "outputs": [],
   "source": []
  },
  {
   "cell_type": "code",
   "execution_count": null,
   "id": "c7ebf9ed-0e16-44ed-805f-1823ac9e1150",
   "metadata": {},
   "outputs": [],
   "source": []
  },
  {
   "cell_type": "code",
   "execution_count": null,
   "id": "a92493ce-754b-4b59-bd07-277914124d03",
   "metadata": {},
   "outputs": [],
   "source": []
  },
  {
   "cell_type": "code",
   "execution_count": null,
   "id": "8e0809b3-bf4a-42ed-acab-e7da0ec8b73f",
   "metadata": {},
   "outputs": [],
   "source": []
  },
  {
   "cell_type": "code",
   "execution_count": null,
   "id": "ccf907a4-d025-49df-a3e9-6760a8b8f343",
   "metadata": {},
   "outputs": [],
   "source": []
  },
  {
   "cell_type": "code",
   "execution_count": null,
   "id": "c78e76d7-58a9-4d82-930c-8adfdbe71a4a",
   "metadata": {},
   "outputs": [],
   "source": []
  }
 ],
 "metadata": {
  "kernelspec": {
   "display_name": "Python 3 (ipykernel)",
   "language": "python",
   "name": "python3"
  },
  "language_info": {
   "codemirror_mode": {
    "name": "ipython",
    "version": 3
   },
   "file_extension": ".py",
   "mimetype": "text/x-python",
   "name": "python",
   "nbconvert_exporter": "python",
   "pygments_lexer": "ipython3",
   "version": "3.8.16"
  }
 },
 "nbformat": 4,
 "nbformat_minor": 5
}
