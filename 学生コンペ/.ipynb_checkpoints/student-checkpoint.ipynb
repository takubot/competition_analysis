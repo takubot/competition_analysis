{
 "cells": [
  {
   "cell_type": "code",
   "execution_count": 1,
   "id": "38678c0d-6ac2-45be-8804-219308eb4ac8",
   "metadata": {},
   "outputs": [],
   "source": [
    "import pandas as pd\n",
    "import matplotlib.pyplot as plt\n",
    "import seaborn as sns\n",
    "import numpy as np\n",
    "import urllib\n",
    "import requests\n",
    "import time\n",
    "import japanize_matplotlib\n",
    "from sklearn.metrics import mean_squared_error\n",
    "from scipy import stats as st\n",
    "from sklearn.model_selection import GridSearchCV\n",
    "from sklearn.ensemble import RandomForestRegressor\n",
    "from sklearn.model_selection import cross_val_score\n",
    "from sklearn.ensemble import RandomForestRegressor\n",
    "from sklearn.metrics import median_absolute_error\n",
    "from sklearn.preprocessing import LabelEncoder\n",
    "import pickle\n",
    "import os\n",
    "import lightgbm as lgb\n",
    "import unicodedata\n",
    "from sklearn.model_selection import train_test_split,KFold,GroupKFold\n",
    "\n",
    "\n"
   ]
  },
  {
   "cell_type": "code",
   "execution_count": 2,
   "id": "a21662ea-7e16-43d0-9879-f3186240a972",
   "metadata": {},
   "outputs": [],
   "source": [
    "train=pd.read_csv(\"train.csv\")\n",
    "test=pd.read_csv(\"test.csv\")\n",
    "sub=pd.read_csv(\"submit_sample.csv\",names=[\"id\",\"price\"])"
   ]
  },
  {
   "cell_type": "code",
   "execution_count": 3,
   "id": "ad7c7a72-d9db-4f59-823f-77a74fb8e96a",
   "metadata": {},
   "outputs": [],
   "source": [
    "df=pd.concat([train,test])"
   ]
  },
  {
   "cell_type": "markdown",
   "id": "03785681-2575-453b-bf41-1df4cebbccee",
   "metadata": {},
   "source": [
    "# データ整形"
   ]
  },
  {
   "cell_type": "code",
   "execution_count": 4,
   "id": "ec54eaa7-0e1e-4e2b-a4b5-6c976706262d",
   "metadata": {},
   "outputs": [],
   "source": [
    "import unicodedata\n",
    "foo = u'１２３４５６７８９０'"
   ]
  },
  {
   "cell_type": "code",
   "execution_count": 5,
   "id": "ab234d54-5a40-4d2b-a5f7-bd5885f977d4",
   "metadata": {},
   "outputs": [],
   "source": [
    "# dfはあなたのデータフレームです\n",
    "df['manufacturer'] = df['manufacturer'].apply(lambda x: unicodedata.normalize('NFKC', x))\n",
    "df[\"manufacturer\"]=df[\"manufacturer\"].apply(lambda x:x.lower() )"
   ]
  },
  {
   "cell_type": "code",
   "execution_count": 6,
   "id": "064eba62-76e0-444a-ae46-7c026b1a0541",
   "metadata": {},
   "outputs": [],
   "source": [
    "df[\"cylinders\"]=df[\"cylinders\"].apply(lambda x: 0 if x[0]==\"o\" else int(x[0]) )"
   ]
  },
  {
   "cell_type": "code",
   "execution_count": 7,
   "id": "0893aecb-6e02-45aa-a3e3-9ec1db756802",
   "metadata": {},
   "outputs": [],
   "source": [
    "# ハイフンを統一する\n",
    "df[\"size\"] = df[\"size\"].replace(\"midーsize\", \"mid-size\")\n",
    "df[\"size\"] = df[\"size\"].replace(\"mid−size\", \"mid-size\")\n",
    "df[\"size\"] = df[\"size\"].replace(\"fullーsize\",\"full-size\")\n",
    "df[\"size\"] = df[\"size\"].replace(\"full−size\",\"full-size\")\n",
    "df[\"size\"] = df[\"size\"].replace(\"subーcompact\",\"sub-compact\")"
   ]
  },
  {
   "cell_type": "code",
   "execution_count": 8,
   "id": "b84a26a8-1f0e-47ba-8a55-b8a2f997eb45",
   "metadata": {},
   "outputs": [
    {
     "data": {
      "text/plain": [
       "condition\n",
       "2    30440\n",
       "3    12020\n",
       "1     7647\n",
       "4     4773\n",
       "0      116\n",
       "5       73\n",
       "Name: count, dtype: int64"
      ]
     },
     "execution_count": 8,
     "metadata": {},
     "output_type": "execute_result"
    }
   ],
   "source": [
    "condition_order = [\"new\", \"like new\", \"excellent\", \"good\", \"fair\", \"salvage\"]\n",
    "df.loc[:,\"condition\"] = df[\"condition\"].apply(lambda x: condition_order.index(x))\n",
    "df.loc[:,\"condition\"].value_counts()\n",
    "#0が一番良い新品、5が一番悪い故障あり"
   ]
  },
  {
   "cell_type": "code",
   "execution_count": 9,
   "id": "d2e52dac-846f-4995-972b-773d713392ec",
   "metadata": {},
   "outputs": [],
   "source": [
    "df[\"year\"]=df[\"year\"].apply(lambda x:int(x)-1000 if int(x)>2200 else int(x))"
   ]
  },
  {
   "cell_type": "code",
   "execution_count": 26,
   "id": "b9c70541-1bd7-47a5-bf48-fdf351542cff",
   "metadata": {},
   "outputs": [],
   "source": [
    "df[\"odometer\"]=df[\"odometer\"].apply(lambda x: x/10 if x>1000000 else x)\n",
    "df[\"odometer\"]=df[\"odometer\"].apply(lambda x: -x if x<=-10 else x)\n",
    "df[\"odometer\"]=df[\"odometer\"].apply(lambda x: df[\"odometer\"].mean() if x==-1 else x)\n"
   ]
  },
  {
   "cell_type": "code",
   "execution_count": null,
   "id": "1a154a03-eb41-4c87-bf05-5e903268b8b9",
   "metadata": {},
   "outputs": [],
   "source": []
  },
  {
   "cell_type": "code",
   "execution_count": 10,
   "id": "b974a18f-9185-483e-b369-5595ba9a9e53",
   "metadata": {},
   "outputs": [],
   "source": [
    "train_df=df[df[\"price\"].notnull()]\n",
    "test_df=df[df[\"price\"].isnull()]"
   ]
  },
  {
   "cell_type": "code",
   "execution_count": 11,
   "id": "bdd95577-897b-4241-8730-09bbf637cd82",
   "metadata": {},
   "outputs": [
    {
     "data": {
      "text/plain": [
       "title_status\n",
       "clean         22365\n",
       "rebuilt        3004\n",
       "salvage         985\n",
       "lien            465\n",
       "parts only      133\n",
       "missing         124\n",
       "Name: count, dtype: int64"
      ]
     },
     "execution_count": 11,
     "metadata": {},
     "output_type": "execute_result"
    }
   ],
   "source": [
    "# train_df.to_csv(\"train_new.csv\")\n",
    "train_df[\"title_status\"].value_counts()"
   ]
  },
  {
   "cell_type": "markdown",
   "id": "8ae6d4f4-74f8-414b-9c15-cc95a127af8e",
   "metadata": {},
   "source": [
    "# 欠損値埋める"
   ]
  },
  {
   "cell_type": "markdown",
   "id": "0dbe23bd-85b9-41cf-9b77-a64b099596e7",
   "metadata": {},
   "source": [
    "fuel"
   ]
  },
  {
   "cell_type": "code",
   "execution_count": 12,
   "id": "605106d5-789b-4647-a6f1-ae7f782b18c4",
   "metadata": {},
   "outputs": [],
   "source": [
    "fuel_null_index=df[df[\"fuel\"].isnull()].index\n",
    "df.loc[fuel_null_index,\"fuel\"]=\"gas\""
   ]
  },
  {
   "cell_type": "code",
   "execution_count": 13,
   "id": "3ef39273-f24a-4b79-b2d9-793964aec726",
   "metadata": {},
   "outputs": [],
   "source": [
    "clean_index=df[df[\"title_status\"].isnull()].index\n",
    "df.loc[clean_index,\"title_status\"]=\"clean\""
   ]
  },
  {
   "cell_type": "code",
   "execution_count": 14,
   "id": "5f004b21-d246-441a-947b-ff65d2411b79",
   "metadata": {},
   "outputs": [],
   "source": [
    "type_index=df[df[\"type\"].isnull()].index\n",
    "df.loc[type_index,\"type\"]=\"sedan\""
   ]
  },
  {
   "cell_type": "code",
   "execution_count": 15,
   "id": "329c1d74-5bbf-4f79-9716-e500ee7e27a7",
   "metadata": {},
   "outputs": [],
   "source": [
    "state_index=df[df[\"state\"].isnull()].index\n",
    "df.loc[state_index,\"state\"]=\"ca\""
   ]
  },
  {
   "cell_type": "code",
   "execution_count": null,
   "id": "0081b09a-6251-416f-bcc4-a721e12abb1c",
   "metadata": {},
   "outputs": [],
   "source": []
  },
  {
   "cell_type": "markdown",
   "id": "6b95db50-801f-4481-8925-01177061994a",
   "metadata": {},
   "source": [
    "# エンコーディング"
   ]
  },
  {
   "cell_type": "code",
   "execution_count": 16,
   "id": "bfb20301-70b0-42ea-be3d-758d94fe9dd3",
   "metadata": {},
   "outputs": [
    {
     "data": {
      "text/plain": [
       "Index(['region', 'manufacturer', 'condition', 'fuel', 'title_status',\n",
       "       'transmission', 'drive', 'size', 'type', 'paint_color', 'state'],\n",
       "      dtype='object')"
      ]
     },
     "execution_count": 16,
     "metadata": {},
     "output_type": "execute_result"
    }
   ],
   "source": [
    "object_columns=df.select_dtypes(\"object\").columns\n",
    "object_columns"
   ]
  },
  {
   "cell_type": "code",
   "execution_count": 17,
   "id": "53c08eeb-e3f9-4b80-8597-f42c4e5f1cc2",
   "metadata": {},
   "outputs": [],
   "source": [
    "le = LabelEncoder()\n",
    "\n",
    "for i in object_columns:\n",
    "    df[i]=le.fit_transform(df[i])"
   ]
  },
  {
   "cell_type": "markdown",
   "id": "97d356fb-370d-49aa-a8f7-b02974416a0b",
   "metadata": {},
   "source": [
    "# train test"
   ]
  },
  {
   "cell_type": "code",
   "execution_count": 19,
   "id": "752e8edc-5bb5-468d-a913-9e24d7851229",
   "metadata": {},
   "outputs": [],
   "source": [
    "train_df=df[df[\"price\"].notnull()]\n",
    "test_df=df[df[\"price\"].isnull()]\n",
    "\n",
    "train_x=train_df.drop(\"price\",axis=1)\n",
    "train_y=train_df[\"price\"]\n",
    "test_x=test_df.drop(\"price\",axis=1)\n",
    "test_y=test_df[\"price\"]"
   ]
  },
  {
   "cell_type": "code",
   "execution_count": 20,
   "id": "1bb3ac1a-a634-46f1-bf55-6c81e7e26564",
   "metadata": {},
   "outputs": [],
   "source": [
    "x_train,x_val,y_train,y_val = train_test_split(train_x,train_y,test_size=0.2)\n"
   ]
  },
  {
   "cell_type": "code",
   "execution_count": 21,
   "id": "62e1c802-7f69-4f21-a8db-3b82fd26f049",
   "metadata": {},
   "outputs": [
    {
     "data": {
      "text/plain": [
       "71.57364319259977"
      ]
     },
     "execution_count": 21,
     "metadata": {},
     "output_type": "execute_result"
    }
   ],
   "source": [
    "clf = RandomForestRegressor()\n",
    "clf = clf.fit(x_train, y_train)\n",
    "pred = clf.predict(x_val)\n",
    "# MAPEを計算する関数を定義する\n",
    "def mape(y_true, y_pred):\n",
    "    return np.mean(np.abs((y_true - y_pred) / y_true)) * 100\n",
    "\n",
    "mape(y_val,pred)"
   ]
  },
  {
   "cell_type": "code",
   "execution_count": 22,
   "id": "c2804f17-0954-4518-8712-cb7b5d05c151",
   "metadata": {},
   "outputs": [],
   "source": [
    "DIR = \"./\"\n",
    "OUTPUT_DIR = os.path.join(DIR,\"output\")\n",
    "if not os.path.exists(OUTPUT_DIR):\n",
    "    os.makedirs(OUTPUT_DIR)\n",
    "class CFG:\n",
    "    VER=4\n",
    "    MODEL_DATA_PATH = OUTPUT_DIR\n",
    "    OOF_DATA_PATH = OUTPUT_DIR\n",
    "    seed = 42\n",
    "    n_folds = 5\n",
    "    target_col = 'attendance'\n",
    "    group_col = 'home_team'\n",
    "    metric = 'mape'\n",
    "    num_boost_round = 5000\n",
    "    max_epochs = 2000\n",
    "    early_stopping_rounds = 200\n",
    "    verbose = 1000\n",
    "    boosting_type = 'dart'\n",
    "    lgb_params = {\n",
    "      \"objective\":\"regression\",\n",
    "      \"metric\":\"mape\",\n",
    "      'verbosity': -1,\n",
    "      'n_jobs': -1,\n",
    "      'boosting_type': boosting_type,\n",
    "      \"n_estimators\": num_boost_round,\n",
    "      \"random_state\": seed,\n",
    "      'learning_rate': 0.05, \n",
    "      'lambda_l1': 0.0024306941353027622, \n",
    "      'lambda_l2': 1.0645884032063444e-08, \n",
    "      'num_leaves': 18, \n",
    "      'feature_fraction': 0.7168918229680646, \n",
    "      'bagging_fraction': 0.9476636054626689, \n",
    "      'bagging_freq': 1, \n",
    "      'max_depth': 15, \n",
    "      'max_bin': 272, \n",
    "      'min_data_in_leaf': 8\n",
    "    }\n",
    "\n",
    "\n",
    "def lgb_training(x_train: pd.DataFrame, y_train: pd.DataFrame, x_valid: pd.DataFrame, y_valid: pd.DataFrame,\n",
    "                 features: list, categorical_features: list):\n",
    "    clf = lgb.LGBMRegressor(**CFG.lgb_params)\n",
    "    clf.fit(x_train, y_train,\n",
    "                eval_set=[(x_valid, y_valid)],\n",
    "                eval_metric=CFG.metric,\n",
    "                verbose = CFG.verbose,\n",
    "              #early_stopping_rounds=100,\n",
    "              #categorical_feature = categorical_features\n",
    "              )\n",
    "    # Predict validation\n",
    "    valid_pred = clf.predict(x_valid)\n",
    "    return clf, valid_pred\n",
    "\n",
    "\n",
    "def cv_training(method: str, train_df: pd.DataFrame, features: list, categorical_features: list):\n",
    "    scores, preds = [],[]\n",
    "    oof = pd.DataFrame()\n",
    "    lgb_importances = pd.DataFrame()\n",
    "    kf = KFold(n_splits=5 ,shuffle=True, random_state=42)\n",
    "    for fold ,(tr_idx,va_idx) in enumerate(kf.split(train_df)):\n",
    "        print(\"=\"*20,f\" {method} training fold {fold + 1} \",\"=\"*20)\n",
    "        \n",
    "        train_folds = train_df.iloc[tr_idx]\n",
    "        valid_folds = train_df.iloc[va_idx]\n",
    "        x_train = train_folds[features]\n",
    "        x_valid = valid_folds[features]\n",
    "        y_train = train_folds[\"price\"]\n",
    "        y_valid = valid_folds[\"price\"]\n",
    "            \n",
    "      \n",
    "        model, valid_pred = lgb_training(x_train, y_train, x_valid, y_valid, features, categorical_features)\n",
    "        fi_tmp = pd.DataFrame()\n",
    "        fi_tmp['feature'] = x_train.columns\n",
    "        fi_tmp['importance'] = model.feature_importances_\n",
    "        fi_tmp['fold'] = fold\n",
    "        #変更点\n",
    "        lgb_importances = []\n",
    "        lgb_importances.append(fi_tmp)\n",
    "        lgb_importances=pd.concat(lgb_importances)\n",
    "\n",
    "        # Save best model\n",
    "        pickle.dump(model, open(os.path.join(CFG.MODEL_DATA_PATH, f'{method}_fold{fold + 1}_seed{CFG.seed}_ver{CFG.VER}.pkl'), 'wb'))\n",
    "            \n",
    "        score = mape(y_valid,valid_pred)\n",
    "        print(f\"MAPE : {score}\")\n",
    "        scores.append(score)\n",
    "            \n",
    "        valid_folds[f\"{method}_pred\"] = valid_pred\n",
    "        \n",
    "        oof = pd.concat([oof,valid_folds])\n",
    "        del x_train,y_train,x_valid,y_valid\n",
    "        \n",
    "    print(f\"Mean Score {np.mean(scores)}\")\n",
    "    \n",
    "    oof.to_csv('lightGBM_pred.csv', index = False)\n",
    "    \n",
    "    score = mape(oof[\"price\"],oof[f\"{method}_pred\"])\n",
    "    print(f\"MAPE : {score}\")\n",
    "def model_inference(method: str, test_df: pd.DataFrame, features: list, categorical_features: list):\n",
    "    x_test = test_df[features]\n",
    "    test_pred = lgb_inference(x_test)\n",
    "    return test_pred\n",
    "\n",
    "def lgb_inference(x_test: pd.DataFrame):\n",
    "    test_pred = np.zeros(len(x_test))\n",
    "    for fold in range(CFG.n_folds):\n",
    "        model = pickle.load(open(os.path.join(CFG.MODEL_DATA_PATH,f'lightgbm_fold{fold + 1}_seed{CFG.seed}_ver{CFG.VER}.pkl'), 'rb'))\n",
    "    # Predict\n",
    "        test_pred += model.predict(x_test)\n",
    "    return test_pred / CFG.n_folds"
   ]
  },
  {
   "cell_type": "code",
   "execution_count": 23,
   "id": "5390d820-5b58-4a5a-b111-f6af29277211",
   "metadata": {},
   "outputs": [
    {
     "name": "stdout",
     "output_type": "stream",
     "text": [
      "====================  lightgbm training fold 1  ====================\n",
      "[LightGBM] [Warning] feature_fraction is set=0.7168918229680646, colsample_bytree=1.0 will be ignored. Current value: feature_fraction=0.7168918229680646\n",
      "[LightGBM] [Warning] min_data_in_leaf is set=8, min_child_samples=20 will be ignored. Current value: min_data_in_leaf=8\n",
      "[LightGBM] [Warning] bagging_fraction is set=0.9476636054626689, subsample=1.0 will be ignored. Current value: bagging_fraction=0.9476636054626689\n",
      "[LightGBM] [Warning] lambda_l1 is set=0.0024306941353027622, reg_alpha=0.0 will be ignored. Current value: lambda_l1=0.0024306941353027622\n",
      "[LightGBM] [Warning] lambda_l2 is set=1.0645884032063444e-08, reg_lambda=0.0 will be ignored. Current value: lambda_l2=1.0645884032063444e-08\n",
      "[LightGBM] [Warning] bagging_freq is set=1, subsample_freq=0 will be ignored. Current value: bagging_freq=1\n"
     ]
    },
    {
     "name": "stderr",
     "output_type": "stream",
     "text": [
      "C:\\Users\\zekus\\AppData\\Roaming\\jupyterlab-desktop\\jlab_server\\lib\\site-packages\\lightgbm\\sklearn.py:736: UserWarning: 'verbose' argument is deprecated and will be removed in a future release of LightGBM. Pass 'log_evaluation()' callback via 'callbacks' argument instead.\n",
      "  _log_warning(\"'verbose' argument is deprecated and will be removed in a future release of LightGBM. \"\n"
     ]
    },
    {
     "name": "stdout",
     "output_type": "stream",
     "text": [
      "[1000]\tvalid_0's mape: 0.656842\n",
      "[2000]\tvalid_0's mape: 0.665093\n",
      "[3000]\tvalid_0's mape: 0.668629\n",
      "[4000]\tvalid_0's mape: 0.674048\n",
      "[5000]\tvalid_0's mape: 0.675241\n",
      "MAPE : 67.52410130229825\n",
      "====================  lightgbm training fold 2  ====================\n",
      "[LightGBM] [Warning] feature_fraction is set=0.7168918229680646, colsample_bytree=1.0 will be ignored. Current value: feature_fraction=0.7168918229680646\n",
      "[LightGBM] [Warning] min_data_in_leaf is set=8, min_child_samples=20 will be ignored. Current value: min_data_in_leaf=8\n",
      "[LightGBM] [Warning] bagging_fraction is set=0.9476636054626689, subsample=1.0 will be ignored. Current value: bagging_fraction=0.9476636054626689\n",
      "[LightGBM] [Warning] lambda_l1 is set=0.0024306941353027622, reg_alpha=0.0 will be ignored. Current value: lambda_l1=0.0024306941353027622\n",
      "[LightGBM] [Warning] lambda_l2 is set=1.0645884032063444e-08, reg_lambda=0.0 will be ignored. Current value: lambda_l2=1.0645884032063444e-08\n",
      "[LightGBM] [Warning] bagging_freq is set=1, subsample_freq=0 will be ignored. Current value: bagging_freq=1\n"
     ]
    },
    {
     "name": "stderr",
     "output_type": "stream",
     "text": [
      "C:\\Users\\zekus\\AppData\\Local\\Temp\\ipykernel_11404\\3899058663.py:88: SettingWithCopyWarning: \n",
      "A value is trying to be set on a copy of a slice from a DataFrame.\n",
      "Try using .loc[row_indexer,col_indexer] = value instead\n",
      "\n",
      "See the caveats in the documentation: https://pandas.pydata.org/pandas-docs/stable/user_guide/indexing.html#returning-a-view-versus-a-copy\n",
      "  valid_folds[f\"{method}_pred\"] = valid_pred\n",
      "C:\\Users\\zekus\\AppData\\Roaming\\jupyterlab-desktop\\jlab_server\\lib\\site-packages\\lightgbm\\sklearn.py:736: UserWarning: 'verbose' argument is deprecated and will be removed in a future release of LightGBM. Pass 'log_evaluation()' callback via 'callbacks' argument instead.\n",
      "  _log_warning(\"'verbose' argument is deprecated and will be removed in a future release of LightGBM. \"\n"
     ]
    },
    {
     "name": "stdout",
     "output_type": "stream",
     "text": [
      "[1000]\tvalid_0's mape: 0.644194\n",
      "[2000]\tvalid_0's mape: 0.649869\n",
      "[3000]\tvalid_0's mape: 0.65153\n",
      "[4000]\tvalid_0's mape: 0.653775\n",
      "[5000]\tvalid_0's mape: 0.653482\n",
      "MAPE : 65.34816798482854\n",
      "====================  lightgbm training fold 3  ====================\n",
      "[LightGBM] [Warning] feature_fraction is set=0.7168918229680646, colsample_bytree=1.0 will be ignored. Current value: feature_fraction=0.7168918229680646\n",
      "[LightGBM] [Warning] min_data_in_leaf is set=8, min_child_samples=20 will be ignored. Current value: min_data_in_leaf=8\n",
      "[LightGBM] [Warning] bagging_fraction is set=0.9476636054626689, subsample=1.0 will be ignored. Current value: bagging_fraction=0.9476636054626689\n",
      "[LightGBM] [Warning] lambda_l1 is set=0.0024306941353027622, reg_alpha=0.0 will be ignored. Current value: lambda_l1=0.0024306941353027622\n",
      "[LightGBM] [Warning] lambda_l2 is set=1.0645884032063444e-08, reg_lambda=0.0 will be ignored. Current value: lambda_l2=1.0645884032063444e-08\n",
      "[LightGBM] [Warning] bagging_freq is set=1, subsample_freq=0 will be ignored. Current value: bagging_freq=1\n"
     ]
    },
    {
     "name": "stderr",
     "output_type": "stream",
     "text": [
      "C:\\Users\\zekus\\AppData\\Local\\Temp\\ipykernel_11404\\3899058663.py:88: SettingWithCopyWarning: \n",
      "A value is trying to be set on a copy of a slice from a DataFrame.\n",
      "Try using .loc[row_indexer,col_indexer] = value instead\n",
      "\n",
      "See the caveats in the documentation: https://pandas.pydata.org/pandas-docs/stable/user_guide/indexing.html#returning-a-view-versus-a-copy\n",
      "  valid_folds[f\"{method}_pred\"] = valid_pred\n",
      "C:\\Users\\zekus\\AppData\\Roaming\\jupyterlab-desktop\\jlab_server\\lib\\site-packages\\lightgbm\\sklearn.py:736: UserWarning: 'verbose' argument is deprecated and will be removed in a future release of LightGBM. Pass 'log_evaluation()' callback via 'callbacks' argument instead.\n",
      "  _log_warning(\"'verbose' argument is deprecated and will be removed in a future release of LightGBM. \"\n"
     ]
    },
    {
     "name": "stdout",
     "output_type": "stream",
     "text": [
      "[1000]\tvalid_0's mape: 0.63636\n",
      "[2000]\tvalid_0's mape: 0.644207\n",
      "[3000]\tvalid_0's mape: 0.645926\n",
      "[4000]\tvalid_0's mape: 0.652612\n",
      "[5000]\tvalid_0's mape: 0.653093\n",
      "MAPE : 65.30929560650256\n",
      "====================  lightgbm training fold 4  ====================\n",
      "[LightGBM] [Warning] feature_fraction is set=0.7168918229680646, colsample_bytree=1.0 will be ignored. Current value: feature_fraction=0.7168918229680646\n",
      "[LightGBM] [Warning] min_data_in_leaf is set=8, min_child_samples=20 will be ignored. Current value: min_data_in_leaf=8\n",
      "[LightGBM] [Warning] bagging_fraction is set=0.9476636054626689, subsample=1.0 will be ignored. Current value: bagging_fraction=0.9476636054626689\n",
      "[LightGBM] [Warning] lambda_l1 is set=0.0024306941353027622, reg_alpha=0.0 will be ignored. Current value: lambda_l1=0.0024306941353027622\n",
      "[LightGBM] [Warning] lambda_l2 is set=1.0645884032063444e-08, reg_lambda=0.0 will be ignored. Current value: lambda_l2=1.0645884032063444e-08\n",
      "[LightGBM] [Warning] bagging_freq is set=1, subsample_freq=0 will be ignored. Current value: bagging_freq=1\n"
     ]
    },
    {
     "name": "stderr",
     "output_type": "stream",
     "text": [
      "C:\\Users\\zekus\\AppData\\Local\\Temp\\ipykernel_11404\\3899058663.py:88: SettingWithCopyWarning: \n",
      "A value is trying to be set on a copy of a slice from a DataFrame.\n",
      "Try using .loc[row_indexer,col_indexer] = value instead\n",
      "\n",
      "See the caveats in the documentation: https://pandas.pydata.org/pandas-docs/stable/user_guide/indexing.html#returning-a-view-versus-a-copy\n",
      "  valid_folds[f\"{method}_pred\"] = valid_pred\n",
      "C:\\Users\\zekus\\AppData\\Roaming\\jupyterlab-desktop\\jlab_server\\lib\\site-packages\\lightgbm\\sklearn.py:736: UserWarning: 'verbose' argument is deprecated and will be removed in a future release of LightGBM. Pass 'log_evaluation()' callback via 'callbacks' argument instead.\n",
      "  _log_warning(\"'verbose' argument is deprecated and will be removed in a future release of LightGBM. \"\n"
     ]
    },
    {
     "name": "stdout",
     "output_type": "stream",
     "text": [
      "[1000]\tvalid_0's mape: 0.657525\n",
      "[2000]\tvalid_0's mape: 0.666485\n",
      "[3000]\tvalid_0's mape: 0.669233\n",
      "[4000]\tvalid_0's mape: 0.67464\n",
      "[5000]\tvalid_0's mape: 0.673239\n",
      "MAPE : 67.32391918696865\n",
      "====================  lightgbm training fold 5  ====================\n",
      "[LightGBM] [Warning] feature_fraction is set=0.7168918229680646, colsample_bytree=1.0 will be ignored. Current value: feature_fraction=0.7168918229680646\n",
      "[LightGBM] [Warning] min_data_in_leaf is set=8, min_child_samples=20 will be ignored. Current value: min_data_in_leaf=8\n",
      "[LightGBM] [Warning] bagging_fraction is set=0.9476636054626689, subsample=1.0 will be ignored. Current value: bagging_fraction=0.9476636054626689\n",
      "[LightGBM] [Warning] lambda_l1 is set=0.0024306941353027622, reg_alpha=0.0 will be ignored. Current value: lambda_l1=0.0024306941353027622\n",
      "[LightGBM] [Warning] lambda_l2 is set=1.0645884032063444e-08, reg_lambda=0.0 will be ignored. Current value: lambda_l2=1.0645884032063444e-08\n",
      "[LightGBM] [Warning] bagging_freq is set=1, subsample_freq=0 will be ignored. Current value: bagging_freq=1\n"
     ]
    },
    {
     "name": "stderr",
     "output_type": "stream",
     "text": [
      "C:\\Users\\zekus\\AppData\\Local\\Temp\\ipykernel_11404\\3899058663.py:88: SettingWithCopyWarning: \n",
      "A value is trying to be set on a copy of a slice from a DataFrame.\n",
      "Try using .loc[row_indexer,col_indexer] = value instead\n",
      "\n",
      "See the caveats in the documentation: https://pandas.pydata.org/pandas-docs/stable/user_guide/indexing.html#returning-a-view-versus-a-copy\n",
      "  valid_folds[f\"{method}_pred\"] = valid_pred\n",
      "C:\\Users\\zekus\\AppData\\Roaming\\jupyterlab-desktop\\jlab_server\\lib\\site-packages\\lightgbm\\sklearn.py:736: UserWarning: 'verbose' argument is deprecated and will be removed in a future release of LightGBM. Pass 'log_evaluation()' callback via 'callbacks' argument instead.\n",
      "  _log_warning(\"'verbose' argument is deprecated and will be removed in a future release of LightGBM. \"\n"
     ]
    },
    {
     "name": "stdout",
     "output_type": "stream",
     "text": [
      "[1000]\tvalid_0's mape: 0.643213\n",
      "[2000]\tvalid_0's mape: 0.649195\n",
      "[3000]\tvalid_0's mape: 0.650283\n",
      "[4000]\tvalid_0's mape: 0.653218\n",
      "[5000]\tvalid_0's mape: 0.651674\n",
      "MAPE : 65.1673805552695\n",
      "Mean Score 66.1345729271735\n",
      "MAPE : 66.13459483344376\n"
     ]
    },
    {
     "name": "stderr",
     "output_type": "stream",
     "text": [
      "C:\\Users\\zekus\\AppData\\Local\\Temp\\ipykernel_11404\\3899058663.py:88: SettingWithCopyWarning: \n",
      "A value is trying to be set on a copy of a slice from a DataFrame.\n",
      "Try using .loc[row_indexer,col_indexer] = value instead\n",
      "\n",
      "See the caveats in the documentation: https://pandas.pydata.org/pandas-docs/stable/user_guide/indexing.html#returning-a-view-versus-a-copy\n",
      "  valid_folds[f\"{method}_pred\"] = valid_pred\n"
     ]
    }
   ],
   "source": [
    "cv_training(\"lightgbm\", train_df, train_x.columns, object_columns)"
   ]
  },
  {
   "cell_type": "code",
   "execution_count": 24,
   "id": "1bccf83f-75e6-4647-be93-6b1fca0783d3",
   "metadata": {},
   "outputs": [
    {
     "name": "stderr",
     "output_type": "stream",
     "text": [
      "C:\\Users\\zekus\\AppData\\Local\\Temp\\ipykernel_11404\\2916878714.py:1: SettingWithCopyWarning: \n",
      "A value is trying to be set on a copy of a slice from a DataFrame.\n",
      "Try using .loc[row_indexer,col_indexer] = value instead\n",
      "\n",
      "See the caveats in the documentation: https://pandas.pydata.org/pandas-docs/stable/user_guide/indexing.html#returning-a-view-versus-a-copy\n",
      "  test_df[\"lightGBM_pred\"] = model_inference(\"lightgbm\",test_df ,train_x.columns, object_columns)\n"
     ]
    }
   ],
   "source": [
    "test_df[\"lightGBM_pred\"] = model_inference(\"lightgbm\",test_df ,train_x.columns, object_columns)"
   ]
  },
  {
   "cell_type": "code",
   "execution_count": 25,
   "id": "762375c1-a493-4112-84eb-107dd26a7834",
   "metadata": {},
   "outputs": [
    {
     "data": {
      "text/html": [
       "<div>\n",
       "<style scoped>\n",
       "    .dataframe tbody tr th:only-of-type {\n",
       "        vertical-align: middle;\n",
       "    }\n",
       "\n",
       "    .dataframe tbody tr th {\n",
       "        vertical-align: top;\n",
       "    }\n",
       "\n",
       "    .dataframe thead th {\n",
       "        text-align: right;\n",
       "    }\n",
       "</style>\n",
       "<table border=\"1\" class=\"dataframe\">\n",
       "  <thead>\n",
       "    <tr style=\"text-align: right;\">\n",
       "      <th></th>\n",
       "      <th>id</th>\n",
       "      <th>lightGBM_pred</th>\n",
       "    </tr>\n",
       "  </thead>\n",
       "  <tbody>\n",
       "    <tr>\n",
       "      <th>0</th>\n",
       "      <td>27532</td>\n",
       "      <td>15464.204759</td>\n",
       "    </tr>\n",
       "    <tr>\n",
       "      <th>1</th>\n",
       "      <td>27533</td>\n",
       "      <td>9147.827824</td>\n",
       "    </tr>\n",
       "    <tr>\n",
       "      <th>2</th>\n",
       "      <td>27534</td>\n",
       "      <td>7069.237286</td>\n",
       "    </tr>\n",
       "    <tr>\n",
       "      <th>3</th>\n",
       "      <td>27535</td>\n",
       "      <td>21097.024586</td>\n",
       "    </tr>\n",
       "    <tr>\n",
       "      <th>4</th>\n",
       "      <td>27536</td>\n",
       "      <td>9047.368360</td>\n",
       "    </tr>\n",
       "    <tr>\n",
       "      <th>5</th>\n",
       "      <td>27537</td>\n",
       "      <td>17962.269922</td>\n",
       "    </tr>\n",
       "    <tr>\n",
       "      <th>6</th>\n",
       "      <td>27538</td>\n",
       "      <td>5672.428511</td>\n",
       "    </tr>\n",
       "    <tr>\n",
       "      <th>7</th>\n",
       "      <td>27539</td>\n",
       "      <td>12562.746328</td>\n",
       "    </tr>\n",
       "    <tr>\n",
       "      <th>8</th>\n",
       "      <td>27540</td>\n",
       "      <td>8848.937646</td>\n",
       "    </tr>\n",
       "    <tr>\n",
       "      <th>9</th>\n",
       "      <td>27541</td>\n",
       "      <td>7758.478275</td>\n",
       "    </tr>\n",
       "  </tbody>\n",
       "</table>\n",
       "</div>"
      ],
      "text/plain": [
       "      id  lightGBM_pred\n",
       "0  27532   15464.204759\n",
       "1  27533    9147.827824\n",
       "2  27534    7069.237286\n",
       "3  27535   21097.024586\n",
       "4  27536    9047.368360\n",
       "5  27537   17962.269922\n",
       "6  27538    5672.428511\n",
       "7  27539   12562.746328\n",
       "8  27540    8848.937646\n",
       "9  27541    7758.478275"
      ]
     },
     "execution_count": 25,
     "metadata": {},
     "output_type": "execute_result"
    }
   ],
   "source": [
    "sub = sub[[\"id\"]].merge(test_df[[\"id\",\"lightGBM_pred\"]], how=\"left\", on=\"id\")\n",
    "sub.to_csv(\"submission.csv\",index=False, header=False)\n",
    "sub[[\"id\",\"lightGBM_pred\"]].head(10)"
   ]
  },
  {
   "cell_type": "code",
   "execution_count": null,
   "id": "358f2884-dc64-436a-adab-0c04483276da",
   "metadata": {},
   "outputs": [],
   "source": []
  },
  {
   "cell_type": "code",
   "execution_count": null,
   "id": "000a5468-3b23-40e6-917a-eafe7fa243e8",
   "metadata": {},
   "outputs": [],
   "source": []
  },
  {
   "cell_type": "code",
   "execution_count": null,
   "id": "b9e4dcdb-64f9-4393-b29f-be8c2960aea3",
   "metadata": {},
   "outputs": [],
   "source": []
  },
  {
   "cell_type": "code",
   "execution_count": null,
   "id": "9d147c8c-b1cd-4a88-8b6d-f3e5ca6c24ad",
   "metadata": {},
   "outputs": [],
   "source": []
  },
  {
   "cell_type": "code",
   "execution_count": null,
   "id": "e22bb63a-c047-4812-9532-2da5ed80f723",
   "metadata": {},
   "outputs": [],
   "source": []
  },
  {
   "cell_type": "code",
   "execution_count": null,
   "id": "b8131672-b391-4a22-915a-ab09b7f3c368",
   "metadata": {},
   "outputs": [],
   "source": []
  },
  {
   "cell_type": "code",
   "execution_count": null,
   "id": "446feca2-b7a3-4911-aa67-99a0d247ec94",
   "metadata": {},
   "outputs": [],
   "source": []
  },
  {
   "cell_type": "code",
   "execution_count": null,
   "id": "ce834b55-ed81-45f5-a7bc-dd7f2294639f",
   "metadata": {},
   "outputs": [],
   "source": []
  },
  {
   "cell_type": "code",
   "execution_count": null,
   "id": "370921ef-5532-4083-a216-43dc8725488e",
   "metadata": {},
   "outputs": [],
   "source": []
  },
  {
   "cell_type": "code",
   "execution_count": null,
   "id": "ff1a9d5f-7b11-4211-8512-fcc391c319e3",
   "metadata": {},
   "outputs": [],
   "source": []
  }
 ],
 "metadata": {
  "kernelspec": {
   "display_name": "Python 3 (ipykernel)",
   "language": "python",
   "name": "python3"
  },
  "language_info": {
   "codemirror_mode": {
    "name": "ipython",
    "version": 3
   },
   "file_extension": ".py",
   "mimetype": "text/x-python",
   "name": "python",
   "nbconvert_exporter": "python",
   "pygments_lexer": "ipython3",
   "version": "3.8.16"
  }
 },
 "nbformat": 4,
 "nbformat_minor": 5
}
