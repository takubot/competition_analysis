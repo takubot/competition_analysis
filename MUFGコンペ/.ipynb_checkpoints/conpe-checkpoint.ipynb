{
 "cells": [
  {
   "cell_type": "code",
   "execution_count": null,
   "id": "a3c116f9-7147-436b-8377-5a024fd55d47",
   "metadata": {},
   "outputs": [],
   "source": [
    "import pandas as pd\n",
    "import matplotlib.pyplot as plt\n",
    "import seaborn as sns\n",
    "import numpy as np\n",
    "import urllib\n",
    "import requests\n",
    "import time\n",
    "import japanize_matplotlib\n",
    "from sklearn.metrics import mean_squared_error\n",
    "from scipy import stats as st\n",
    "from sklearn.model_selection import GridSearchCV\n",
    "from sklearn.ensemble import RandomForestRegressor\n",
    "from sklearn.model_selection import cross_val_score\n",
    "from sklearn.ensemble import RandomForestRegressor\n",
    "from sklearn.metrics import median_absolute_error\n",
    "from sklearn.preprocessing import LabelEncoder\n",
    "import pickle\n",
    "import os\n",
    "import lightgbm as lgb\n",
    "import unicodedata\n",
    "from sklearn.model_selection import train_test_split,KFold,GroupKFold"
   ]
  },
  {
   "cell_type": "code",
   "execution_count": null,
   "id": "4f360a54-a62e-4d0e-a888-29f09b8603fd",
   "metadata": {},
   "outputs": [],
   "source": []
  }
 ],
 "metadata": {
  "kernelspec": {
   "display_name": "Python 3 (ipykernel)",
   "language": "python",
   "name": "python3"
  },
  "language_info": {
   "codemirror_mode": {
    "name": "ipython",
    "version": 3
   },
   "file_extension": ".py",
   "mimetype": "text/x-python",
   "name": "python",
   "nbconvert_exporter": "python",
   "pygments_lexer": "ipython3",
   "version": "3.8.16"
  }
 },
 "nbformat": 4,
 "nbformat_minor": 5
}
